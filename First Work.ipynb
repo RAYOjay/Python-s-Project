{
 "cells": [
  {
   "cell_type": "code",
   "execution_count": 1,
   "id": "31d5b35a-f933-4c47-960d-40117dd58538",
   "metadata": {},
   "outputs": [],
   "source": [
    "import numpy as np"
   ]
  },
  {
   "cell_type": "code",
   "execution_count": 2,
   "id": "42d22b90-8542-4fcd-9e2f-954898bd787d",
   "metadata": {},
   "outputs": [],
   "source": [
    "scores = [3,4,5,6,7]"
   ]
  },
  {
   "cell_type": "markdown",
   "id": "3ec80cf9-a5c4-4692-aa1a-458e62b5f3f7",
   "metadata": {},
   "source": [
    "## to use numpy use as(alias) np.array"
   ]
  },
  {
   "cell_type": "code",
   "execution_count": 3,
   "id": "beb985a1-40b6-449a-aa00-c665c7f3de68",
   "metadata": {},
   "outputs": [],
   "source": [
    "numbers =np.array ([3,4,5,6,7])"
   ]
  },
  {
   "cell_type": "code",
   "execution_count": 4,
   "id": "689f7a4d-8397-4729-bb45-15da83fd414c",
   "metadata": {},
   "outputs": [
    {
     "data": {
      "text/plain": [
       "list"
      ]
     },
     "execution_count": 4,
     "metadata": {},
     "output_type": "execute_result"
    }
   ],
   "source": [
    "type(scores)"
   ]
  },
  {
   "cell_type": "code",
   "execution_count": 5,
   "id": "8f789ca3-de84-4829-b83c-13c232b61262",
   "metadata": {},
   "outputs": [
    {
     "data": {
      "text/plain": [
       "numpy.ndarray"
      ]
     },
     "execution_count": 5,
     "metadata": {},
     "output_type": "execute_result"
    }
   ],
   "source": [
    "type(numbers)"
   ]
  },
  {
   "cell_type": "code",
   "execution_count": 6,
   "id": "142ed4ec-5c84-4eaa-862f-a982efc2073a",
   "metadata": {},
   "outputs": [
    {
     "name": "stdout",
     "output_type": "stream",
     "text": [
      "[30, 40, 50, 60, 70]\n"
     ]
    }
   ],
   "source": [
    "scores_ = []\n",
    "for num in scores:\n",
    "    scores_.append(num*10)\n",
    "print(scores_)"
   ]
  },
  {
   "cell_type": "markdown",
   "id": "8b3dc5af-d130-447f-aab4-a27f8c46c0d5",
   "metadata": {},
   "source": [
    "### A list can tae multiple data type"
   ]
  },
  {
   "cell_type": "code",
   "execution_count": 7,
   "id": "5870c465-9bc7-4716-8827-a7343d6b6d76",
   "metadata": {},
   "outputs": [],
   "source": [
    "age = [12,67,'gh']"
   ]
  },
  {
   "cell_type": "code",
   "execution_count": 8,
   "id": "95857d2a-c2fd-4880-a7e6-c644db14e896",
   "metadata": {},
   "outputs": [],
   "source": [
    "age = np.array([12,67,'gh']) #NUmpy array can only be of a single data type"
   ]
  },
  {
   "cell_type": "code",
   "execution_count": 9,
   "id": "f824c566-113b-407d-938b-ebe688cbda2b",
   "metadata": {},
   "outputs": [
    {
     "data": {
      "text/plain": [
       "array(['12', '67', 'gh'], dtype='<U11')"
      ]
     },
     "execution_count": 9,
     "metadata": {},
     "output_type": "execute_result"
    }
   ],
   "source": [
    "age"
   ]
  },
  {
   "cell_type": "code",
   "execution_count": 10,
   "id": "c790a9a4-8095-4117-920f-7f1e435f8b12",
   "metadata": {},
   "outputs": [],
   "source": [
    "weights = np.array([45,23,32], dtype=float) # the float specifics the particular data type to be inputed"
   ]
  },
  {
   "cell_type": "code",
   "execution_count": 11,
   "id": "eb987750-aad0-463f-a80f-96ab43e02b16",
   "metadata": {},
   "outputs": [
    {
     "data": {
      "text/plain": [
       "array([45., 23., 32.])"
      ]
     },
     "execution_count": 11,
     "metadata": {},
     "output_type": "execute_result"
    }
   ],
   "source": [
    "weights"
   ]
  },
  {
   "cell_type": "code",
   "execution_count": 12,
   "id": "6b293919-99d9-406b-ba9e-d033383b6701",
   "metadata": {},
   "outputs": [],
   "source": [
    "weights = np.array([45,23,32], dtype=int)"
   ]
  },
  {
   "cell_type": "code",
   "execution_count": 13,
   "id": "4444e516-9276-4289-a8cb-37eacdc1067b",
   "metadata": {},
   "outputs": [
    {
     "data": {
      "text/plain": [
       "array([45, 23, 32])"
      ]
     },
     "execution_count": 13,
     "metadata": {},
     "output_type": "execute_result"
    }
   ],
   "source": [
    "weights"
   ]
  },
  {
   "cell_type": "code",
   "execution_count": 14,
   "id": "c4db3553-156a-4d8e-83c9-80b1e4c50eb8",
   "metadata": {},
   "outputs": [
    {
     "data": {
      "text/plain": [
       "1"
      ]
     },
     "execution_count": 14,
     "metadata": {},
     "output_type": "execute_result"
    }
   ],
   "source": [
    "age.ndim ## check the dimension"
   ]
  },
  {
   "cell_type": "markdown",
   "id": "8600f069-a6a3-4830-8bd3-5b5c18d0d704",
   "metadata": {},
   "source": [
    "## TWO DIMENSIONSAL ARRAY"
   ]
  },
  {
   "cell_type": "code",
   "execution_count": 15,
   "id": "bf129229-d8fb-4c0a-87f6-762e71bb05c6",
   "metadata": {},
   "outputs": [
    {
     "data": {
      "text/plain": [
       "numpy.ndarray"
      ]
     },
     "execution_count": 15,
     "metadata": {},
     "output_type": "execute_result"
    }
   ],
   "source": [
    "type(weights)"
   ]
  },
  {
   "cell_type": "code",
   "execution_count": 16,
   "id": "77092d3a-1216-410f-8c43-1bc479a41b20",
   "metadata": {},
   "outputs": [],
   "source": [
    "x =np.array([[2,3,4,5],[2,4,6,8]])"
   ]
  },
  {
   "cell_type": "code",
   "execution_count": 17,
   "id": "c2f83afe-9977-4169-b34d-2a7731fc8e71",
   "metadata": {},
   "outputs": [
    {
     "data": {
      "text/plain": [
       "array([[2, 3, 4, 5],\n",
       "       [2, 4, 6, 8]])"
      ]
     },
     "execution_count": 17,
     "metadata": {},
     "output_type": "execute_result"
    }
   ],
   "source": [
    "x"
   ]
  },
  {
   "cell_type": "code",
   "execution_count": 18,
   "id": "b5ea3be2-cdac-4fd5-a5da-3aea8527cc54",
   "metadata": {},
   "outputs": [
    {
     "data": {
      "text/plain": [
       "2"
      ]
     },
     "execution_count": 18,
     "metadata": {},
     "output_type": "execute_result"
    }
   ],
   "source": [
    "x.ndim"
   ]
  },
  {
   "cell_type": "code",
   "execution_count": 19,
   "id": "0bfd5f6a-e887-48d7-abc9-7981eb499b8e",
   "metadata": {},
   "outputs": [
    {
     "data": {
      "text/plain": [
       "(2, 4)"
      ]
     },
     "execution_count": 19,
     "metadata": {},
     "output_type": "execute_result"
    }
   ],
   "source": [
    "x.shape"
   ]
  },
  {
   "cell_type": "code",
   "execution_count": 20,
   "id": "d40191bd-8927-4740-9bd3-5f292a541774",
   "metadata": {},
   "outputs": [],
   "source": [
    "y = np.array ([[6,4,5,6],[4,5,6,7],[4,5,6,7]])"
   ]
  },
  {
   "cell_type": "code",
   "execution_count": 21,
   "id": "4868af8e-962e-40ae-bece-2cf1c2f25c76",
   "metadata": {},
   "outputs": [
    {
     "data": {
      "text/plain": [
       "array([[6, 4, 5, 6],\n",
       "       [4, 5, 6, 7],\n",
       "       [4, 5, 6, 7]])"
      ]
     },
     "execution_count": 21,
     "metadata": {},
     "output_type": "execute_result"
    }
   ],
   "source": [
    "y"
   ]
  },
  {
   "cell_type": "code",
   "execution_count": 22,
   "id": "c61a1e9d-fb0a-4fe9-8e29-0cae92e96abd",
   "metadata": {},
   "outputs": [
    {
     "data": {
      "text/plain": [
       "2"
      ]
     },
     "execution_count": 22,
     "metadata": {},
     "output_type": "execute_result"
    }
   ],
   "source": [
    "y.ndim"
   ]
  },
  {
   "cell_type": "code",
   "execution_count": 23,
   "id": "38ac21d6-be65-45f3-80b3-6a7df3c554c7",
   "metadata": {},
   "outputs": [
    {
     "data": {
      "text/plain": [
       "(3, 4)"
      ]
     },
     "execution_count": 23,
     "metadata": {},
     "output_type": "execute_result"
    }
   ],
   "source": [
    "y.shape"
   ]
  },
  {
   "cell_type": "code",
   "execution_count": 24,
   "id": "c05ac87b-ffcc-46e0-a0c6-9dcfe386bebf",
   "metadata": {},
   "outputs": [],
   "source": [
    "a = np.array ([[[1,5,6,7],[8,6,6,8],[4,7,5,4]]])"
   ]
  },
  {
   "cell_type": "code",
   "execution_count": 25,
   "id": "2ea9ba87-5a49-4cb2-a990-eace42d3788a",
   "metadata": {},
   "outputs": [
    {
     "data": {
      "text/plain": [
       "array([[[1, 5, 6, 7],\n",
       "        [8, 6, 6, 8],\n",
       "        [4, 7, 5, 4]]])"
      ]
     },
     "execution_count": 25,
     "metadata": {},
     "output_type": "execute_result"
    }
   ],
   "source": [
    "a"
   ]
  },
  {
   "cell_type": "code",
   "execution_count": 26,
   "id": "2ccee91d-5913-4fe8-9078-724466ce3d71",
   "metadata": {},
   "outputs": [
    {
     "data": {
      "text/plain": [
       "3"
      ]
     },
     "execution_count": 26,
     "metadata": {},
     "output_type": "execute_result"
    }
   ],
   "source": [
    "a.ndim"
   ]
  },
  {
   "cell_type": "code",
   "execution_count": 27,
   "id": "f3fd00a0-4118-4cbd-af76-eb80633ecb54",
   "metadata": {},
   "outputs": [
    {
     "data": {
      "text/plain": [
       "(1, 3, 4)"
      ]
     },
     "execution_count": 27,
     "metadata": {},
     "output_type": "execute_result"
    }
   ],
   "source": [
    "a.shape"
   ]
  },
  {
   "cell_type": "code",
   "execution_count": 28,
   "id": "5c5bc588-83f1-4f9d-8076-794aeb513186",
   "metadata": {},
   "outputs": [],
   "source": [
    "v= np.array ([[1,2,3],[3,4,5],[5,6,7],[7,8,9]])"
   ]
  },
  {
   "cell_type": "code",
   "execution_count": 29,
   "id": "01a909d0-61f5-45cd-93a5-c98c36b17874",
   "metadata": {},
   "outputs": [
    {
     "data": {
      "text/plain": [
       "array([[1, 2, 3],\n",
       "       [3, 4, 5],\n",
       "       [5, 6, 7],\n",
       "       [7, 8, 9]])"
      ]
     },
     "execution_count": 29,
     "metadata": {},
     "output_type": "execute_result"
    }
   ],
   "source": [
    "v"
   ]
  },
  {
   "cell_type": "code",
   "execution_count": 30,
   "id": "3ea09956-2639-4df0-8ba1-4c0faccfd448",
   "metadata": {},
   "outputs": [
    {
     "data": {
      "text/plain": [
       "2"
      ]
     },
     "execution_count": 30,
     "metadata": {},
     "output_type": "execute_result"
    }
   ],
   "source": [
    "v.ndim"
   ]
  },
  {
   "cell_type": "code",
   "execution_count": 31,
   "id": "977a5c9e-e2d7-4d96-a04f-382f1b2d70ce",
   "metadata": {},
   "outputs": [
    {
     "data": {
      "text/plain": [
       "(4, 3)"
      ]
     },
     "execution_count": 31,
     "metadata": {},
     "output_type": "execute_result"
    }
   ],
   "source": [
    "v.shape"
   ]
  },
  {
   "cell_type": "code",
   "execution_count": 32,
   "id": "dec91c2b-082e-4b47-99d9-1759338756b6",
   "metadata": {},
   "outputs": [],
   "source": [
    "scores = np.array([3,4,5,6])"
   ]
  },
  {
   "cell_type": "code",
   "execution_count": 33,
   "id": "75956f79-cd86-4b45-ba0f-28e793ba75df",
   "metadata": {},
   "outputs": [
    {
     "data": {
      "text/plain": [
       "4"
      ]
     },
     "execution_count": 33,
     "metadata": {},
     "output_type": "execute_result"
    }
   ],
   "source": [
    "len(scores) #length of value"
   ]
  },
  {
   "cell_type": "code",
   "execution_count": 34,
   "id": "5f04c456-bc9e-4ca6-b3ce-433845d3cd63",
   "metadata": {},
   "outputs": [
    {
     "data": {
      "text/plain": [
       "4"
      ]
     },
     "execution_count": 34,
     "metadata": {},
     "output_type": "execute_result"
    }
   ],
   "source": [
    "scores.size"
   ]
  },
  {
   "cell_type": "code",
   "execution_count": 35,
   "id": "d94a4887-b2a4-4708-8beb-9b57088dd887",
   "metadata": {},
   "outputs": [
    {
     "data": {
      "text/plain": [
       "numpy.ndarray"
      ]
     },
     "execution_count": 35,
     "metadata": {},
     "output_type": "execute_result"
    }
   ],
   "source": [
    "type(scores)"
   ]
  },
  {
   "cell_type": "code",
   "execution_count": 36,
   "id": "641bd307-a85b-4285-b567-e14275e602c2",
   "metadata": {},
   "outputs": [
    {
     "data": {
      "text/plain": [
       "dtype('int32')"
      ]
     },
     "execution_count": 36,
     "metadata": {},
     "output_type": "execute_result"
    }
   ],
   "source": [
    "scores.dtype"
   ]
  },
  {
   "cell_type": "code",
   "execution_count": 37,
   "id": "818df777-3755-47b1-9374-9d867b46fec7",
   "metadata": {},
   "outputs": [],
   "source": [
    "scores = scores.astype ('int') # you can change the data type to either float or integer"
   ]
  },
  {
   "cell_type": "code",
   "execution_count": 38,
   "id": "221c10d8-8b53-4d4f-8152-313569226dae",
   "metadata": {},
   "outputs": [
    {
     "data": {
      "text/plain": [
       "array([3, 4, 5, 6])"
      ]
     },
     "execution_count": 38,
     "metadata": {},
     "output_type": "execute_result"
    }
   ],
   "source": [
    "scores"
   ]
  },
  {
   "cell_type": "code",
   "execution_count": 39,
   "id": "71641335-3941-40ad-895e-cd13112afa4c",
   "metadata": {},
   "outputs": [
    {
     "data": {
      "text/plain": [
       "3"
      ]
     },
     "execution_count": 39,
     "metadata": {},
     "output_type": "execute_result"
    }
   ],
   "source": [
    "scores [0]"
   ]
  },
  {
   "cell_type": "code",
   "execution_count": 40,
   "id": "d7113cba-4e7c-4550-98be-31d638e8c225",
   "metadata": {},
   "outputs": [
    {
     "data": {
      "text/plain": [
       "6"
      ]
     },
     "execution_count": 40,
     "metadata": {},
     "output_type": "execute_result"
    }
   ],
   "source": [
    "scores [-1]"
   ]
  },
  {
   "cell_type": "code",
   "execution_count": 41,
   "id": "e18c566c-0665-414e-8e76-d7aa6a6606e4",
   "metadata": {},
   "outputs": [
    {
     "data": {
      "text/plain": [
       "array([4, 5])"
      ]
     },
     "execution_count": 41,
     "metadata": {},
     "output_type": "execute_result"
    }
   ],
   "source": [
    "scores [1:3]"
   ]
  },
  {
   "cell_type": "markdown",
   "id": "d76916ba-dc7f-4926-8c52-c26505d4e5c8",
   "metadata": {},
   "source": [
    "## Indicing / slicing"
   ]
  },
  {
   "cell_type": "code",
   "execution_count": 42,
   "id": "23bf39b2-a0fa-4d8f-bb67-111dee7a0347",
   "metadata": {},
   "outputs": [],
   "source": [
    "x = np.array ([[2,3,4,5], [2,4,6,8]])"
   ]
  },
  {
   "cell_type": "code",
   "execution_count": 43,
   "id": "34eccc1f-b99c-43de-903d-e9bc8c50a828",
   "metadata": {},
   "outputs": [
    {
     "data": {
      "text/plain": [
       "array([2, 3, 4, 5])"
      ]
     },
     "execution_count": 43,
     "metadata": {},
     "output_type": "execute_result"
    }
   ],
   "source": [
    "x[0] # this extracts the first set or first column"
   ]
  },
  {
   "cell_type": "code",
   "execution_count": 44,
   "id": "1a9f6ec2-e4b9-49b9-b106-74771ff0d279",
   "metadata": {},
   "outputs": [
    {
     "data": {
      "text/plain": [
       "array([2, 4, 6, 8])"
      ]
     },
     "execution_count": 44,
     "metadata": {},
     "output_type": "execute_result"
    }
   ],
   "source": [
    "x[1]"
   ]
  },
  {
   "cell_type": "code",
   "execution_count": 45,
   "id": "d63f1fc2-60dc-4e86-8e3d-045b3510fb6e",
   "metadata": {},
   "outputs": [
    {
     "data": {
      "text/plain": [
       "2"
      ]
     },
     "execution_count": 45,
     "metadata": {},
     "output_type": "execute_result"
    }
   ],
   "source": [
    "x[0,0] # this extracts the first column series and the first number in the column"
   ]
  },
  {
   "cell_type": "code",
   "execution_count": 46,
   "id": "983a5227-c127-4268-aeb2-ebbda94f7816",
   "metadata": {},
   "outputs": [
    {
     "data": {
      "text/plain": [
       "5"
      ]
     },
     "execution_count": 46,
     "metadata": {},
     "output_type": "execute_result"
    }
   ],
   "source": [
    "x[0,-1]"
   ]
  },
  {
   "cell_type": "code",
   "execution_count": 47,
   "id": "590e2b20-12b4-4b1b-a4ae-fe20509a7ec0",
   "metadata": {},
   "outputs": [
    {
     "data": {
      "text/plain": [
       "8"
      ]
     },
     "execution_count": 47,
     "metadata": {},
     "output_type": "execute_result"
    }
   ],
   "source": [
    "x[1,-1]"
   ]
  },
  {
   "cell_type": "code",
   "execution_count": 48,
   "id": "0dab4390-4776-4be2-a2aa-ca77bebdaf8f",
   "metadata": {},
   "outputs": [
    {
     "data": {
      "text/plain": [
       "4"
      ]
     },
     "execution_count": 48,
     "metadata": {},
     "output_type": "execute_result"
    }
   ],
   "source": [
    "x[1,-3]"
   ]
  },
  {
   "cell_type": "code",
   "execution_count": 49,
   "id": "66fcbccd-8bba-4861-9abe-f88912e4d070",
   "metadata": {},
   "outputs": [
    {
     "data": {
      "text/plain": [
       "array([4, 6])"
      ]
     },
     "execution_count": 49,
     "metadata": {},
     "output_type": "execute_result"
    }
   ],
   "source": [
    "x[:,2] # the colon extracts more than one sets /column"
   ]
  },
  {
   "cell_type": "code",
   "execution_count": 50,
   "id": "656b693d-3c1a-46f3-bb10-d312592662b3",
   "metadata": {},
   "outputs": [
    {
     "data": {
      "text/plain": [
       "array([[3, 4],\n",
       "       [4, 6]])"
      ]
     },
     "execution_count": 50,
     "metadata": {},
     "output_type": "execute_result"
    }
   ],
   "source": [
    "x[:,1:3] # this is to extract two numbers from two different columns e.g 3 & 4  from the first colun and 4 & 6 from the second row"
   ]
  },
  {
   "cell_type": "markdown",
   "id": "e7bb703b-b733-46b1-b1aa-68e4ccec176e",
   "metadata": {},
   "source": [
    "## Boolean Indexing"
   ]
  },
  {
   "cell_type": "code",
   "execution_count": 51,
   "id": "6cf83dd0-bcb4-4278-8dc4-efb1e71a6232",
   "metadata": {},
   "outputs": [
    {
     "data": {
      "text/plain": [
       "array([3, 4, 5, 4, 6, 8])"
      ]
     },
     "execution_count": 51,
     "metadata": {},
     "output_type": "execute_result"
    }
   ],
   "source": [
    "x[x > 2] # a command that extracts from array of numbers greater than two"
   ]
  },
  {
   "cell_type": "code",
   "execution_count": 52,
   "id": "eb5963d1-69ec-4fc4-945a-ce78fc3fc0fe",
   "metadata": {},
   "outputs": [
    {
     "data": {
      "text/plain": [
       "array([2, 3, 4, 5, 2, 4])"
      ]
     },
     "execution_count": 52,
     "metadata": {},
     "output_type": "execute_result"
    }
   ],
   "source": [
    "x[x <= 5] # a command that extracts from array of numbers lesser tham or equal to 5"
   ]
  },
  {
   "cell_type": "code",
   "execution_count": 53,
   "id": "4e2b6b2f-f422-4d74-a204-9d27cccda181",
   "metadata": {},
   "outputs": [],
   "source": [
    "x_subset = x [x > 2]"
   ]
  },
  {
   "cell_type": "code",
   "execution_count": 54,
   "id": "af9dba6f-9048-4a02-8a6b-a4fd199e5d29",
   "metadata": {},
   "outputs": [
    {
     "data": {
      "text/plain": [
       "array([3, 4, 5, 4, 6, 8])"
      ]
     },
     "execution_count": 54,
     "metadata": {},
     "output_type": "execute_result"
    }
   ],
   "source": [
    "x_subset # it performs the same function as the previous code"
   ]
  },
  {
   "cell_type": "code",
   "execution_count": 55,
   "id": "85fa9bff-e1a3-4146-80d3-7aca13580a4c",
   "metadata": {},
   "outputs": [],
   "source": [
    "x_subset = x_subset.reshape(2,3) # it changes the shape of the set or array of numbers"
   ]
  },
  {
   "cell_type": "code",
   "execution_count": 56,
   "id": "8877e351-6a4c-4abb-a896-0e9c8b32512b",
   "metadata": {},
   "outputs": [
    {
     "data": {
      "text/plain": [
       "array([[3, 4, 5],\n",
       "       [4, 6, 8]])"
      ]
     },
     "execution_count": 56,
     "metadata": {},
     "output_type": "execute_result"
    }
   ],
   "source": [
    "x_subset"
   ]
  },
  {
   "cell_type": "code",
   "execution_count": 57,
   "id": "04014aa7-7536-465b-b2c8-7ef5f089b7e5",
   "metadata": {},
   "outputs": [],
   "source": [
    "x_subset = x_subset.reshape(3,2)"
   ]
  },
  {
   "cell_type": "code",
   "execution_count": 58,
   "id": "25bd03b5-3e5f-4def-b20f-6de770e5b8df",
   "metadata": {},
   "outputs": [
    {
     "data": {
      "text/plain": [
       "array([[3, 4],\n",
       "       [5, 4],\n",
       "       [6, 8]])"
      ]
     },
     "execution_count": 58,
     "metadata": {},
     "output_type": "execute_result"
    }
   ],
   "source": [
    "x_subset"
   ]
  },
  {
   "cell_type": "markdown",
   "id": "c8fe10f5-4863-421d-b306-585134d29e4e",
   "metadata": {},
   "source": [
    "## Vectorized Operation"
   ]
  },
  {
   "cell_type": "code",
   "execution_count": 59,
   "id": "59128ba7-6e8c-4c86-b63e-61a1b6cc5a81",
   "metadata": {},
   "outputs": [],
   "source": [
    "x = x*5 # scalar Multiplication (it multiples all values in array by 5)"
   ]
  },
  {
   "cell_type": "code",
   "execution_count": 60,
   "id": "ebc43651-83ca-4b4d-a217-f7764939849e",
   "metadata": {},
   "outputs": [
    {
     "data": {
      "text/plain": [
       "array([[10, 15, 20, 25],\n",
       "       [10, 20, 30, 40]])"
      ]
     },
     "execution_count": 60,
     "metadata": {},
     "output_type": "execute_result"
    }
   ],
   "source": [
    "x"
   ]
  },
  {
   "cell_type": "code",
   "execution_count": 61,
   "id": "e2581f41-9cc2-4e4c-87cc-b4e11d1a9047",
   "metadata": {},
   "outputs": [],
   "source": [
    "test_score = np.array ([10,21,19,23])"
   ]
  },
  {
   "cell_type": "code",
   "execution_count": 62,
   "id": "a2ddc46a-79a3-4feb-b9ba-ddd25b67e868",
   "metadata": {},
   "outputs": [],
   "source": [
    "exam_score = np.array([24,56,45,68])"
   ]
  },
  {
   "cell_type": "code",
   "execution_count": 63,
   "id": "9e8c1917-54e3-4120-9f66-f32c05bf690b",
   "metadata": {},
   "outputs": [],
   "source": [
    "total_scores = np.array (test_score + exam_score)"
   ]
  },
  {
   "cell_type": "code",
   "execution_count": 64,
   "id": "c86ac6fd-3a8d-420c-b692-6c3df91f954a",
   "metadata": {},
   "outputs": [
    {
     "data": {
      "text/plain": [
       "array([34, 77, 64, 91])"
      ]
     },
     "execution_count": 64,
     "metadata": {},
     "output_type": "execute_result"
    }
   ],
   "source": [
    "total_scores"
   ]
  },
  {
   "cell_type": "code",
   "execution_count": 65,
   "id": "7183c889-a660-4b11-ae73-8f02fdf3cee4",
   "metadata": {},
   "outputs": [],
   "source": [
    "mean = np.mean(total_scores) #mean"
   ]
  },
  {
   "cell_type": "code",
   "execution_count": 66,
   "id": "5e97cc45-cf59-455b-92b3-ade35f4b5e5f",
   "metadata": {},
   "outputs": [
    {
     "data": {
      "text/plain": [
       "70.5"
      ]
     },
     "execution_count": 66,
     "metadata": {},
     "output_type": "execute_result"
    }
   ],
   "source": [
    "np.median(total_scores) # median"
   ]
  },
  {
   "cell_type": "code",
   "execution_count": 67,
   "id": "c074c0b5-607d-4aa9-abe0-4ea58ede115d",
   "metadata": {},
   "outputs": [
    {
     "data": {
      "text/plain": [
       "21.0535032714273"
      ]
     },
     "execution_count": 67,
     "metadata": {},
     "output_type": "execute_result"
    }
   ],
   "source": [
    "np.std (total_scores) # standard deviation"
   ]
  },
  {
   "cell_type": "code",
   "execution_count": 93,
   "id": "5edfd1eb-9959-46a9-b8b7-eb764aa9e0dd",
   "metadata": {},
   "outputs": [
    {
     "data": {
      "text/plain": [
       "443.25"
      ]
     },
     "execution_count": 93,
     "metadata": {},
     "output_type": "execute_result"
    }
   ],
   "source": [
    "np.var (total_scores) # variance"
   ]
  },
  {
   "cell_type": "markdown",
   "id": "ce4ff9c3-ef17-462e-886f-d92a1edd0bbb",
   "metadata": {},
   "source": [
    "## Pandas"
   ]
  },
  {
   "cell_type": "markdown",
   "id": "9278a56f-6f44-4d5b-9ffd-657baa217a49",
   "metadata": {},
   "source": [
    "# Panda is a moduule that easily works with datasets => DATA Structure => series and Data Frames"
   ]
  },
  {
   "cell_type": "code",
   "execution_count": 69,
   "id": "de33d65c-2f48-4d86-86ad-71d3d409b5a9",
   "metadata": {},
   "outputs": [],
   "source": [
    "import pandas as pd\n",
    "\n",
    "#from pandas import Series, DataFrames (to import datastructure from panda)"
   ]
  },
  {
   "cell_type": "code",
   "execution_count": 70,
   "id": "f418aaf4-6204-43fb-be02-dc1e53603de4",
   "metadata": {},
   "outputs": [],
   "source": [
    "names = pd.Series(['Jane', 'Jacob' , 'Chibuzor' , 'Cynthia' , 'Mo' , 'Zita']) # Series is spelt in capital Letter S"
   ]
  },
  {
   "cell_type": "code",
   "execution_count": 71,
   "id": "a5a34c30-68e5-4dfd-9806-b9b473136962",
   "metadata": {},
   "outputs": [
    {
     "data": {
      "text/plain": [
       "pandas.core.series.Series"
      ]
     },
     "execution_count": 71,
     "metadata": {},
     "output_type": "execute_result"
    }
   ],
   "source": [
    "type(names)"
   ]
  },
  {
   "cell_type": "code",
   "execution_count": 72,
   "id": "5422936d-0477-4ebf-b6b8-e3251e06864a",
   "metadata": {},
   "outputs": [
    {
     "data": {
      "text/plain": [
       "0        Jane\n",
       "1       Jacob\n",
       "2    Chibuzor\n",
       "3     Cynthia\n",
       "4          Mo\n",
       "5        Zita\n",
       "dtype: object"
      ]
     },
     "execution_count": 72,
     "metadata": {},
     "output_type": "execute_result"
    }
   ],
   "source": [
    "names"
   ]
  },
  {
   "cell_type": "code",
   "execution_count": 73,
   "id": "6b2b1a12-608f-4e92-84c3-6dcea8422a66",
   "metadata": {},
   "outputs": [],
   "source": [
    "scores = pd.Series([66,34,12,45,78], index=['a','b','c','d','e']) # index are also known as labels in pandas"
   ]
  },
  {
   "cell_type": "code",
   "execution_count": 74,
   "id": "91682dfc-2fbb-4e05-9d3e-d47270a8f964",
   "metadata": {},
   "outputs": [
    {
     "data": {
      "text/plain": [
       "a    66\n",
       "b    34\n",
       "c    12\n",
       "d    45\n",
       "e    78\n",
       "dtype: int64"
      ]
     },
     "execution_count": 74,
     "metadata": {},
     "output_type": "execute_result"
    }
   ],
   "source": [
    "scores"
   ]
  },
  {
   "cell_type": "code",
   "execution_count": 75,
   "id": "ee750d59-f9ea-46ce-b597-c61ebfc3fedf",
   "metadata": {},
   "outputs": [
    {
     "data": {
      "text/plain": [
       "45"
      ]
     },
     "execution_count": 75,
     "metadata": {},
     "output_type": "execute_result"
    }
   ],
   "source": [
    "scores['d']"
   ]
  },
  {
   "cell_type": "code",
   "execution_count": 76,
   "id": "bc986b54-042a-4d42-bd75-23b499ba5885",
   "metadata": {},
   "outputs": [
    {
     "data": {
      "text/plain": [
       "78"
      ]
     },
     "execution_count": 76,
     "metadata": {},
     "output_type": "execute_result"
    }
   ],
   "source": [
    "scores['e']"
   ]
  },
  {
   "cell_type": "code",
   "execution_count": 77,
   "id": "3a9013ac-6c08-48cb-ba59-f43695986711",
   "metadata": {},
   "outputs": [
    {
     "data": {
      "text/plain": [
       "a    66\n",
       "b    34\n",
       "c    12\n",
       "dtype: int64"
      ]
     },
     "execution_count": 77,
     "metadata": {},
     "output_type": "execute_result"
    }
   ],
   "source": [
    "scores['a':'c']"
   ]
  },
  {
   "cell_type": "code",
   "execution_count": 78,
   "id": "9ee71677-dda5-4019-9501-6bcfca8e5bde",
   "metadata": {},
   "outputs": [
    {
     "data": {
      "text/plain": [
       "0        Jane\n",
       "1       Jacob\n",
       "2    Chibuzor\n",
       "dtype: object"
      ]
     },
     "execution_count": 78,
     "metadata": {},
     "output_type": "execute_result"
    }
   ],
   "source": [
    "names[0:3] # series are one dimensional"
   ]
  },
  {
   "cell_type": "code",
   "execution_count": 79,
   "id": "49cf67bb-64c2-4ae5-b033-f741c6bd6d6b",
   "metadata": {},
   "outputs": [],
   "source": [
    "names = pd.Series(['Tolu','Lola', 'John', 'Jude', 'Mary'], index=['a', 'b','c', 'd','e'])"
   ]
  },
  {
   "cell_type": "code",
   "execution_count": 80,
   "id": "0c3e6558-d5ae-4ade-91d9-c00023520a9b",
   "metadata": {},
   "outputs": [],
   "source": [
    "df = pd.DataFrame({'Names' : names, 'Scores' : scores ,}) # use set brackets"
   ]
  },
  {
   "cell_type": "code",
   "execution_count": 81,
   "id": "9e2833d4-8dfb-4599-8b0c-be78bc03af40",
   "metadata": {},
   "outputs": [
    {
     "data": {
      "text/html": [
       "<div>\n",
       "<style scoped>\n",
       "    .dataframe tbody tr th:only-of-type {\n",
       "        vertical-align: middle;\n",
       "    }\n",
       "\n",
       "    .dataframe tbody tr th {\n",
       "        vertical-align: top;\n",
       "    }\n",
       "\n",
       "    .dataframe thead th {\n",
       "        text-align: right;\n",
       "    }\n",
       "</style>\n",
       "<table border=\"1\" class=\"dataframe\">\n",
       "  <thead>\n",
       "    <tr style=\"text-align: right;\">\n",
       "      <th></th>\n",
       "      <th>Names</th>\n",
       "      <th>Scores</th>\n",
       "    </tr>\n",
       "  </thead>\n",
       "  <tbody>\n",
       "    <tr>\n",
       "      <th>a</th>\n",
       "      <td>Tolu</td>\n",
       "      <td>66</td>\n",
       "    </tr>\n",
       "    <tr>\n",
       "      <th>b</th>\n",
       "      <td>Lola</td>\n",
       "      <td>34</td>\n",
       "    </tr>\n",
       "    <tr>\n",
       "      <th>c</th>\n",
       "      <td>John</td>\n",
       "      <td>12</td>\n",
       "    </tr>\n",
       "    <tr>\n",
       "      <th>d</th>\n",
       "      <td>Jude</td>\n",
       "      <td>45</td>\n",
       "    </tr>\n",
       "    <tr>\n",
       "      <th>e</th>\n",
       "      <td>Mary</td>\n",
       "      <td>78</td>\n",
       "    </tr>\n",
       "  </tbody>\n",
       "</table>\n",
       "</div>"
      ],
      "text/plain": [
       "  Names  Scores\n",
       "a  Tolu      66\n",
       "b  Lola      34\n",
       "c  John      12\n",
       "d  Jude      45\n",
       "e  Mary      78"
      ]
     },
     "execution_count": 81,
     "metadata": {},
     "output_type": "execute_result"
    }
   ],
   "source": [
    "df # DataFrames"
   ]
  },
  {
   "cell_type": "code",
   "execution_count": 82,
   "id": "0457aef4-2cd7-4a95-9d9e-94fc82ed7acf",
   "metadata": {},
   "outputs": [],
   "source": [
    "week = pd.Series (['Sunday','Monday','Tuesday','Wednesday','Thursday','Friday','Saturday'], index=['a', 'b','c', 'd','e','f','g'])"
   ]
  },
  {
   "cell_type": "code",
   "execution_count": 83,
   "id": "5753876f-3291-42c8-97ad-48f6b3d5ee44",
   "metadata": {},
   "outputs": [],
   "source": [
    "food = pd.Series (['Jollof Rice', 'Yam' , 'Sphag', 'Bread' , 'Swallow', 'fiesta rice', 'Beans'], index=['a','b','c','d','e','f','g'])"
   ]
  },
  {
   "cell_type": "code",
   "execution_count": 84,
   "id": "2056a0b0-e6ce-4949-83a2-6713709f5c58",
   "metadata": {},
   "outputs": [],
   "source": [
    "df = pd.DataFrame({'Days_Of_the_week': week, 'Fav_Food': food})"
   ]
  },
  {
   "cell_type": "code",
   "execution_count": 85,
   "id": "3f2278c8-2809-4129-93b8-8b0af719d963",
   "metadata": {},
   "outputs": [
    {
     "data": {
      "text/html": [
       "<div>\n",
       "<style scoped>\n",
       "    .dataframe tbody tr th:only-of-type {\n",
       "        vertical-align: middle;\n",
       "    }\n",
       "\n",
       "    .dataframe tbody tr th {\n",
       "        vertical-align: top;\n",
       "    }\n",
       "\n",
       "    .dataframe thead th {\n",
       "        text-align: right;\n",
       "    }\n",
       "</style>\n",
       "<table border=\"1\" class=\"dataframe\">\n",
       "  <thead>\n",
       "    <tr style=\"text-align: right;\">\n",
       "      <th></th>\n",
       "      <th>Days_Of_the_week</th>\n",
       "      <th>Fav_Food</th>\n",
       "    </tr>\n",
       "  </thead>\n",
       "  <tbody>\n",
       "    <tr>\n",
       "      <th>a</th>\n",
       "      <td>Sunday</td>\n",
       "      <td>Jollof Rice</td>\n",
       "    </tr>\n",
       "    <tr>\n",
       "      <th>b</th>\n",
       "      <td>Monday</td>\n",
       "      <td>Yam</td>\n",
       "    </tr>\n",
       "    <tr>\n",
       "      <th>c</th>\n",
       "      <td>Tuesday</td>\n",
       "      <td>Sphag</td>\n",
       "    </tr>\n",
       "    <tr>\n",
       "      <th>d</th>\n",
       "      <td>Wednesday</td>\n",
       "      <td>Bread</td>\n",
       "    </tr>\n",
       "    <tr>\n",
       "      <th>e</th>\n",
       "      <td>Thursday</td>\n",
       "      <td>Swallow</td>\n",
       "    </tr>\n",
       "    <tr>\n",
       "      <th>f</th>\n",
       "      <td>Friday</td>\n",
       "      <td>fiesta rice</td>\n",
       "    </tr>\n",
       "    <tr>\n",
       "      <th>g</th>\n",
       "      <td>Saturday</td>\n",
       "      <td>Beans</td>\n",
       "    </tr>\n",
       "  </tbody>\n",
       "</table>\n",
       "</div>"
      ],
      "text/plain": [
       "  Days_Of_the_week     Fav_Food\n",
       "a           Sunday  Jollof Rice\n",
       "b           Monday          Yam\n",
       "c          Tuesday        Sphag\n",
       "d        Wednesday        Bread\n",
       "e         Thursday      Swallow\n",
       "f           Friday  fiesta rice\n",
       "g         Saturday        Beans"
      ]
     },
     "execution_count": 85,
     "metadata": {},
     "output_type": "execute_result"
    }
   ],
   "source": [
    "df"
   ]
  },
  {
   "cell_type": "markdown",
   "id": "8e291a57-f8f5-4630-9f81-701cd1cac4c0",
   "metadata": {},
   "source": [
    "## Wlrking with real world  data"
   ]
  },
  {
   "cell_type": "code",
   "execution_count": 86,
   "id": "ca2821b1-58f3-473c-93d8-43f6f0c7a71e",
   "metadata": {},
   "outputs": [],
   "source": [
    "import pandas as pd"
   ]
  },
  {
   "cell_type": "code",
   "execution_count": 87,
   "id": "61fb7f62-db55-4eaa-8d87-feeef1d9a1e3",
   "metadata": {},
   "outputs": [],
   "source": [
    "data = pd.read_csv(r\"C:\\Users\\WIMBIZ\\Documents\\Data_Analysis_with_python\\Data_Sheet_Udemy_Courses_-_Music_Courses - Data_Sheet_Udemy_Courses_-_Music_Courses.csv\")"
   ]
  },
  {
   "cell_type": "code",
   "execution_count": 88,
   "id": "2dd47079-8c49-477f-97a5-5c3df921b3c0",
   "metadata": {},
   "outputs": [
    {
     "data": {
      "text/html": [
       "<div>\n",
       "<style scoped>\n",
       "    .dataframe tbody tr th:only-of-type {\n",
       "        vertical-align: middle;\n",
       "    }\n",
       "\n",
       "    .dataframe tbody tr th {\n",
       "        vertical-align: top;\n",
       "    }\n",
       "\n",
       "    .dataframe thead th {\n",
       "        text-align: right;\n",
       "    }\n",
       "</style>\n",
       "<table border=\"1\" class=\"dataframe\">\n",
       "  <thead>\n",
       "    <tr style=\"text-align: right;\">\n",
       "      <th></th>\n",
       "      <th>course_id</th>\n",
       "      <th>course_title</th>\n",
       "      <th>url</th>\n",
       "      <th>price</th>\n",
       "      <th>num_subscribers</th>\n",
       "      <th>num_reviews</th>\n",
       "      <th>num_lectures</th>\n",
       "      <th>level</th>\n",
       "      <th>Rating</th>\n",
       "      <th>content_duration</th>\n",
       "      <th>published_timestamp</th>\n",
       "      <th>subject</th>\n",
       "    </tr>\n",
       "  </thead>\n",
       "  <tbody>\n",
       "    <tr>\n",
       "      <th>0</th>\n",
       "      <td>19421</td>\n",
       "      <td>Free Beginner Electric Guitar Lessons</td>\n",
       "      <td>https://www.udemy.com/beginner-electric-guitar...</td>\n",
       "      <td>0</td>\n",
       "      <td>101154</td>\n",
       "      <td>1042</td>\n",
       "      <td>95</td>\n",
       "      <td>All Levels</td>\n",
       "      <td>0.88</td>\n",
       "      <td>4.500000</td>\n",
       "      <td>2012-06-15T17:00:33Z</td>\n",
       "      <td>Musical Instruments</td>\n",
       "    </tr>\n",
       "    <tr>\n",
       "      <th>1</th>\n",
       "      <td>238934</td>\n",
       "      <td>Pianoforall - Incredible New Way To Learn Pian...</td>\n",
       "      <td>https://www.udemy.com/pianoforall-incredible-n...</td>\n",
       "      <td>200</td>\n",
       "      <td>75499</td>\n",
       "      <td>7676</td>\n",
       "      <td>362</td>\n",
       "      <td>Beginner Level</td>\n",
       "      <td>0.96</td>\n",
       "      <td>30.000000</td>\n",
       "      <td>2014-08-07T06:27:51Z</td>\n",
       "      <td>Musical Instruments</td>\n",
       "    </tr>\n",
       "    <tr>\n",
       "      <th>2</th>\n",
       "      <td>41884</td>\n",
       "      <td>Getting Started with Playing Guitar</td>\n",
       "      <td>https://www.udemy.com/getting-started-with-pla...</td>\n",
       "      <td>0</td>\n",
       "      <td>47652</td>\n",
       "      <td>1141</td>\n",
       "      <td>26</td>\n",
       "      <td>All Levels</td>\n",
       "      <td>0.68</td>\n",
       "      <td>4.000000</td>\n",
       "      <td>2013-05-29T15:28:07Z</td>\n",
       "      <td>Musical Instruments</td>\n",
       "    </tr>\n",
       "    <tr>\n",
       "      <th>3</th>\n",
       "      <td>42271</td>\n",
       "      <td>Complete Guitar System - Beginner to Advanced</td>\n",
       "      <td>https://www.udemy.com/complete-guitar-system-b...</td>\n",
       "      <td>145</td>\n",
       "      <td>32935</td>\n",
       "      <td>2713</td>\n",
       "      <td>310</td>\n",
       "      <td>All Levels</td>\n",
       "      <td>0.65</td>\n",
       "      <td>34.000000</td>\n",
       "      <td>2013-05-29T15:24:47Z</td>\n",
       "      <td>Musical Instruments</td>\n",
       "    </tr>\n",
       "    <tr>\n",
       "      <th>4</th>\n",
       "      <td>26956</td>\n",
       "      <td>Learn Guitar in 21 Days</td>\n",
       "      <td>https://www.udemy.com/learn-guitar-in-21-days/</td>\n",
       "      <td>20</td>\n",
       "      <td>26504</td>\n",
       "      <td>192</td>\n",
       "      <td>82</td>\n",
       "      <td>All Levels</td>\n",
       "      <td>0.41</td>\n",
       "      <td>2.500000</td>\n",
       "      <td>2012-10-21T20:36:50Z</td>\n",
       "      <td>Musical Instruments</td>\n",
       "    </tr>\n",
       "    <tr>\n",
       "      <th>...</th>\n",
       "      <td>...</td>\n",
       "      <td>...</td>\n",
       "      <td>...</td>\n",
       "      <td>...</td>\n",
       "      <td>...</td>\n",
       "      <td>...</td>\n",
       "      <td>...</td>\n",
       "      <td>...</td>\n",
       "      <td>...</td>\n",
       "      <td>...</td>\n",
       "      <td>...</td>\n",
       "      <td>...</td>\n",
       "    </tr>\n",
       "    <tr>\n",
       "      <th>675</th>\n",
       "      <td>1216340</td>\n",
       "      <td>Learn to Play Sweet Child of Mine</td>\n",
       "      <td>https://www.udemy.com/learn-to-play-sweet-chil...</td>\n",
       "      <td>20</td>\n",
       "      <td>0</td>\n",
       "      <td>0</td>\n",
       "      <td>23</td>\n",
       "      <td>All Levels</td>\n",
       "      <td>0.31</td>\n",
       "      <td>1.500000</td>\n",
       "      <td>2017-06-30T17:33:29Z</td>\n",
       "      <td>Musical Instruments</td>\n",
       "    </tr>\n",
       "    <tr>\n",
       "      <th>676</th>\n",
       "      <td>1026762</td>\n",
       "      <td>Coaching Course: Rhythm Instruction for Music ...</td>\n",
       "      <td>https://www.udemy.com/coaching-bundle-rhythm-i...</td>\n",
       "      <td>125</td>\n",
       "      <td>0</td>\n",
       "      <td>0</td>\n",
       "      <td>7</td>\n",
       "      <td>Beginner Level</td>\n",
       "      <td>0.06</td>\n",
       "      <td>0.633333</td>\n",
       "      <td>2017-03-10T17:06:46Z</td>\n",
       "      <td>Musical Instruments</td>\n",
       "    </tr>\n",
       "    <tr>\n",
       "      <th>677</th>\n",
       "      <td>1223240</td>\n",
       "      <td>Learn Pirates of the Caribbean by Ear on the P...</td>\n",
       "      <td>https://www.udemy.com/learn-pirates-of-the-car...</td>\n",
       "      <td>20</td>\n",
       "      <td>0</td>\n",
       "      <td>0</td>\n",
       "      <td>6</td>\n",
       "      <td>All Levels</td>\n",
       "      <td>0.08</td>\n",
       "      <td>0.533333</td>\n",
       "      <td>2017-05-22T17:14:43Z</td>\n",
       "      <td>Musical Instruments</td>\n",
       "    </tr>\n",
       "    <tr>\n",
       "      <th>678</th>\n",
       "      <td>1224186</td>\n",
       "      <td>Learn to Play Piano Like a Pro - Easy Piano Co...</td>\n",
       "      <td>https://www.udemy.com/learn-to-play-piano-like...</td>\n",
       "      <td>35</td>\n",
       "      <td>0</td>\n",
       "      <td>0</td>\n",
       "      <td>13</td>\n",
       "      <td>Beginner Level</td>\n",
       "      <td>0.78</td>\n",
       "      <td>0.516667</td>\n",
       "      <td>2017-05-30T00:19:02Z</td>\n",
       "      <td>Musical Instruments</td>\n",
       "    </tr>\n",
       "    <tr>\n",
       "      <th>679</th>\n",
       "      <td>1234656</td>\n",
       "      <td>4 Week Rhythm Mastery</td>\n",
       "      <td>https://www.udemy.com/4-week-rhythm-mastery/</td>\n",
       "      <td>20</td>\n",
       "      <td>0</td>\n",
       "      <td>0</td>\n",
       "      <td>28</td>\n",
       "      <td>All Levels</td>\n",
       "      <td>0.01</td>\n",
       "      <td>2.500000</td>\n",
       "      <td>2017-07-05T16:07:44Z</td>\n",
       "      <td>Musical Instruments</td>\n",
       "    </tr>\n",
       "  </tbody>\n",
       "</table>\n",
       "<p>680 rows × 12 columns</p>\n",
       "</div>"
      ],
      "text/plain": [
       "     course_id                                       course_title  \\\n",
       "0        19421              Free Beginner Electric Guitar Lessons   \n",
       "1       238934  Pianoforall - Incredible New Way To Learn Pian...   \n",
       "2        41884                Getting Started with Playing Guitar   \n",
       "3        42271      Complete Guitar System - Beginner to Advanced   \n",
       "4        26956                            Learn Guitar in 21 Days   \n",
       "..         ...                                                ...   \n",
       "675    1216340                  Learn to Play Sweet Child of Mine   \n",
       "676    1026762  Coaching Course: Rhythm Instruction for Music ...   \n",
       "677    1223240  Learn Pirates of the Caribbean by Ear on the P...   \n",
       "678    1224186  Learn to Play Piano Like a Pro - Easy Piano Co...   \n",
       "679    1234656                              4 Week Rhythm Mastery   \n",
       "\n",
       "                                                   url  price  \\\n",
       "0    https://www.udemy.com/beginner-electric-guitar...      0   \n",
       "1    https://www.udemy.com/pianoforall-incredible-n...    200   \n",
       "2    https://www.udemy.com/getting-started-with-pla...      0   \n",
       "3    https://www.udemy.com/complete-guitar-system-b...    145   \n",
       "4       https://www.udemy.com/learn-guitar-in-21-days/     20   \n",
       "..                                                 ...    ...   \n",
       "675  https://www.udemy.com/learn-to-play-sweet-chil...     20   \n",
       "676  https://www.udemy.com/coaching-bundle-rhythm-i...    125   \n",
       "677  https://www.udemy.com/learn-pirates-of-the-car...     20   \n",
       "678  https://www.udemy.com/learn-to-play-piano-like...     35   \n",
       "679       https://www.udemy.com/4-week-rhythm-mastery/     20   \n",
       "\n",
       "     num_subscribers  num_reviews  num_lectures           level  Rating  \\\n",
       "0             101154         1042            95      All Levels    0.88   \n",
       "1              75499         7676           362  Beginner Level    0.96   \n",
       "2              47652         1141            26      All Levels    0.68   \n",
       "3              32935         2713           310      All Levels    0.65   \n",
       "4              26504          192            82      All Levels    0.41   \n",
       "..               ...          ...           ...             ...     ...   \n",
       "675                0            0            23      All Levels    0.31   \n",
       "676                0            0             7  Beginner Level    0.06   \n",
       "677                0            0             6      All Levels    0.08   \n",
       "678                0            0            13  Beginner Level    0.78   \n",
       "679                0            0            28      All Levels    0.01   \n",
       "\n",
       "     content_duration   published_timestamp              subject  \n",
       "0            4.500000  2012-06-15T17:00:33Z  Musical Instruments  \n",
       "1           30.000000  2014-08-07T06:27:51Z  Musical Instruments  \n",
       "2            4.000000  2013-05-29T15:28:07Z  Musical Instruments  \n",
       "3           34.000000  2013-05-29T15:24:47Z  Musical Instruments  \n",
       "4            2.500000  2012-10-21T20:36:50Z  Musical Instruments  \n",
       "..                ...                   ...                  ...  \n",
       "675          1.500000  2017-06-30T17:33:29Z  Musical Instruments  \n",
       "676          0.633333  2017-03-10T17:06:46Z  Musical Instruments  \n",
       "677          0.533333  2017-05-22T17:14:43Z  Musical Instruments  \n",
       "678          0.516667  2017-05-30T00:19:02Z  Musical Instruments  \n",
       "679          2.500000  2017-07-05T16:07:44Z  Musical Instruments  \n",
       "\n",
       "[680 rows x 12 columns]"
      ]
     },
     "execution_count": 88,
     "metadata": {},
     "output_type": "execute_result"
    }
   ],
   "source": [
    "data"
   ]
  },
  {
   "cell_type": "code",
   "execution_count": 89,
   "id": "c1f26683-a3c2-4fe4-a51c-1c3d32b0533f",
   "metadata": {},
   "outputs": [
    {
     "data": {
      "text/plain": [
       "pandas.core.frame.DataFrame"
      ]
     },
     "execution_count": 89,
     "metadata": {},
     "output_type": "execute_result"
    }
   ],
   "source": [
    "type(data)"
   ]
  },
  {
   "cell_type": "code",
   "execution_count": 94,
   "id": "a89ba4c8-1bb3-4d57-b105-772ddfc20b12",
   "metadata": {},
   "outputs": [
    {
     "ename": "FileNotFoundError",
     "evalue": "[Errno 2] No such file or directory: 'C:/Users/WIMBIZ/Documents/Data_Sheet_Udemy_Courses_-_Music_Courses.xlsx'",
     "output_type": "error",
     "traceback": [
      "\u001b[1;31m---------------------------------------------------------------------------\u001b[0m",
      "\u001b[1;31mFileNotFoundError\u001b[0m                         Traceback (most recent call last)",
      "Cell \u001b[1;32mIn[94], line 1\u001b[0m\n\u001b[1;32m----> 1\u001b[0m data \u001b[38;5;241m=\u001b[39m pd\u001b[38;5;241m.\u001b[39mread_excel(\u001b[38;5;124m'\u001b[39m\u001b[38;5;124mC:/Users/WIMBIZ/Documents/Data_Sheet_Udemy_Courses_-_Music_Courses.xlsx\u001b[39m\u001b[38;5;124m'\u001b[39m)\n",
      "File \u001b[1;32m~\\Desktop\\Anaconda\\Lib\\site-packages\\pandas\\io\\excel\\_base.py:495\u001b[0m, in \u001b[0;36mread_excel\u001b[1;34m(io, sheet_name, header, names, index_col, usecols, dtype, engine, converters, true_values, false_values, skiprows, nrows, na_values, keep_default_na, na_filter, verbose, parse_dates, date_parser, date_format, thousands, decimal, comment, skipfooter, storage_options, dtype_backend, engine_kwargs)\u001b[0m\n\u001b[0;32m    493\u001b[0m \u001b[38;5;28;01mif\u001b[39;00m \u001b[38;5;129;01mnot\u001b[39;00m \u001b[38;5;28misinstance\u001b[39m(io, ExcelFile):\n\u001b[0;32m    494\u001b[0m     should_close \u001b[38;5;241m=\u001b[39m \u001b[38;5;28;01mTrue\u001b[39;00m\n\u001b[1;32m--> 495\u001b[0m     io \u001b[38;5;241m=\u001b[39m ExcelFile(\n\u001b[0;32m    496\u001b[0m         io,\n\u001b[0;32m    497\u001b[0m         storage_options\u001b[38;5;241m=\u001b[39mstorage_options,\n\u001b[0;32m    498\u001b[0m         engine\u001b[38;5;241m=\u001b[39mengine,\n\u001b[0;32m    499\u001b[0m         engine_kwargs\u001b[38;5;241m=\u001b[39mengine_kwargs,\n\u001b[0;32m    500\u001b[0m     )\n\u001b[0;32m    501\u001b[0m \u001b[38;5;28;01melif\u001b[39;00m engine \u001b[38;5;129;01mand\u001b[39;00m engine \u001b[38;5;241m!=\u001b[39m io\u001b[38;5;241m.\u001b[39mengine:\n\u001b[0;32m    502\u001b[0m     \u001b[38;5;28;01mraise\u001b[39;00m \u001b[38;5;167;01mValueError\u001b[39;00m(\n\u001b[0;32m    503\u001b[0m         \u001b[38;5;124m\"\u001b[39m\u001b[38;5;124mEngine should not be specified when passing \u001b[39m\u001b[38;5;124m\"\u001b[39m\n\u001b[0;32m    504\u001b[0m         \u001b[38;5;124m\"\u001b[39m\u001b[38;5;124man ExcelFile - ExcelFile already has the engine set\u001b[39m\u001b[38;5;124m\"\u001b[39m\n\u001b[0;32m    505\u001b[0m     )\n",
      "File \u001b[1;32m~\\Desktop\\Anaconda\\Lib\\site-packages\\pandas\\io\\excel\\_base.py:1550\u001b[0m, in \u001b[0;36mExcelFile.__init__\u001b[1;34m(self, path_or_buffer, engine, storage_options, engine_kwargs)\u001b[0m\n\u001b[0;32m   1548\u001b[0m     ext \u001b[38;5;241m=\u001b[39m \u001b[38;5;124m\"\u001b[39m\u001b[38;5;124mxls\u001b[39m\u001b[38;5;124m\"\u001b[39m\n\u001b[0;32m   1549\u001b[0m \u001b[38;5;28;01melse\u001b[39;00m:\n\u001b[1;32m-> 1550\u001b[0m     ext \u001b[38;5;241m=\u001b[39m inspect_excel_format(\n\u001b[0;32m   1551\u001b[0m         content_or_path\u001b[38;5;241m=\u001b[39mpath_or_buffer, storage_options\u001b[38;5;241m=\u001b[39mstorage_options\n\u001b[0;32m   1552\u001b[0m     )\n\u001b[0;32m   1553\u001b[0m     \u001b[38;5;28;01mif\u001b[39;00m ext \u001b[38;5;129;01mis\u001b[39;00m \u001b[38;5;28;01mNone\u001b[39;00m:\n\u001b[0;32m   1554\u001b[0m         \u001b[38;5;28;01mraise\u001b[39;00m \u001b[38;5;167;01mValueError\u001b[39;00m(\n\u001b[0;32m   1555\u001b[0m             \u001b[38;5;124m\"\u001b[39m\u001b[38;5;124mExcel file format cannot be determined, you must specify \u001b[39m\u001b[38;5;124m\"\u001b[39m\n\u001b[0;32m   1556\u001b[0m             \u001b[38;5;124m\"\u001b[39m\u001b[38;5;124man engine manually.\u001b[39m\u001b[38;5;124m\"\u001b[39m\n\u001b[0;32m   1557\u001b[0m         )\n",
      "File \u001b[1;32m~\\Desktop\\Anaconda\\Lib\\site-packages\\pandas\\io\\excel\\_base.py:1402\u001b[0m, in \u001b[0;36minspect_excel_format\u001b[1;34m(content_or_path, storage_options)\u001b[0m\n\u001b[0;32m   1399\u001b[0m \u001b[38;5;28;01mif\u001b[39;00m \u001b[38;5;28misinstance\u001b[39m(content_or_path, \u001b[38;5;28mbytes\u001b[39m):\n\u001b[0;32m   1400\u001b[0m     content_or_path \u001b[38;5;241m=\u001b[39m BytesIO(content_or_path)\n\u001b[1;32m-> 1402\u001b[0m \u001b[38;5;28;01mwith\u001b[39;00m get_handle(\n\u001b[0;32m   1403\u001b[0m     content_or_path, \u001b[38;5;124m\"\u001b[39m\u001b[38;5;124mrb\u001b[39m\u001b[38;5;124m\"\u001b[39m, storage_options\u001b[38;5;241m=\u001b[39mstorage_options, is_text\u001b[38;5;241m=\u001b[39m\u001b[38;5;28;01mFalse\u001b[39;00m\n\u001b[0;32m   1404\u001b[0m ) \u001b[38;5;28;01mas\u001b[39;00m handle:\n\u001b[0;32m   1405\u001b[0m     stream \u001b[38;5;241m=\u001b[39m handle\u001b[38;5;241m.\u001b[39mhandle\n\u001b[0;32m   1406\u001b[0m     stream\u001b[38;5;241m.\u001b[39mseek(\u001b[38;5;241m0\u001b[39m)\n",
      "File \u001b[1;32m~\\Desktop\\Anaconda\\Lib\\site-packages\\pandas\\io\\common.py:882\u001b[0m, in \u001b[0;36mget_handle\u001b[1;34m(path_or_buf, mode, encoding, compression, memory_map, is_text, errors, storage_options)\u001b[0m\n\u001b[0;32m    873\u001b[0m         handle \u001b[38;5;241m=\u001b[39m \u001b[38;5;28mopen\u001b[39m(\n\u001b[0;32m    874\u001b[0m             handle,\n\u001b[0;32m    875\u001b[0m             ioargs\u001b[38;5;241m.\u001b[39mmode,\n\u001b[1;32m   (...)\u001b[0m\n\u001b[0;32m    878\u001b[0m             newline\u001b[38;5;241m=\u001b[39m\u001b[38;5;124m\"\u001b[39m\u001b[38;5;124m\"\u001b[39m,\n\u001b[0;32m    879\u001b[0m         )\n\u001b[0;32m    880\u001b[0m     \u001b[38;5;28;01melse\u001b[39;00m:\n\u001b[0;32m    881\u001b[0m         \u001b[38;5;66;03m# Binary mode\u001b[39;00m\n\u001b[1;32m--> 882\u001b[0m         handle \u001b[38;5;241m=\u001b[39m \u001b[38;5;28mopen\u001b[39m(handle, ioargs\u001b[38;5;241m.\u001b[39mmode)\n\u001b[0;32m    883\u001b[0m     handles\u001b[38;5;241m.\u001b[39mappend(handle)\n\u001b[0;32m    885\u001b[0m \u001b[38;5;66;03m# Convert BytesIO or file objects passed with an encoding\u001b[39;00m\n",
      "\u001b[1;31mFileNotFoundError\u001b[0m: [Errno 2] No such file or directory: 'C:/Users/WIMBIZ/Documents/Data_Sheet_Udemy_Courses_-_Music_Courses.xlsx'"
     ]
    }
   ],
   "source": [
    "data = pd.read_excel('C:/Users/WIMBIZ/Documents/Data_Sheet_Udemy_Courses_-_Music_Courses.xlsx')"
   ]
  },
  {
   "cell_type": "markdown",
   "id": "f36378f7-3b9b-48c7-9d58-24b1642d572c",
   "metadata": {},
   "source": [
    "## Data Exploration"
   ]
  },
  {
   "cell_type": "markdown",
   "id": "04abf699-494d-475f-b70a-f20db702c2dd",
   "metadata": {},
   "source": [
    "## Head Method is used to extract first 5 rows by default from a data"
   ]
  },
  {
   "cell_type": "code",
   "execution_count": 95,
   "id": "558fd086-b6cc-46f6-9a14-b0da9b17ee17",
   "metadata": {},
   "outputs": [
    {
     "data": {
      "text/html": [
       "<div>\n",
       "<style scoped>\n",
       "    .dataframe tbody tr th:only-of-type {\n",
       "        vertical-align: middle;\n",
       "    }\n",
       "\n",
       "    .dataframe tbody tr th {\n",
       "        vertical-align: top;\n",
       "    }\n",
       "\n",
       "    .dataframe thead th {\n",
       "        text-align: right;\n",
       "    }\n",
       "</style>\n",
       "<table border=\"1\" class=\"dataframe\">\n",
       "  <thead>\n",
       "    <tr style=\"text-align: right;\">\n",
       "      <th></th>\n",
       "      <th>course_id</th>\n",
       "      <th>course_title</th>\n",
       "      <th>url</th>\n",
       "      <th>price</th>\n",
       "      <th>num_subscribers</th>\n",
       "      <th>num_reviews</th>\n",
       "      <th>num_lectures</th>\n",
       "      <th>level</th>\n",
       "      <th>Rating</th>\n",
       "      <th>content_duration</th>\n",
       "      <th>published_timestamp</th>\n",
       "      <th>subject</th>\n",
       "    </tr>\n",
       "  </thead>\n",
       "  <tbody>\n",
       "    <tr>\n",
       "      <th>0</th>\n",
       "      <td>19421</td>\n",
       "      <td>Free Beginner Electric Guitar Lessons</td>\n",
       "      <td>https://www.udemy.com/beginner-electric-guitar...</td>\n",
       "      <td>0</td>\n",
       "      <td>101154</td>\n",
       "      <td>1042</td>\n",
       "      <td>95</td>\n",
       "      <td>All Levels</td>\n",
       "      <td>0.88</td>\n",
       "      <td>4.5</td>\n",
       "      <td>2012-06-15T17:00:33Z</td>\n",
       "      <td>Musical Instruments</td>\n",
       "    </tr>\n",
       "    <tr>\n",
       "      <th>1</th>\n",
       "      <td>238934</td>\n",
       "      <td>Pianoforall - Incredible New Way To Learn Pian...</td>\n",
       "      <td>https://www.udemy.com/pianoforall-incredible-n...</td>\n",
       "      <td>200</td>\n",
       "      <td>75499</td>\n",
       "      <td>7676</td>\n",
       "      <td>362</td>\n",
       "      <td>Beginner Level</td>\n",
       "      <td>0.96</td>\n",
       "      <td>30.0</td>\n",
       "      <td>2014-08-07T06:27:51Z</td>\n",
       "      <td>Musical Instruments</td>\n",
       "    </tr>\n",
       "    <tr>\n",
       "      <th>2</th>\n",
       "      <td>41884</td>\n",
       "      <td>Getting Started with Playing Guitar</td>\n",
       "      <td>https://www.udemy.com/getting-started-with-pla...</td>\n",
       "      <td>0</td>\n",
       "      <td>47652</td>\n",
       "      <td>1141</td>\n",
       "      <td>26</td>\n",
       "      <td>All Levels</td>\n",
       "      <td>0.68</td>\n",
       "      <td>4.0</td>\n",
       "      <td>2013-05-29T15:28:07Z</td>\n",
       "      <td>Musical Instruments</td>\n",
       "    </tr>\n",
       "    <tr>\n",
       "      <th>3</th>\n",
       "      <td>42271</td>\n",
       "      <td>Complete Guitar System - Beginner to Advanced</td>\n",
       "      <td>https://www.udemy.com/complete-guitar-system-b...</td>\n",
       "      <td>145</td>\n",
       "      <td>32935</td>\n",
       "      <td>2713</td>\n",
       "      <td>310</td>\n",
       "      <td>All Levels</td>\n",
       "      <td>0.65</td>\n",
       "      <td>34.0</td>\n",
       "      <td>2013-05-29T15:24:47Z</td>\n",
       "      <td>Musical Instruments</td>\n",
       "    </tr>\n",
       "    <tr>\n",
       "      <th>4</th>\n",
       "      <td>26956</td>\n",
       "      <td>Learn Guitar in 21 Days</td>\n",
       "      <td>https://www.udemy.com/learn-guitar-in-21-days/</td>\n",
       "      <td>20</td>\n",
       "      <td>26504</td>\n",
       "      <td>192</td>\n",
       "      <td>82</td>\n",
       "      <td>All Levels</td>\n",
       "      <td>0.41</td>\n",
       "      <td>2.5</td>\n",
       "      <td>2012-10-21T20:36:50Z</td>\n",
       "      <td>Musical Instruments</td>\n",
       "    </tr>\n",
       "  </tbody>\n",
       "</table>\n",
       "</div>"
      ],
      "text/plain": [
       "   course_id                                       course_title  \\\n",
       "0      19421              Free Beginner Electric Guitar Lessons   \n",
       "1     238934  Pianoforall - Incredible New Way To Learn Pian...   \n",
       "2      41884                Getting Started with Playing Guitar   \n",
       "3      42271      Complete Guitar System - Beginner to Advanced   \n",
       "4      26956                            Learn Guitar in 21 Days   \n",
       "\n",
       "                                                 url  price  num_subscribers  \\\n",
       "0  https://www.udemy.com/beginner-electric-guitar...      0           101154   \n",
       "1  https://www.udemy.com/pianoforall-incredible-n...    200            75499   \n",
       "2  https://www.udemy.com/getting-started-with-pla...      0            47652   \n",
       "3  https://www.udemy.com/complete-guitar-system-b...    145            32935   \n",
       "4     https://www.udemy.com/learn-guitar-in-21-days/     20            26504   \n",
       "\n",
       "   num_reviews  num_lectures           level  Rating  content_duration  \\\n",
       "0         1042            95      All Levels    0.88               4.5   \n",
       "1         7676           362  Beginner Level    0.96              30.0   \n",
       "2         1141            26      All Levels    0.68               4.0   \n",
       "3         2713           310      All Levels    0.65              34.0   \n",
       "4          192            82      All Levels    0.41               2.5   \n",
       "\n",
       "    published_timestamp              subject  \n",
       "0  2012-06-15T17:00:33Z  Musical Instruments  \n",
       "1  2014-08-07T06:27:51Z  Musical Instruments  \n",
       "2  2013-05-29T15:28:07Z  Musical Instruments  \n",
       "3  2013-05-29T15:24:47Z  Musical Instruments  \n",
       "4  2012-10-21T20:36:50Z  Musical Instruments  "
      ]
     },
     "execution_count": 95,
     "metadata": {},
     "output_type": "execute_result"
    }
   ],
   "source": [
    "data.head()"
   ]
  },
  {
   "cell_type": "code",
   "execution_count": null,
   "id": "4348e858-eb55-4fcc-ae78-90e24cc309cd",
   "metadata": {},
   "outputs": [],
   "source": [
    "data.head(10) ## the number specifies the numbers of row to be extracted"
   ]
  },
  {
   "cell_type": "code",
   "execution_count": null,
   "id": "a6827f94-c0f3-49d4-b961-1dcb0f809219",
   "metadata": {},
   "outputs": [],
   "source": [
    "data.tail() # extracts the last 5 rows from the dataset"
   ]
  },
  {
   "cell_type": "code",
   "execution_count": null,
   "id": "3b5e03d4-b975-4a37-abf0-7884ad22ad81",
   "metadata": {},
   "outputs": [],
   "source": [
    "data.info() # extracts the info in the columns and the datatype"
   ]
  },
  {
   "cell_type": "code",
   "execution_count": null,
   "id": "f0f1554c-9bc1-41be-825c-5e6267256bdf",
   "metadata": {},
   "outputs": [],
   "source": [
    "data.shape # is a property in jupyter"
   ]
  },
  {
   "cell_type": "code",
   "execution_count": null,
   "id": "67bb6ee2-00cb-4d43-b9e0-641ba2ee9f2b",
   "metadata": {},
   "outputs": [],
   "source": [
    "data.columns"
   ]
  },
  {
   "cell_type": "markdown",
   "id": "7e0c42b3-de58-4a42-9b73-c6d6541f2221",
   "metadata": {},
   "source": [
    "## Filtering, Slicing, Indexing"
   ]
  },
  {
   "cell_type": "code",
   "execution_count": null,
   "id": "ffae230b-a00e-4968-8540-289e4d044978",
   "metadata": {},
   "outputs": [],
   "source": [
    "data"
   ]
  },
  {
   "cell_type": "code",
   "execution_count": null,
   "id": "ec65a730-17a1-42ea-a82c-5f9ce49f4c25",
   "metadata": {},
   "outputs": [],
   "source": [
    "data['url'] # pandas in series"
   ]
  },
  {
   "cell_type": "code",
   "execution_count": null,
   "id": "2c3b08a4-719e-49dc-ba4a-ed0715ddbfc6",
   "metadata": {},
   "outputs": [],
   "source": [
    "data[['url']] #pandas in DataFrames"
   ]
  },
  {
   "cell_type": "code",
   "execution_count": null,
   "id": "22ba50ea-facc-48db-a0f5-f56b66fb2892",
   "metadata": {},
   "outputs": [],
   "source": [
    "data[['course_title']]"
   ]
  },
  {
   "cell_type": "markdown",
   "id": "2d48dbd6-6114-48cb-9a62-0585fc6a0bfc",
   "metadata": {},
   "source": [
    "## loc / label Selection"
   ]
  },
  {
   "cell_type": "code",
   "execution_count": null,
   "id": "28e3c15d-b83c-4b86-a382-1e6fc65891c3",
   "metadata": {},
   "outputs": [],
   "source": [
    "data.loc [:5, 'course_title'] # the lock function locks a specific column or row"
   ]
  },
  {
   "cell_type": "code",
   "execution_count": null,
   "id": "ae06a7eb-25c7-4fd6-a59a-e1dd0b5642ff",
   "metadata": {},
   "outputs": [],
   "source": [
    "data.loc [0:20, ['course_title']].head()"
   ]
  },
  {
   "cell_type": "code",
   "execution_count": null,
   "id": "80fadbd9-1764-4624-95c9-bab6d531c0b2",
   "metadata": {},
   "outputs": [],
   "source": [
    "data.loc [0:50, 'url']"
   ]
  },
  {
   "cell_type": "code",
   "execution_count": null,
   "id": "9c49d4a4-3025-49c6-af12-f2a61760b475",
   "metadata": {},
   "outputs": [],
   "source": [
    "data.loc [0:50, ['url']]"
   ]
  },
  {
   "cell_type": "code",
   "execution_count": null,
   "id": "fe7be8f6-2d41-4515-ad71-be92ac3a69dd",
   "metadata": {},
   "outputs": [],
   "source": [
    "data [['course_title', 'num_lectures']] # to run this code it has to be in DataFrames or it automatically reads erroe"
   ]
  },
  {
   "cell_type": "code",
   "execution_count": null,
   "id": "6db9a6b4-7e8c-433d-92fc-a0e297eacaab",
   "metadata": {},
   "outputs": [],
   "source": [
    "data.loc[:5, ['course_title', 'num_lectures']] # to lock and extract from row 0-5 in both columns"
   ]
  },
  {
   "cell_type": "code",
   "execution_count": null,
   "id": "452c3483-e122-4d49-8179-f4849adcd48d",
   "metadata": {},
   "outputs": [],
   "source": [
    "data.loc[0, 'course_title']"
   ]
  },
  {
   "cell_type": "code",
   "execution_count": null,
   "id": "8a8fb001-e47d-44ff-aa09-ed8ff54c7552",
   "metadata": {},
   "outputs": [],
   "source": [
    "data.loc[:10, ['url' ,'price']]"
   ]
  },
  {
   "cell_type": "code",
   "execution_count": null,
   "id": "5f99e954-5473-47f3-bd1c-1d67eff9affb",
   "metadata": {},
   "outputs": [],
   "source": [
    "data.loc[:10, 'course_id' : 'num_reviews'] ## you don't have to use extra square bracket because you are importing a large data"
   ]
  },
  {
   "cell_type": "code",
   "execution_count": null,
   "id": "12f96069-5c81-4536-8bd9-455510f94e81",
   "metadata": {},
   "outputs": [],
   "source": [
    "data.iloc[:10, [0]] it extracrs the index on the column as it is (e.g 0-2) will print exactly that unlike loc"
   ]
  },
  {
   "cell_type": "code",
   "execution_count": null,
   "id": "45fd0e62-5493-4010-8701-fd05a785ca05",
   "metadata": {},
   "outputs": [],
   "source": [
    "data.iloc[:5, 0:3] the right number is the column and it uses a plus one (+1) index"
   ]
  },
  {
   "cell_type": "code",
   "execution_count": null,
   "id": "ca69bc0a-3a0d-4c98-8a26-a62d2fbe4b3f",
   "metadata": {},
   "outputs": [],
   "source": [
    "# Conditional Selection\n",
    "\n",
    "data.subject == 'Musical Instruments'\n",
    "\n",
    "len(data[data.subject == 'Musical Instruments']) # this checks the length in data using data subject where the value is equal to Musical Instruments"
   ]
  },
  {
   "cell_type": "code",
   "execution_count": null,
   "id": "b9d3ee13-2236-48f6-9050-10555b7a6ce0",
   "metadata": {},
   "outputs": [],
   "source": [
    "# this is to merge two conditions together the AND symbol is & and OR symbol is | backslash\n",
    "\n",
    "data.loc[(data.price > 100) & (data.level == 'Beginner Level'), ['price', 'url', 'course_id']].head()\n",
    " ## data.price specifies the specific column"
   ]
  },
  {
   "cell_type": "code",
   "execution_count": null,
   "id": "5dfa4ef0-d1df-4157-b818-c6a11a4d467d",
   "metadata": {},
   "outputs": [],
   "source": [
    "##class work check for data level to check the beginner level\n",
    "\n",
    "len(data.loc[data.level =='Beginner Level']) ## adding len to is the length of the data with beginner level"
   ]
  },
  {
   "cell_type": "code",
   "execution_count": null,
   "id": "9aec8cfa-bffb-4945-937a-b94d5dd11550",
   "metadata": {},
   "outputs": [],
   "source": []
  },
  {
   "cell_type": "markdown",
   "id": "6e6d2fde-4cc9-4ef2-8f55-5c2cfa1d4a2b",
   "metadata": {},
   "source": [
    "### Data Cleaning"
   ]
  },
  {
   "cell_type": "code",
   "execution_count": null,
   "id": "be7bc8ec-b27a-48ab-bff2-dfde6901b384",
   "metadata": {},
   "outputs": [],
   "source": [
    "data.isnull # extracts the null data from the dataset"
   ]
  },
  {
   "cell_type": "code",
   "execution_count": null,
   "id": "66aefc7f-f5c2-4a8c-9d7e-2c3e0351df2d",
   "metadata": {},
   "outputs": [],
   "source": [
    "data.isnull().sum() # sums up all extracted null datas from dataset"
   ]
  },
  {
   "cell_type": "code",
   "execution_count": null,
   "id": "7ec3ea9a-31d6-4d61-854e-dd83a6099931",
   "metadata": {},
   "outputs": [],
   "source": [
    "data.duplicated() # extracts duplicated data"
   ]
  },
  {
   "cell_type": "code",
   "execution_count": null,
   "id": "76a88827-d8e3-4669-9ea7-656a15c32c42",
   "metadata": {},
   "outputs": [],
   "source": [
    "data.duplicated().sum() # sums up the extracted duplicated data"
   ]
  },
  {
   "cell_type": "markdown",
   "id": "7cbff431-4f8b-4c4b-9a92-47156eaefe12",
   "metadata": {},
   "source": [
    "# Dealing with null values\n",
    "- Replacment\n",
    "- Drop"
   ]
  },
  {
   "cell_type": "code",
   "execution_count": null,
   "id": "96946399-d802-43ac-9c88-b3b6ff5ea9b5",
   "metadata": {},
   "outputs": [],
   "source": [
    "data.copy = data.copy() ## Copies the data set\n",
    "\n",
    "data.drop('course_id', axis =1, inplace=True) # drops the null values and inplace+True is import"
   ]
  },
  {
   "cell_type": "code",
   "execution_count": null,
   "id": "3dcbe81a-83a3-4ea6-9482-dfb3c504c0bc",
   "metadata": {},
   "outputs": [],
   "source": [
    "dat"
   ]
  },
  {
   "cell_type": "code",
   "execution_count": null,
   "id": "c4eb0004-e108-45d3-bf9a-51732fdb77a4",
   "metadata": {},
   "outputs": [],
   "source": [
    "data.describe() # Does statistics on all numerical data in thr datasets"
   ]
  },
  {
   "cell_type": "markdown",
   "id": "8bb4b9d9-d552-4bd8-b329-b8e4ac411d6e",
   "metadata": {},
   "source": [
    "### Replacements"
   ]
  },
  {
   "cell_type": "code",
   "execution_count": null,
   "id": "39c563a0-2645-4be1-b295-85d3bb044af0",
   "metadata": {},
   "outputs": [],
   "source": [
    "# SSOT\n",
    "\n",
    "data. price.fillina (data.price.mean(),inplace=True) # Filina fills the null values / replace them"
   ]
  },
  {
   "cell_type": "code",
   "execution_count": 97,
   "id": "7163ca01-29f7-425c-b4a0-9843f8c8bed1",
   "metadata": {},
   "outputs": [
    {
     "data": {
      "text/plain": [
       "49.55882352941177"
      ]
     },
     "execution_count": 97,
     "metadata": {},
     "output_type": "execute_result"
    }
   ],
   "source": [
    "data.price.mean() ## checks the mean for the data"
   ]
  },
  {
   "cell_type": "code",
   "execution_count": 98,
   "id": "17f5ed14-7381-419f-b83c-e1303e59624f",
   "metadata": {},
   "outputs": [
    {
     "name": "stderr",
     "output_type": "stream",
     "text": [
      "C:\\Users\\WIMBIZ\\AppData\\Local\\Temp\\ipykernel_16388\\2396842106.py:1: FutureWarning: A value is trying to be set on a copy of a DataFrame or Series through chained assignment using an inplace method.\n",
      "The behavior will change in pandas 3.0. This inplace method will never work because the intermediate object on which we are setting values always behaves as a copy.\n",
      "\n",
      "For example, when doing 'df[col].method(value, inplace=True)', try using 'df.method({col: value}, inplace=True)' or df[col] = df[col].method(value) instead, to perform the operation inplace on the original object.\n",
      "\n",
      "\n",
      "  data.price.fillna(method='bfill', inplace=True)\n",
      "C:\\Users\\WIMBIZ\\AppData\\Local\\Temp\\ipykernel_16388\\2396842106.py:1: FutureWarning: Series.fillna with 'method' is deprecated and will raise in a future version. Use obj.ffill() or obj.bfill() instead.\n",
      "  data.price.fillna(method='bfill', inplace=True)\n"
     ]
    }
   ],
   "source": [
    "data.price.fillna(method='bfill', inplace=True)"
   ]
  },
  {
   "cell_type": "code",
   "execution_count": 92,
   "id": "e47cb505-de0e-4ff0-b990-7e69425d46e4",
   "metadata": {},
   "outputs": [
    {
     "name": "stderr",
     "output_type": "stream",
     "text": [
      "C:\\Users\\WIMBIZ\\AppData\\Local\\Temp\\ipykernel_16388\\1850500474.py:1: FutureWarning: A value is trying to be set on a copy of a DataFrame or Series through chained assignment using an inplace method.\n",
      "The behavior will change in pandas 3.0. This inplace method will never work because the intermediate object on which we are setting values always behaves as a copy.\n",
      "\n",
      "For example, when doing 'df[col].method(value, inplace=True)', try using 'df.method({col: value}, inplace=True)' or df[col] = df[col].method(value) instead, to perform the operation inplace on the original object.\n",
      "\n",
      "\n",
      "  data.price.bfill(inplace=True) # A better to use the formula without warnings\n"
     ]
    }
   ],
   "source": [
    "data.price.bfill(inplace=True) # A better to use the formula without warnings"
   ]
  },
  {
   "cell_type": "code",
   "execution_count": null,
   "id": "caebe77a-0673-4310-bf49-7ce9913d6da7",
   "metadata": {},
   "outputs": [],
   "source": [
    "data.head()"
   ]
  },
  {
   "cell_type": "code",
   "execution_count": null,
   "id": "ae1cdb45-b488-40a9-a722-2c1e59c4fea0",
   "metadata": {},
   "outputs": [],
   "source": [
    "data['level'].value_counts() #checks all category in level"
   ]
  },
  {
   "cell_type": "code",
   "execution_count": null,
   "id": "8074947e-edce-4354-b647-e9ee09c5ca03",
   "metadata": {},
   "outputs": [],
   "source": [
    "data['course_title'].value_counts()"
   ]
  },
  {
   "cell_type": "code",
   "execution_count": null,
   "id": "0daf676b-75dc-4a1c-8e42-05ebb85b5359",
   "metadata": {},
   "outputs": [],
   "source": [
    "data['level'].replace({'Expert Level': 'Advanced Level'}, inplace=True)"
   ]
  },
  {
   "cell_type": "code",
   "execution_count": null,
   "id": "8d626d76-f821-4d5a-b3e3-982509ce437c",
   "metadata": {},
   "outputs": [],
   "source": [
    "#second optiom to replace\n",
    "\n",
    "data['level']= data['level'].replace ({'Expert Level' : 'Advanced Level'})"
   ]
  },
  {
   "cell_type": "code",
   "execution_count": null,
   "id": "bf9e82c7-b558-4d40-af76-fd15ff449438",
   "metadata": {},
   "outputs": [],
   "source": [
    "data['level'].value_counts()"
   ]
  },
  {
   "cell_type": "markdown",
   "id": "5e5f4bd9-3e91-4a7f-9847-89781be78858",
   "metadata": {},
   "source": [
    "## Drop"
   ]
  },
  {
   "cell_type": "code",
   "execution_count": null,
   "id": "150f19ef-7b1d-48b2-b34f-cbbe4645df99",
   "metadata": {},
   "outputs": [],
   "source": [
    "data.dropna(axis=0, inplace=True) ## dropna is used for rows replacements"
   ]
  },
  {
   "cell_type": "code",
   "execution_count": null,
   "id": "d3bd5618-3222-4eee-8526-f76f868ede2c",
   "metadata": {},
   "outputs": [],
   "source": [
    "#To drop a row if all values are null\n",
    "\n",
    "data.dropna(axis=0, inplace=True, how ='all')"
   ]
  },
  {
   "cell_type": "code",
   "execution_count": null,
   "id": "d09bc597-9c3d-4794-a59d-f57b2ca142ce",
   "metadata": {},
   "outputs": [],
   "source": [
    "data.dropna(axis=1, inplace=True, how ='all')"
   ]
  },
  {
   "cell_type": "code",
   "execution_count": null,
   "id": "9e80fb90-9acb-4752-b41d-c0c24b6c25df",
   "metadata": {},
   "outputs": [],
   "source": [
    "data.drop_duplicates # chcks for duplicated rows"
   ]
  },
  {
   "cell_type": "code",
   "execution_count": null,
   "id": "d507bd6a-6caf-4964-bddf-4a6bf552ffe6",
   "metadata": {},
   "outputs": [],
   "source": [
    "data.info()"
   ]
  },
  {
   "cell_type": "code",
   "execution_count": null,
   "id": "96080231-fb06-4bd1-94b2-6f37cc020fd6",
   "metadata": {},
   "outputs": [],
   "source": [
    "data.price =data.price.astype('str') #to change the data format"
   ]
  },
  {
   "cell_type": "code",
   "execution_count": null,
   "id": "23b7577a-0a90-412c-90be-b07890cd3065",
   "metadata": {},
   "outputs": [],
   "source": [
    "data['price'] = 'N' +  \" \" + data['price'] #to add Naira sign to the price values"
   ]
  },
  {
   "cell_type": "code",
   "execution_count": null,
   "id": "aee50d0f-d97b-4a6d-b889-957c9b1a9ac3",
   "metadata": {},
   "outputs": [],
   "source": [
    "data .copy"
   ]
  },
  {
   "cell_type": "code",
   "execution_count": null,
   "id": "4eab698b-5348-4570-99df-8df3668ae869",
   "metadata": {},
   "outputs": [],
   "source": [
    "data.info()"
   ]
  },
  {
   "cell_type": "code",
   "execution_count": null,
   "id": "db77b306-f4e6-49a8-8166-8f16b54aa092",
   "metadata": {},
   "outputs": [],
   "source": [
    "# this removes the Naira sign and removes str as the d datatype and retirns it to the original data\n",
    "data['price'] = data['price'].str.replace ('N N', \" \")"
   ]
  },
  {
   "cell_type": "code",
   "execution_count": null,
   "id": "400aec1f-b6c4-48c8-935d-e7dfe49d1502",
   "metadata": {},
   "outputs": [],
   "source": [
    "data"
   ]
  },
  {
   "cell_type": "code",
   "execution_count": null,
   "id": "5d8cce26-706d-449b-8e4a-f4f7180eb8b2",
   "metadata": {},
   "outputs": [],
   "source": [
    "data.copy"
   ]
  },
  {
   "cell_type": "code",
   "execution_count": 99,
   "id": "08ef9585-688b-4ea1-b2f0-433daad22895",
   "metadata": {},
   "outputs": [
    {
     "data": {
      "text/html": [
       "<div>\n",
       "<style scoped>\n",
       "    .dataframe tbody tr th:only-of-type {\n",
       "        vertical-align: middle;\n",
       "    }\n",
       "\n",
       "    .dataframe tbody tr th {\n",
       "        vertical-align: top;\n",
       "    }\n",
       "\n",
       "    .dataframe thead th {\n",
       "        text-align: right;\n",
       "    }\n",
       "</style>\n",
       "<table border=\"1\" class=\"dataframe\">\n",
       "  <thead>\n",
       "    <tr style=\"text-align: right;\">\n",
       "      <th></th>\n",
       "      <th>course_id</th>\n",
       "      <th>course_title</th>\n",
       "      <th>url</th>\n",
       "      <th>price</th>\n",
       "      <th>num_subscribers</th>\n",
       "      <th>num_reviews</th>\n",
       "      <th>num_lectures</th>\n",
       "      <th>level</th>\n",
       "      <th>Rating</th>\n",
       "      <th>content_duration</th>\n",
       "      <th>published_timestamp</th>\n",
       "      <th>subject</th>\n",
       "    </tr>\n",
       "  </thead>\n",
       "  <tbody>\n",
       "    <tr>\n",
       "      <th>0</th>\n",
       "      <td>19421</td>\n",
       "      <td>Free Beginner Electric Guitar Lessons</td>\n",
       "      <td>https://www.udemy.com/beginner-electric-guitar...</td>\n",
       "      <td>0</td>\n",
       "      <td>101154</td>\n",
       "      <td>1042</td>\n",
       "      <td>95</td>\n",
       "      <td>All Levels</td>\n",
       "      <td>0.88</td>\n",
       "      <td>4.500000</td>\n",
       "      <td>2012-06-15T17:00:33Z</td>\n",
       "      <td>Musical Instruments</td>\n",
       "    </tr>\n",
       "    <tr>\n",
       "      <th>1</th>\n",
       "      <td>238934</td>\n",
       "      <td>Pianoforall - Incredible New Way To Learn Pian...</td>\n",
       "      <td>https://www.udemy.com/pianoforall-incredible-n...</td>\n",
       "      <td>200</td>\n",
       "      <td>75499</td>\n",
       "      <td>7676</td>\n",
       "      <td>362</td>\n",
       "      <td>Beginner Level</td>\n",
       "      <td>0.96</td>\n",
       "      <td>30.000000</td>\n",
       "      <td>2014-08-07T06:27:51Z</td>\n",
       "      <td>Musical Instruments</td>\n",
       "    </tr>\n",
       "    <tr>\n",
       "      <th>2</th>\n",
       "      <td>41884</td>\n",
       "      <td>Getting Started with Playing Guitar</td>\n",
       "      <td>https://www.udemy.com/getting-started-with-pla...</td>\n",
       "      <td>0</td>\n",
       "      <td>47652</td>\n",
       "      <td>1141</td>\n",
       "      <td>26</td>\n",
       "      <td>All Levels</td>\n",
       "      <td>0.68</td>\n",
       "      <td>4.000000</td>\n",
       "      <td>2013-05-29T15:28:07Z</td>\n",
       "      <td>Musical Instruments</td>\n",
       "    </tr>\n",
       "    <tr>\n",
       "      <th>3</th>\n",
       "      <td>42271</td>\n",
       "      <td>Complete Guitar System - Beginner to Advanced</td>\n",
       "      <td>https://www.udemy.com/complete-guitar-system-b...</td>\n",
       "      <td>145</td>\n",
       "      <td>32935</td>\n",
       "      <td>2713</td>\n",
       "      <td>310</td>\n",
       "      <td>All Levels</td>\n",
       "      <td>0.65</td>\n",
       "      <td>34.000000</td>\n",
       "      <td>2013-05-29T15:24:47Z</td>\n",
       "      <td>Musical Instruments</td>\n",
       "    </tr>\n",
       "    <tr>\n",
       "      <th>4</th>\n",
       "      <td>26956</td>\n",
       "      <td>Learn Guitar in 21 Days</td>\n",
       "      <td>https://www.udemy.com/learn-guitar-in-21-days/</td>\n",
       "      <td>20</td>\n",
       "      <td>26504</td>\n",
       "      <td>192</td>\n",
       "      <td>82</td>\n",
       "      <td>All Levels</td>\n",
       "      <td>0.41</td>\n",
       "      <td>2.500000</td>\n",
       "      <td>2012-10-21T20:36:50Z</td>\n",
       "      <td>Musical Instruments</td>\n",
       "    </tr>\n",
       "    <tr>\n",
       "      <th>...</th>\n",
       "      <td>...</td>\n",
       "      <td>...</td>\n",
       "      <td>...</td>\n",
       "      <td>...</td>\n",
       "      <td>...</td>\n",
       "      <td>...</td>\n",
       "      <td>...</td>\n",
       "      <td>...</td>\n",
       "      <td>...</td>\n",
       "      <td>...</td>\n",
       "      <td>...</td>\n",
       "      <td>...</td>\n",
       "    </tr>\n",
       "    <tr>\n",
       "      <th>675</th>\n",
       "      <td>1216340</td>\n",
       "      <td>Learn to Play Sweet Child of Mine</td>\n",
       "      <td>https://www.udemy.com/learn-to-play-sweet-chil...</td>\n",
       "      <td>20</td>\n",
       "      <td>0</td>\n",
       "      <td>0</td>\n",
       "      <td>23</td>\n",
       "      <td>All Levels</td>\n",
       "      <td>0.31</td>\n",
       "      <td>1.500000</td>\n",
       "      <td>2017-06-30T17:33:29Z</td>\n",
       "      <td>Musical Instruments</td>\n",
       "    </tr>\n",
       "    <tr>\n",
       "      <th>676</th>\n",
       "      <td>1026762</td>\n",
       "      <td>Coaching Course: Rhythm Instruction for Music ...</td>\n",
       "      <td>https://www.udemy.com/coaching-bundle-rhythm-i...</td>\n",
       "      <td>125</td>\n",
       "      <td>0</td>\n",
       "      <td>0</td>\n",
       "      <td>7</td>\n",
       "      <td>Beginner Level</td>\n",
       "      <td>0.06</td>\n",
       "      <td>0.633333</td>\n",
       "      <td>2017-03-10T17:06:46Z</td>\n",
       "      <td>Musical Instruments</td>\n",
       "    </tr>\n",
       "    <tr>\n",
       "      <th>677</th>\n",
       "      <td>1223240</td>\n",
       "      <td>Learn Pirates of the Caribbean by Ear on the P...</td>\n",
       "      <td>https://www.udemy.com/learn-pirates-of-the-car...</td>\n",
       "      <td>20</td>\n",
       "      <td>0</td>\n",
       "      <td>0</td>\n",
       "      <td>6</td>\n",
       "      <td>All Levels</td>\n",
       "      <td>0.08</td>\n",
       "      <td>0.533333</td>\n",
       "      <td>2017-05-22T17:14:43Z</td>\n",
       "      <td>Musical Instruments</td>\n",
       "    </tr>\n",
       "    <tr>\n",
       "      <th>678</th>\n",
       "      <td>1224186</td>\n",
       "      <td>Learn to Play Piano Like a Pro - Easy Piano Co...</td>\n",
       "      <td>https://www.udemy.com/learn-to-play-piano-like...</td>\n",
       "      <td>35</td>\n",
       "      <td>0</td>\n",
       "      <td>0</td>\n",
       "      <td>13</td>\n",
       "      <td>Beginner Level</td>\n",
       "      <td>0.78</td>\n",
       "      <td>0.516667</td>\n",
       "      <td>2017-05-30T00:19:02Z</td>\n",
       "      <td>Musical Instruments</td>\n",
       "    </tr>\n",
       "    <tr>\n",
       "      <th>679</th>\n",
       "      <td>1234656</td>\n",
       "      <td>4 Week Rhythm Mastery</td>\n",
       "      <td>https://www.udemy.com/4-week-rhythm-mastery/</td>\n",
       "      <td>20</td>\n",
       "      <td>0</td>\n",
       "      <td>0</td>\n",
       "      <td>28</td>\n",
       "      <td>All Levels</td>\n",
       "      <td>0.01</td>\n",
       "      <td>2.500000</td>\n",
       "      <td>2017-07-05T16:07:44Z</td>\n",
       "      <td>Musical Instruments</td>\n",
       "    </tr>\n",
       "  </tbody>\n",
       "</table>\n",
       "<p>680 rows × 12 columns</p>\n",
       "</div>"
      ],
      "text/plain": [
       "     course_id                                       course_title  \\\n",
       "0        19421              Free Beginner Electric Guitar Lessons   \n",
       "1       238934  Pianoforall - Incredible New Way To Learn Pian...   \n",
       "2        41884                Getting Started with Playing Guitar   \n",
       "3        42271      Complete Guitar System - Beginner to Advanced   \n",
       "4        26956                            Learn Guitar in 21 Days   \n",
       "..         ...                                                ...   \n",
       "675    1216340                  Learn to Play Sweet Child of Mine   \n",
       "676    1026762  Coaching Course: Rhythm Instruction for Music ...   \n",
       "677    1223240  Learn Pirates of the Caribbean by Ear on the P...   \n",
       "678    1224186  Learn to Play Piano Like a Pro - Easy Piano Co...   \n",
       "679    1234656                              4 Week Rhythm Mastery   \n",
       "\n",
       "                                                   url  price  \\\n",
       "0    https://www.udemy.com/beginner-electric-guitar...      0   \n",
       "1    https://www.udemy.com/pianoforall-incredible-n...    200   \n",
       "2    https://www.udemy.com/getting-started-with-pla...      0   \n",
       "3    https://www.udemy.com/complete-guitar-system-b...    145   \n",
       "4       https://www.udemy.com/learn-guitar-in-21-days/     20   \n",
       "..                                                 ...    ...   \n",
       "675  https://www.udemy.com/learn-to-play-sweet-chil...     20   \n",
       "676  https://www.udemy.com/coaching-bundle-rhythm-i...    125   \n",
       "677  https://www.udemy.com/learn-pirates-of-the-car...     20   \n",
       "678  https://www.udemy.com/learn-to-play-piano-like...     35   \n",
       "679       https://www.udemy.com/4-week-rhythm-mastery/     20   \n",
       "\n",
       "     num_subscribers  num_reviews  num_lectures           level  Rating  \\\n",
       "0             101154         1042            95      All Levels    0.88   \n",
       "1              75499         7676           362  Beginner Level    0.96   \n",
       "2              47652         1141            26      All Levels    0.68   \n",
       "3              32935         2713           310      All Levels    0.65   \n",
       "4              26504          192            82      All Levels    0.41   \n",
       "..               ...          ...           ...             ...     ...   \n",
       "675                0            0            23      All Levels    0.31   \n",
       "676                0            0             7  Beginner Level    0.06   \n",
       "677                0            0             6      All Levels    0.08   \n",
       "678                0            0            13  Beginner Level    0.78   \n",
       "679                0            0            28      All Levels    0.01   \n",
       "\n",
       "     content_duration   published_timestamp              subject  \n",
       "0            4.500000  2012-06-15T17:00:33Z  Musical Instruments  \n",
       "1           30.000000  2014-08-07T06:27:51Z  Musical Instruments  \n",
       "2            4.000000  2013-05-29T15:28:07Z  Musical Instruments  \n",
       "3           34.000000  2013-05-29T15:24:47Z  Musical Instruments  \n",
       "4            2.500000  2012-10-21T20:36:50Z  Musical Instruments  \n",
       "..                ...                   ...                  ...  \n",
       "675          1.500000  2017-06-30T17:33:29Z  Musical Instruments  \n",
       "676          0.633333  2017-03-10T17:06:46Z  Musical Instruments  \n",
       "677          0.533333  2017-05-22T17:14:43Z  Musical Instruments  \n",
       "678          0.516667  2017-05-30T00:19:02Z  Musical Instruments  \n",
       "679          2.500000  2017-07-05T16:07:44Z  Musical Instruments  \n",
       "\n",
       "[680 rows x 12 columns]"
      ]
     },
     "execution_count": 99,
     "metadata": {},
     "output_type": "execute_result"
    }
   ],
   "source": [
    "data"
   ]
  },
  {
   "cell_type": "code",
   "execution_count": null,
   "id": "ef4b512b-393b-43e1-9dd8-8f6e74a49a49",
   "metadata": {},
   "outputs": [],
   "source": [
    "data .to_csv (\"cleaned Data.csv\")"
   ]
  },
  {
   "cell_type": "code",
   "execution_count": null,
   "id": "9bcd7651-9282-41c7-9b48-d3dea6809665",
   "metadata": {},
   "outputs": [],
   "source": []
  }
 ],
 "metadata": {
  "kernelspec": {
   "display_name": "Python 3 (ipykernel)",
   "language": "python",
   "name": "python3"
  },
  "language_info": {
   "codemirror_mode": {
    "name": "ipython",
    "version": 3
   },
   "file_extension": ".py",
   "mimetype": "text/x-python",
   "name": "python",
   "nbconvert_exporter": "python",
   "pygments_lexer": "ipython3",
   "version": "3.12.4"
  }
 },
 "nbformat": 4,
 "nbformat_minor": 5
}
