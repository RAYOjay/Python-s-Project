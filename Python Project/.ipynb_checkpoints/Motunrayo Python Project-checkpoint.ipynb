{
 "cells": [
  {
   "cell_type": "markdown",
   "id": "ab738b61-d624-463a-8f89-fd1fdcc2ddc1",
   "metadata": {},
   "source": [
    "## Problem Statemeent\n",
    "\n",
    "The financial insistute is looking forward to:\n",
    "\n",
    "- Determine customers status in the bank with active accounts or not\n",
    "- provide demographic, financial, and engagement data of bank customers.\n",
    "\n",
    "## Approach/Solution\n",
    "- Analyze Customer Demographics\n",
    "- Understand Financial Performance\n",
    "- Evaluate Engagement Metrics\n",
    "- identify Exited vs Active Customers:\n",
    "- Gain Insights for Predictive Analysis\n",
    "- identify trends and patterns in customer engagement\n",
    "- highlighting potential areas for business improvement\n",
    "- \n",
    "\n",
    "## Objective\n",
    "- Demographic Analysis\n",
    "- Customer Engagement Patterns\n",
    "- Financial Performance\n",
    "- Exited Customers Analysis\n",
    "- Customer Segmentation"
   ]
  },
  {
   "cell_type": "code",
   "execution_count": 159,
   "id": "5a72fb0f-0c21-4984-a4d5-fa373cecf0c3",
   "metadata": {},
   "outputs": [],
   "source": [
    "import pandas as pd\n",
    "import numpy as np\n",
    "import matplotlib.pyplot as plt\n",
    "import seaborn as Sb\n",
    "\n",
    "Cust_info = pd.read_excel('Bank_Churn_Messy.xlsx', sheet_name = 0)\n",
    "Acct_info = pd. read_excel('Bank_Churn_Messy.xlsx', sheet_name = 1)"
   ]
  },
  {
   "cell_type": "code",
   "execution_count": 160,
   "id": "a934f435-7dc3-4e21-a8d7-5e7214493152",
   "metadata": {},
   "outputs": [
    {
     "data": {
      "text/html": [
       "<div>\n",
       "<style scoped>\n",
       "    .dataframe tbody tr th:only-of-type {\n",
       "        vertical-align: middle;\n",
       "    }\n",
       "\n",
       "    .dataframe tbody tr th {\n",
       "        vertical-align: top;\n",
       "    }\n",
       "\n",
       "    .dataframe thead th {\n",
       "        text-align: right;\n",
       "    }\n",
       "</style>\n",
       "<table border=\"1\" class=\"dataframe\">\n",
       "  <thead>\n",
       "    <tr style=\"text-align: right;\">\n",
       "      <th></th>\n",
       "      <th>CustomerId</th>\n",
       "      <th>Surname</th>\n",
       "      <th>CreditScore</th>\n",
       "      <th>Geography</th>\n",
       "      <th>Gender</th>\n",
       "      <th>Age</th>\n",
       "      <th>Tenure</th>\n",
       "      <th>EstimatedSalary</th>\n",
       "    </tr>\n",
       "  </thead>\n",
       "  <tbody>\n",
       "    <tr>\n",
       "      <th>0</th>\n",
       "      <td>15634602</td>\n",
       "      <td>Hargrave</td>\n",
       "      <td>619</td>\n",
       "      <td>FRA</td>\n",
       "      <td>Female</td>\n",
       "      <td>42.0</td>\n",
       "      <td>2</td>\n",
       "      <td>€101348.88</td>\n",
       "    </tr>\n",
       "    <tr>\n",
       "      <th>1</th>\n",
       "      <td>15647311</td>\n",
       "      <td>Hill</td>\n",
       "      <td>608</td>\n",
       "      <td>Spain</td>\n",
       "      <td>Female</td>\n",
       "      <td>41.0</td>\n",
       "      <td>1</td>\n",
       "      <td>€112542.58</td>\n",
       "    </tr>\n",
       "    <tr>\n",
       "      <th>2</th>\n",
       "      <td>15619304</td>\n",
       "      <td>Onio</td>\n",
       "      <td>502</td>\n",
       "      <td>French</td>\n",
       "      <td>Female</td>\n",
       "      <td>42.0</td>\n",
       "      <td>8</td>\n",
       "      <td>€113931.57</td>\n",
       "    </tr>\n",
       "    <tr>\n",
       "      <th>3</th>\n",
       "      <td>15701354</td>\n",
       "      <td>Boni</td>\n",
       "      <td>699</td>\n",
       "      <td>FRA</td>\n",
       "      <td>Female</td>\n",
       "      <td>39.0</td>\n",
       "      <td>1</td>\n",
       "      <td>€93826.63</td>\n",
       "    </tr>\n",
       "    <tr>\n",
       "      <th>4</th>\n",
       "      <td>15737888</td>\n",
       "      <td>Mitchell</td>\n",
       "      <td>850</td>\n",
       "      <td>Spain</td>\n",
       "      <td>Female</td>\n",
       "      <td>43.0</td>\n",
       "      <td>2</td>\n",
       "      <td>€79084.1</td>\n",
       "    </tr>\n",
       "  </tbody>\n",
       "</table>\n",
       "</div>"
      ],
      "text/plain": [
       "   CustomerId   Surname  CreditScore Geography  Gender   Age  Tenure  \\\n",
       "0    15634602  Hargrave          619       FRA  Female  42.0       2   \n",
       "1    15647311      Hill          608     Spain  Female  41.0       1   \n",
       "2    15619304      Onio          502    French  Female  42.0       8   \n",
       "3    15701354      Boni          699       FRA  Female  39.0       1   \n",
       "4    15737888  Mitchell          850     Spain  Female  43.0       2   \n",
       "\n",
       "  EstimatedSalary  \n",
       "0      €101348.88  \n",
       "1      €112542.58  \n",
       "2      €113931.57  \n",
       "3       €93826.63  \n",
       "4        €79084.1  "
      ]
     },
     "execution_count": 160,
     "metadata": {},
     "output_type": "execute_result"
    }
   ],
   "source": [
    "Cust_info.head()"
   ]
  },
  {
   "cell_type": "code",
   "execution_count": 161,
   "id": "da8c3518-f667-4523-bdd0-d10ddd6e0863",
   "metadata": {},
   "outputs": [
    {
     "data": {
      "text/html": [
       "<div>\n",
       "<style scoped>\n",
       "    .dataframe tbody tr th:only-of-type {\n",
       "        vertical-align: middle;\n",
       "    }\n",
       "\n",
       "    .dataframe tbody tr th {\n",
       "        vertical-align: top;\n",
       "    }\n",
       "\n",
       "    .dataframe thead th {\n",
       "        text-align: right;\n",
       "    }\n",
       "</style>\n",
       "<table border=\"1\" class=\"dataframe\">\n",
       "  <thead>\n",
       "    <tr style=\"text-align: right;\">\n",
       "      <th></th>\n",
       "      <th>CustomerId</th>\n",
       "      <th>Balance</th>\n",
       "      <th>NumOfProducts</th>\n",
       "      <th>HasCrCard</th>\n",
       "      <th>Tenure</th>\n",
       "      <th>IsActiveMember</th>\n",
       "      <th>Exited</th>\n",
       "    </tr>\n",
       "  </thead>\n",
       "  <tbody>\n",
       "    <tr>\n",
       "      <th>0</th>\n",
       "      <td>15634602</td>\n",
       "      <td>€0.0</td>\n",
       "      <td>1</td>\n",
       "      <td>Yes</td>\n",
       "      <td>2</td>\n",
       "      <td>Yes</td>\n",
       "      <td>1</td>\n",
       "    </tr>\n",
       "    <tr>\n",
       "      <th>1</th>\n",
       "      <td>15634602</td>\n",
       "      <td>€0.0</td>\n",
       "      <td>1</td>\n",
       "      <td>Yes</td>\n",
       "      <td>2</td>\n",
       "      <td>Yes</td>\n",
       "      <td>1</td>\n",
       "    </tr>\n",
       "    <tr>\n",
       "      <th>2</th>\n",
       "      <td>15647311</td>\n",
       "      <td>€83807.86</td>\n",
       "      <td>1</td>\n",
       "      <td>Yes</td>\n",
       "      <td>1</td>\n",
       "      <td>Yes</td>\n",
       "      <td>0</td>\n",
       "    </tr>\n",
       "    <tr>\n",
       "      <th>3</th>\n",
       "      <td>15619304</td>\n",
       "      <td>€159660.8</td>\n",
       "      <td>3</td>\n",
       "      <td>No</td>\n",
       "      <td>8</td>\n",
       "      <td>No</td>\n",
       "      <td>1</td>\n",
       "    </tr>\n",
       "    <tr>\n",
       "      <th>4</th>\n",
       "      <td>15701354</td>\n",
       "      <td>€0.0</td>\n",
       "      <td>2</td>\n",
       "      <td>No</td>\n",
       "      <td>1</td>\n",
       "      <td>No</td>\n",
       "      <td>0</td>\n",
       "    </tr>\n",
       "  </tbody>\n",
       "</table>\n",
       "</div>"
      ],
      "text/plain": [
       "   CustomerId    Balance  NumOfProducts HasCrCard  Tenure IsActiveMember  \\\n",
       "0    15634602       €0.0              1       Yes       2            Yes   \n",
       "1    15634602       €0.0              1       Yes       2            Yes   \n",
       "2    15647311  €83807.86              1       Yes       1            Yes   \n",
       "3    15619304  €159660.8              3        No       8             No   \n",
       "4    15701354       €0.0              2        No       1             No   \n",
       "\n",
       "   Exited  \n",
       "0       1  \n",
       "1       1  \n",
       "2       0  \n",
       "3       1  \n",
       "4       0  "
      ]
     },
     "execution_count": 161,
     "metadata": {},
     "output_type": "execute_result"
    }
   ],
   "source": [
    "Acct_info.head()"
   ]
  },
  {
   "cell_type": "code",
   "execution_count": 162,
   "id": "d6808841-7939-4094-958c-0c9b6646a1a7",
   "metadata": {},
   "outputs": [],
   "source": [
    "comb_df = pd.merge(Cust_info, Acct_info, on=['CustomerId', 'Tenure'], how='left')"
   ]
  },
  {
   "cell_type": "code",
   "execution_count": 163,
   "id": "955ec7aa-449d-4b7f-921a-33ac57b58203",
   "metadata": {},
   "outputs": [
    {
     "data": {
      "text/html": [
       "<div>\n",
       "<style scoped>\n",
       "    .dataframe tbody tr th:only-of-type {\n",
       "        vertical-align: middle;\n",
       "    }\n",
       "\n",
       "    .dataframe tbody tr th {\n",
       "        vertical-align: top;\n",
       "    }\n",
       "\n",
       "    .dataframe thead th {\n",
       "        text-align: right;\n",
       "    }\n",
       "</style>\n",
       "<table border=\"1\" class=\"dataframe\">\n",
       "  <thead>\n",
       "    <tr style=\"text-align: right;\">\n",
       "      <th></th>\n",
       "      <th>CustomerId</th>\n",
       "      <th>Surname</th>\n",
       "      <th>CreditScore</th>\n",
       "      <th>Geography</th>\n",
       "      <th>Gender</th>\n",
       "      <th>Age</th>\n",
       "      <th>Tenure</th>\n",
       "      <th>EstimatedSalary</th>\n",
       "      <th>Balance</th>\n",
       "      <th>NumOfProducts</th>\n",
       "      <th>HasCrCard</th>\n",
       "      <th>IsActiveMember</th>\n",
       "      <th>Exited</th>\n",
       "    </tr>\n",
       "  </thead>\n",
       "  <tbody>\n",
       "    <tr>\n",
       "      <th>0</th>\n",
       "      <td>15634602</td>\n",
       "      <td>Hargrave</td>\n",
       "      <td>619</td>\n",
       "      <td>FRA</td>\n",
       "      <td>Female</td>\n",
       "      <td>42.0</td>\n",
       "      <td>2</td>\n",
       "      <td>€101348.88</td>\n",
       "      <td>€0.0</td>\n",
       "      <td>1</td>\n",
       "      <td>Yes</td>\n",
       "      <td>Yes</td>\n",
       "      <td>1</td>\n",
       "    </tr>\n",
       "    <tr>\n",
       "      <th>1</th>\n",
       "      <td>15634602</td>\n",
       "      <td>Hargrave</td>\n",
       "      <td>619</td>\n",
       "      <td>FRA</td>\n",
       "      <td>Female</td>\n",
       "      <td>42.0</td>\n",
       "      <td>2</td>\n",
       "      <td>€101348.88</td>\n",
       "      <td>€0.0</td>\n",
       "      <td>1</td>\n",
       "      <td>Yes</td>\n",
       "      <td>Yes</td>\n",
       "      <td>1</td>\n",
       "    </tr>\n",
       "    <tr>\n",
       "      <th>2</th>\n",
       "      <td>15647311</td>\n",
       "      <td>Hill</td>\n",
       "      <td>608</td>\n",
       "      <td>Spain</td>\n",
       "      <td>Female</td>\n",
       "      <td>41.0</td>\n",
       "      <td>1</td>\n",
       "      <td>€112542.58</td>\n",
       "      <td>€83807.86</td>\n",
       "      <td>1</td>\n",
       "      <td>Yes</td>\n",
       "      <td>Yes</td>\n",
       "      <td>0</td>\n",
       "    </tr>\n",
       "    <tr>\n",
       "      <th>3</th>\n",
       "      <td>15619304</td>\n",
       "      <td>Onio</td>\n",
       "      <td>502</td>\n",
       "      <td>French</td>\n",
       "      <td>Female</td>\n",
       "      <td>42.0</td>\n",
       "      <td>8</td>\n",
       "      <td>€113931.57</td>\n",
       "      <td>€159660.8</td>\n",
       "      <td>3</td>\n",
       "      <td>No</td>\n",
       "      <td>No</td>\n",
       "      <td>1</td>\n",
       "    </tr>\n",
       "    <tr>\n",
       "      <th>4</th>\n",
       "      <td>15701354</td>\n",
       "      <td>Boni</td>\n",
       "      <td>699</td>\n",
       "      <td>FRA</td>\n",
       "      <td>Female</td>\n",
       "      <td>39.0</td>\n",
       "      <td>1</td>\n",
       "      <td>€93826.63</td>\n",
       "      <td>€0.0</td>\n",
       "      <td>2</td>\n",
       "      <td>No</td>\n",
       "      <td>No</td>\n",
       "      <td>0</td>\n",
       "    </tr>\n",
       "  </tbody>\n",
       "</table>\n",
       "</div>"
      ],
      "text/plain": [
       "   CustomerId   Surname  CreditScore Geography  Gender   Age  Tenure  \\\n",
       "0    15634602  Hargrave          619       FRA  Female  42.0       2   \n",
       "1    15634602  Hargrave          619       FRA  Female  42.0       2   \n",
       "2    15647311      Hill          608     Spain  Female  41.0       1   \n",
       "3    15619304      Onio          502    French  Female  42.0       8   \n",
       "4    15701354      Boni          699       FRA  Female  39.0       1   \n",
       "\n",
       "  EstimatedSalary    Balance  NumOfProducts HasCrCard IsActiveMember  Exited  \n",
       "0      €101348.88       €0.0              1       Yes            Yes       1  \n",
       "1      €101348.88       €0.0              1       Yes            Yes       1  \n",
       "2      €112542.58  €83807.86              1       Yes            Yes       0  \n",
       "3      €113931.57  €159660.8              3        No             No       1  \n",
       "4       €93826.63       €0.0              2        No             No       0  "
      ]
     },
     "execution_count": 163,
     "metadata": {},
     "output_type": "execute_result"
    }
   ],
   "source": [
    "comb_df.head()"
   ]
  },
  {
   "cell_type": "code",
   "execution_count": 164,
   "id": "7e8b3f1f-22fa-4c25-ac41-654690131b80",
   "metadata": {},
   "outputs": [
    {
     "data": {
      "text/html": [
       "<div>\n",
       "<style scoped>\n",
       "    .dataframe tbody tr th:only-of-type {\n",
       "        vertical-align: middle;\n",
       "    }\n",
       "\n",
       "    .dataframe tbody tr th {\n",
       "        vertical-align: top;\n",
       "    }\n",
       "\n",
       "    .dataframe thead th {\n",
       "        text-align: right;\n",
       "    }\n",
       "</style>\n",
       "<table border=\"1\" class=\"dataframe\">\n",
       "  <thead>\n",
       "    <tr style=\"text-align: right;\">\n",
       "      <th></th>\n",
       "      <th>CustomerId</th>\n",
       "      <th>Surname</th>\n",
       "      <th>CreditScore</th>\n",
       "      <th>Geography</th>\n",
       "      <th>Gender</th>\n",
       "      <th>Age</th>\n",
       "      <th>Tenure</th>\n",
       "      <th>EstimatedSalary</th>\n",
       "      <th>Balance</th>\n",
       "      <th>NumOfProducts</th>\n",
       "      <th>HasCrCard</th>\n",
       "      <th>IsActiveMember</th>\n",
       "      <th>Exited</th>\n",
       "    </tr>\n",
       "  </thead>\n",
       "  <tbody>\n",
       "    <tr>\n",
       "      <th>9999</th>\n",
       "      <td>15682355</td>\n",
       "      <td>Sabbatini</td>\n",
       "      <td>772</td>\n",
       "      <td>Germany</td>\n",
       "      <td>Male</td>\n",
       "      <td>42.0</td>\n",
       "      <td>3</td>\n",
       "      <td>€92888.52</td>\n",
       "      <td>€75075.31</td>\n",
       "      <td>2</td>\n",
       "      <td>No</td>\n",
       "      <td>No</td>\n",
       "      <td>1</td>\n",
       "    </tr>\n",
       "    <tr>\n",
       "      <th>10000</th>\n",
       "      <td>15628319</td>\n",
       "      <td>Walker</td>\n",
       "      <td>792</td>\n",
       "      <td>French</td>\n",
       "      <td>Female</td>\n",
       "      <td>28.0</td>\n",
       "      <td>4</td>\n",
       "      <td>€38190.78</td>\n",
       "      <td>€130142.79</td>\n",
       "      <td>1</td>\n",
       "      <td>No</td>\n",
       "      <td>No</td>\n",
       "      <td>0</td>\n",
       "    </tr>\n",
       "    <tr>\n",
       "      <th>10001</th>\n",
       "      <td>15628319</td>\n",
       "      <td>Walker</td>\n",
       "      <td>792</td>\n",
       "      <td>French</td>\n",
       "      <td>Female</td>\n",
       "      <td>28.0</td>\n",
       "      <td>4</td>\n",
       "      <td>€38190.78</td>\n",
       "      <td>€130142.79</td>\n",
       "      <td>1</td>\n",
       "      <td>No</td>\n",
       "      <td>No</td>\n",
       "      <td>0</td>\n",
       "    </tr>\n",
       "    <tr>\n",
       "      <th>10002</th>\n",
       "      <td>15628319</td>\n",
       "      <td>Walker</td>\n",
       "      <td>792</td>\n",
       "      <td>French</td>\n",
       "      <td>Female</td>\n",
       "      <td>28.0</td>\n",
       "      <td>4</td>\n",
       "      <td>€38190.78</td>\n",
       "      <td>€130142.79</td>\n",
       "      <td>1</td>\n",
       "      <td>No</td>\n",
       "      <td>No</td>\n",
       "      <td>0</td>\n",
       "    </tr>\n",
       "    <tr>\n",
       "      <th>10003</th>\n",
       "      <td>15628319</td>\n",
       "      <td>Walker</td>\n",
       "      <td>792</td>\n",
       "      <td>French</td>\n",
       "      <td>Female</td>\n",
       "      <td>28.0</td>\n",
       "      <td>4</td>\n",
       "      <td>€38190.78</td>\n",
       "      <td>€130142.79</td>\n",
       "      <td>1</td>\n",
       "      <td>No</td>\n",
       "      <td>No</td>\n",
       "      <td>0</td>\n",
       "    </tr>\n",
       "  </tbody>\n",
       "</table>\n",
       "</div>"
      ],
      "text/plain": [
       "       CustomerId    Surname  CreditScore Geography  Gender   Age  Tenure  \\\n",
       "9999     15682355  Sabbatini          772   Germany    Male  42.0       3   \n",
       "10000    15628319     Walker          792    French  Female  28.0       4   \n",
       "10001    15628319     Walker          792    French  Female  28.0       4   \n",
       "10002    15628319     Walker          792    French  Female  28.0       4   \n",
       "10003    15628319     Walker          792    French  Female  28.0       4   \n",
       "\n",
       "      EstimatedSalary     Balance  NumOfProducts HasCrCard IsActiveMember  \\\n",
       "9999        €92888.52   €75075.31              2        No             No   \n",
       "10000       €38190.78  €130142.79              1        No             No   \n",
       "10001       €38190.78  €130142.79              1        No             No   \n",
       "10002       €38190.78  €130142.79              1        No             No   \n",
       "10003       €38190.78  €130142.79              1        No             No   \n",
       "\n",
       "       Exited  \n",
       "9999        1  \n",
       "10000       0  \n",
       "10001       0  \n",
       "10002       0  \n",
       "10003       0  "
      ]
     },
     "execution_count": 164,
     "metadata": {},
     "output_type": "execute_result"
    }
   ],
   "source": [
    "comb_df.tail()"
   ]
  },
  {
   "cell_type": "markdown",
   "id": "a8346b24-fefb-4ddc-bc07-19881e1700fd",
   "metadata": {},
   "source": [
    "## Data Exploration"
   ]
  },
  {
   "cell_type": "code",
   "execution_count": 165,
   "id": "beb856eb-4e07-4053-aecd-f638253398a9",
   "metadata": {},
   "outputs": [
    {
     "name": "stdout",
     "output_type": "stream",
     "text": [
      "<class 'pandas.core.frame.DataFrame'>\n",
      "RangeIndex: 10004 entries, 0 to 10003\n",
      "Data columns (total 13 columns):\n",
      " #   Column           Non-Null Count  Dtype  \n",
      "---  ------           --------------  -----  \n",
      " 0   CustomerId       10004 non-null  int64  \n",
      " 1   Surname          10001 non-null  object \n",
      " 2   CreditScore      10004 non-null  int64  \n",
      " 3   Geography        10004 non-null  object \n",
      " 4   Gender           10004 non-null  object \n",
      " 5   Age              10001 non-null  float64\n",
      " 6   Tenure           10004 non-null  int64  \n",
      " 7   EstimatedSalary  10004 non-null  object \n",
      " 8   Balance          10004 non-null  object \n",
      " 9   NumOfProducts    10004 non-null  int64  \n",
      " 10  HasCrCard        10004 non-null  object \n",
      " 11  IsActiveMember   10004 non-null  object \n",
      " 12  Exited           10004 non-null  int64  \n",
      "dtypes: float64(1), int64(5), object(7)\n",
      "memory usage: 1016.2+ KB\n"
     ]
    }
   ],
   "source": [
    "comb_df.info()"
   ]
  },
  {
   "cell_type": "markdown",
   "id": "331086a1-099b-4d01-b14b-b0a992cf98e7",
   "metadata": {},
   "source": [
    "Observation Estimated_Salary is has incorrect datatype"
   ]
  },
  {
   "cell_type": "code",
   "execution_count": 166,
   "id": "5612c323-9fa5-40dc-8f72-85dda07e5f6b",
   "metadata": {},
   "outputs": [
    {
     "data": {
      "text/plain": [
       "Index(['CustomerId', 'Surname', 'CreditScore', 'Geography', 'Gender', 'Age',\n",
       "       'Tenure', 'EstimatedSalary', 'Balance', 'NumOfProducts', 'HasCrCard',\n",
       "       'IsActiveMember', 'Exited'],\n",
       "      dtype='object')"
      ]
     },
     "execution_count": 166,
     "metadata": {},
     "output_type": "execute_result"
    }
   ],
   "source": [
    "comb_df.columns"
   ]
  },
  {
   "cell_type": "code",
   "execution_count": 167,
   "id": "d229cb08-a4b4-4977-8ae5-e860a2e91c14",
   "metadata": {},
   "outputs": [
    {
     "data": {
      "text/plain": [
       "(10004, 13)"
      ]
     },
     "execution_count": 167,
     "metadata": {},
     "output_type": "execute_result"
    }
   ],
   "source": [
    "comb_df.shape"
   ]
  },
  {
   "cell_type": "markdown",
   "id": "e9664402-86e7-48fd-909c-9276800dec51",
   "metadata": {},
   "source": [
    "Result: Surname and age has incomplete rows"
   ]
  },
  {
   "cell_type": "markdown",
   "id": "c3d3c9f1-bda6-4c32-b7e0-1ff335e22125",
   "metadata": {},
   "source": [
    "## Data Cleaning"
   ]
  },
  {
   "cell_type": "code",
   "execution_count": 168,
   "id": "7b699b22-4cd6-4ca5-8fea-9694566e9f4b",
   "metadata": {},
   "outputs": [
    {
     "data": {
      "text/plain": [
       "CustomerId         0\n",
       "Surname            3\n",
       "CreditScore        0\n",
       "Geography          0\n",
       "Gender             0\n",
       "Age                3\n",
       "Tenure             0\n",
       "EstimatedSalary    0\n",
       "Balance            0\n",
       "NumOfProducts      0\n",
       "HasCrCard          0\n",
       "IsActiveMember     0\n",
       "Exited             0\n",
       "dtype: int64"
      ]
     },
     "execution_count": 168,
     "metadata": {},
     "output_type": "execute_result"
    }
   ],
   "source": [
    "comb_df.isnull().sum()"
   ]
  },
  {
   "cell_type": "code",
   "execution_count": 169,
   "id": "4f6196d2-3a4c-4533-8613-75224f21b510",
   "metadata": {},
   "outputs": [
    {
     "data": {
      "text/plain": [
       "Surname\n",
       "Smith       32\n",
       "Walker      31\n",
       "Martin      29\n",
       "Scott       29\n",
       "Brown       26\n",
       "            ..\n",
       "Howey        1\n",
       "Basedow      1\n",
       "Thomsen      1\n",
       "Riddle       1\n",
       "Burbidge     1\n",
       "Name: count, Length: 2932, dtype: int64"
      ]
     },
     "execution_count": 169,
     "metadata": {},
     "output_type": "execute_result"
    }
   ],
   "source": [
    "comb_df['Surname'].value_counts() "
   ]
  },
  {
   "cell_type": "code",
   "execution_count": 170,
   "id": "552d37d3-a17d-46c8-b564-82b7bb7a494e",
   "metadata": {},
   "outputs": [
    {
     "data": {
      "text/html": [
       "<div>\n",
       "<style scoped>\n",
       "    .dataframe tbody tr th:only-of-type {\n",
       "        vertical-align: middle;\n",
       "    }\n",
       "\n",
       "    .dataframe tbody tr th {\n",
       "        vertical-align: top;\n",
       "    }\n",
       "\n",
       "    .dataframe thead th {\n",
       "        text-align: right;\n",
       "    }\n",
       "</style>\n",
       "<table border=\"1\" class=\"dataframe\">\n",
       "  <thead>\n",
       "    <tr style=\"text-align: right;\">\n",
       "      <th></th>\n",
       "      <th>CustomerId</th>\n",
       "      <th>Surname</th>\n",
       "      <th>CreditScore</th>\n",
       "      <th>Geography</th>\n",
       "      <th>Gender</th>\n",
       "      <th>Age</th>\n",
       "      <th>Tenure</th>\n",
       "      <th>EstimatedSalary</th>\n",
       "      <th>Balance</th>\n",
       "      <th>NumOfProducts</th>\n",
       "      <th>HasCrCard</th>\n",
       "      <th>IsActiveMember</th>\n",
       "      <th>Exited</th>\n",
       "    </tr>\n",
       "  </thead>\n",
       "  <tbody>\n",
       "    <tr>\n",
       "      <th>29</th>\n",
       "      <td>15728693</td>\n",
       "      <td>NaN</td>\n",
       "      <td>574</td>\n",
       "      <td>Germany</td>\n",
       "      <td>Female</td>\n",
       "      <td>NaN</td>\n",
       "      <td>3</td>\n",
       "      <td>-€999999</td>\n",
       "      <td>€141349.43</td>\n",
       "      <td>1</td>\n",
       "      <td>Yes</td>\n",
       "      <td>Yes</td>\n",
       "      <td>0</td>\n",
       "    </tr>\n",
       "    <tr>\n",
       "      <th>122</th>\n",
       "      <td>15580203</td>\n",
       "      <td>NaN</td>\n",
       "      <td>674</td>\n",
       "      <td>Spain</td>\n",
       "      <td>Male</td>\n",
       "      <td>NaN</td>\n",
       "      <td>6</td>\n",
       "      <td>-€999999</td>\n",
       "      <td>€120193.42</td>\n",
       "      <td>1</td>\n",
       "      <td>No</td>\n",
       "      <td>No</td>\n",
       "      <td>0</td>\n",
       "    </tr>\n",
       "    <tr>\n",
       "      <th>9390</th>\n",
       "      <td>15756954</td>\n",
       "      <td>NaN</td>\n",
       "      <td>538</td>\n",
       "      <td>France</td>\n",
       "      <td>Female</td>\n",
       "      <td>NaN</td>\n",
       "      <td>2</td>\n",
       "      <td>-€999999</td>\n",
       "      <td>€0.0</td>\n",
       "      <td>1</td>\n",
       "      <td>Yes</td>\n",
       "      <td>Yes</td>\n",
       "      <td>0</td>\n",
       "    </tr>\n",
       "  </tbody>\n",
       "</table>\n",
       "</div>"
      ],
      "text/plain": [
       "      CustomerId Surname  CreditScore Geography  Gender  Age  Tenure  \\\n",
       "29      15728693     NaN          574   Germany  Female  NaN       3   \n",
       "122     15580203     NaN          674     Spain    Male  NaN       6   \n",
       "9390    15756954     NaN          538    France  Female  NaN       2   \n",
       "\n",
       "     EstimatedSalary     Balance  NumOfProducts HasCrCard IsActiveMember  \\\n",
       "29          -€999999  €141349.43              1       Yes            Yes   \n",
       "122         -€999999  €120193.42              1        No             No   \n",
       "9390        -€999999        €0.0              1       Yes            Yes   \n",
       "\n",
       "      Exited  \n",
       "29         0  \n",
       "122        0  \n",
       "9390       0  "
      ]
     },
     "execution_count": 170,
     "metadata": {},
     "output_type": "execute_result"
    }
   ],
   "source": [
    "comb_df[comb_df['Surname'].isnull()]"
   ]
  },
  {
   "cell_type": "code",
   "execution_count": 171,
   "id": "1b26447f-787f-497a-a03b-a9f2658b4246",
   "metadata": {},
   "outputs": [],
   "source": [
    "#replace null values with unknown\n",
    "\n",
    "comb_df['Surname'] = comb_df['Surname'].fillna('Unknown')"
   ]
  },
  {
   "cell_type": "code",
   "execution_count": 172,
   "id": "90ca8421-5176-46b5-bda7-ad8b444839b4",
   "metadata": {},
   "outputs": [
    {
     "data": {
      "text/html": [
       "<div>\n",
       "<style scoped>\n",
       "    .dataframe tbody tr th:only-of-type {\n",
       "        vertical-align: middle;\n",
       "    }\n",
       "\n",
       "    .dataframe tbody tr th {\n",
       "        vertical-align: top;\n",
       "    }\n",
       "\n",
       "    .dataframe thead th {\n",
       "        text-align: right;\n",
       "    }\n",
       "</style>\n",
       "<table border=\"1\" class=\"dataframe\">\n",
       "  <thead>\n",
       "    <tr style=\"text-align: right;\">\n",
       "      <th></th>\n",
       "      <th>CustomerId</th>\n",
       "      <th>CreditScore</th>\n",
       "      <th>Age</th>\n",
       "      <th>Tenure</th>\n",
       "      <th>NumOfProducts</th>\n",
       "      <th>Exited</th>\n",
       "    </tr>\n",
       "  </thead>\n",
       "  <tbody>\n",
       "    <tr>\n",
       "      <th>count</th>\n",
       "      <td>1.000400e+04</td>\n",
       "      <td>10004.000000</td>\n",
       "      <td>10001.000000</td>\n",
       "      <td>10004.000000</td>\n",
       "      <td>10004.000000</td>\n",
       "      <td>10004.000000</td>\n",
       "    </tr>\n",
       "    <tr>\n",
       "      <th>mean</th>\n",
       "      <td>1.569092e+07</td>\n",
       "      <td>650.568073</td>\n",
       "      <td>38.919108</td>\n",
       "      <td>5.012195</td>\n",
       "      <td>1.529988</td>\n",
       "      <td>0.203719</td>\n",
       "    </tr>\n",
       "    <tr>\n",
       "      <th>std</th>\n",
       "      <td>7.193218e+04</td>\n",
       "      <td>96.665531</td>\n",
       "      <td>10.488725</td>\n",
       "      <td>2.891806</td>\n",
       "      <td>0.581635</td>\n",
       "      <td>0.402782</td>\n",
       "    </tr>\n",
       "    <tr>\n",
       "      <th>min</th>\n",
       "      <td>1.556570e+07</td>\n",
       "      <td>350.000000</td>\n",
       "      <td>18.000000</td>\n",
       "      <td>0.000000</td>\n",
       "      <td>1.000000</td>\n",
       "      <td>0.000000</td>\n",
       "    </tr>\n",
       "    <tr>\n",
       "      <th>25%</th>\n",
       "      <td>1.562839e+07</td>\n",
       "      <td>584.000000</td>\n",
       "      <td>32.000000</td>\n",
       "      <td>3.000000</td>\n",
       "      <td>1.000000</td>\n",
       "      <td>0.000000</td>\n",
       "    </tr>\n",
       "    <tr>\n",
       "      <th>50%</th>\n",
       "      <td>1.569071e+07</td>\n",
       "      <td>652.000000</td>\n",
       "      <td>37.000000</td>\n",
       "      <td>5.000000</td>\n",
       "      <td>1.000000</td>\n",
       "      <td>0.000000</td>\n",
       "    </tr>\n",
       "    <tr>\n",
       "      <th>75%</th>\n",
       "      <td>1.575322e+07</td>\n",
       "      <td>718.000000</td>\n",
       "      <td>44.000000</td>\n",
       "      <td>7.000000</td>\n",
       "      <td>2.000000</td>\n",
       "      <td>0.000000</td>\n",
       "    </tr>\n",
       "    <tr>\n",
       "      <th>max</th>\n",
       "      <td>1.581569e+07</td>\n",
       "      <td>850.000000</td>\n",
       "      <td>92.000000</td>\n",
       "      <td>10.000000</td>\n",
       "      <td>4.000000</td>\n",
       "      <td>1.000000</td>\n",
       "    </tr>\n",
       "  </tbody>\n",
       "</table>\n",
       "</div>"
      ],
      "text/plain": [
       "         CustomerId   CreditScore           Age        Tenure  NumOfProducts  \\\n",
       "count  1.000400e+04  10004.000000  10001.000000  10004.000000   10004.000000   \n",
       "mean   1.569092e+07    650.568073     38.919108      5.012195       1.529988   \n",
       "std    7.193218e+04     96.665531     10.488725      2.891806       0.581635   \n",
       "min    1.556570e+07    350.000000     18.000000      0.000000       1.000000   \n",
       "25%    1.562839e+07    584.000000     32.000000      3.000000       1.000000   \n",
       "50%    1.569071e+07    652.000000     37.000000      5.000000       1.000000   \n",
       "75%    1.575322e+07    718.000000     44.000000      7.000000       2.000000   \n",
       "max    1.581569e+07    850.000000     92.000000     10.000000       4.000000   \n",
       "\n",
       "             Exited  \n",
       "count  10004.000000  \n",
       "mean       0.203719  \n",
       "std        0.402782  \n",
       "min        0.000000  \n",
       "25%        0.000000  \n",
       "50%        0.000000  \n",
       "75%        0.000000  \n",
       "max        1.000000  "
      ]
     },
     "execution_count": 172,
     "metadata": {},
     "output_type": "execute_result"
    }
   ],
   "source": [
    "comb_df.describe()"
   ]
  },
  {
   "cell_type": "code",
   "execution_count": 173,
   "id": "7c1f7f07-5b68-47f9-a213-080368a7fafd",
   "metadata": {},
   "outputs": [],
   "source": [
    "#replace null values with the median\n",
    "#calculates the median value of the Age column. \n",
    "#The median is the middle value in a sorted list of numbers and  If there are an even number of values, the median is the average of the two middle values.\n",
    "\n",
    "comb_df['Age'] = comb_df['Age'].fillna(comb_df['Age'].median())"
   ]
  },
  {
   "cell_type": "code",
   "execution_count": 174,
   "id": "cddfd4ba-7cc6-4775-b42f-86dbb71df1b7",
   "metadata": {},
   "outputs": [],
   "source": [
    "comb_df['Balance'] = comb_df['Balance'].replace(['€999999', '€-999999', '€0.0'], 0)"
   ]
  },
  {
   "cell_type": "code",
   "execution_count": 175,
   "id": "97fee781-b000-4f91-9df5-94fd9f2cebe2",
   "metadata": {},
   "outputs": [
    {
     "data": {
      "text/plain": [
       "4"
      ]
     },
     "execution_count": 175,
     "metadata": {},
     "output_type": "execute_result"
    }
   ],
   "source": [
    "comb_df.duplicated().sum()"
   ]
  },
  {
   "cell_type": "code",
   "execution_count": 176,
   "id": "50dcdf5e-45c2-49be-9be9-6621d3f8b5a3",
   "metadata": {},
   "outputs": [
    {
     "name": "stdout",
     "output_type": "stream",
     "text": [
      "<class 'pandas.core.frame.DataFrame'>\n",
      "RangeIndex: 10004 entries, 0 to 10003\n",
      "Data columns (total 13 columns):\n",
      " #   Column           Non-Null Count  Dtype  \n",
      "---  ------           --------------  -----  \n",
      " 0   CustomerId       10004 non-null  int64  \n",
      " 1   Surname          10004 non-null  object \n",
      " 2   CreditScore      10004 non-null  int64  \n",
      " 3   Geography        10004 non-null  object \n",
      " 4   Gender           10004 non-null  object \n",
      " 5   Age              10004 non-null  float64\n",
      " 6   Tenure           10004 non-null  int64  \n",
      " 7   EstimatedSalary  10004 non-null  object \n",
      " 8   Balance          10004 non-null  object \n",
      " 9   NumOfProducts    10004 non-null  int64  \n",
      " 10  HasCrCard        10004 non-null  object \n",
      " 11  IsActiveMember   10004 non-null  object \n",
      " 12  Exited           10004 non-null  int64  \n",
      "dtypes: float64(1), int64(5), object(7)\n",
      "memory usage: 1016.2+ KB\n"
     ]
    }
   ],
   "source": [
    "comb_df.info()"
   ]
  },
  {
   "cell_type": "markdown",
   "id": "421148a9-b257-4de1-9a6e-b7964d1272e1",
   "metadata": {
    "jp-MarkdownHeadingCollapsed": true
   },
   "source": [
    "## Data Analysis"
   ]
  },
  {
   "cell_type": "markdown",
   "id": "863711ed-d690-4c1f-87f2-77286430a7b9",
   "metadata": {},
   "source": [
    "## 1. Demographic Analysis:\n",
    "Analyze the distribution of customers based on geography, gender, and age.\n",
    "Identify any demographic segments (e.g., by geography or gender) that have a significantly different credit score, balance, or other financial metrics.\n"
   ]
  },
  {
   "cell_type": "markdown",
   "id": "d1575dce-51cd-4751-8901-3f2c8ca8b386",
   "metadata": {},
   "source": [
    "Obervation: EstimatedSalary and Balance has in correct data type"
   ]
  },
  {
   "cell_type": "code",
   "execution_count": 177,
   "id": "a2c598a1-196f-4d54-835e-4a447385cdb8",
   "metadata": {},
   "outputs": [],
   "source": [
    "comb_df['EstimatedSalary'] = comb_df['EstimatedSalary'].str.replace('€', ' ')"
   ]
  },
  {
   "cell_type": "code",
   "execution_count": 178,
   "id": "8029524a-7ed3-4948-9b3a-6aa59197ee8e",
   "metadata": {},
   "outputs": [
    {
     "data": {
      "text/html": [
       "<div>\n",
       "<style scoped>\n",
       "    .dataframe tbody tr th:only-of-type {\n",
       "        vertical-align: middle;\n",
       "    }\n",
       "\n",
       "    .dataframe tbody tr th {\n",
       "        vertical-align: top;\n",
       "    }\n",
       "\n",
       "    .dataframe thead th {\n",
       "        text-align: right;\n",
       "    }\n",
       "</style>\n",
       "<table border=\"1\" class=\"dataframe\">\n",
       "  <thead>\n",
       "    <tr style=\"text-align: right;\">\n",
       "      <th></th>\n",
       "      <th>CustomerId</th>\n",
       "      <th>Surname</th>\n",
       "      <th>CreditScore</th>\n",
       "      <th>Geography</th>\n",
       "      <th>Gender</th>\n",
       "      <th>Age</th>\n",
       "      <th>Tenure</th>\n",
       "      <th>EstimatedSalary</th>\n",
       "      <th>Balance</th>\n",
       "      <th>NumOfProducts</th>\n",
       "      <th>HasCrCard</th>\n",
       "      <th>IsActiveMember</th>\n",
       "      <th>Exited</th>\n",
       "    </tr>\n",
       "  </thead>\n",
       "  <tbody>\n",
       "    <tr>\n",
       "      <th>0</th>\n",
       "      <td>15634602</td>\n",
       "      <td>Hargrave</td>\n",
       "      <td>619</td>\n",
       "      <td>FRA</td>\n",
       "      <td>Female</td>\n",
       "      <td>42.0</td>\n",
       "      <td>2</td>\n",
       "      <td>101348.88</td>\n",
       "      <td>0</td>\n",
       "      <td>1</td>\n",
       "      <td>Yes</td>\n",
       "      <td>Yes</td>\n",
       "      <td>1</td>\n",
       "    </tr>\n",
       "    <tr>\n",
       "      <th>1</th>\n",
       "      <td>15634602</td>\n",
       "      <td>Hargrave</td>\n",
       "      <td>619</td>\n",
       "      <td>FRA</td>\n",
       "      <td>Female</td>\n",
       "      <td>42.0</td>\n",
       "      <td>2</td>\n",
       "      <td>101348.88</td>\n",
       "      <td>0</td>\n",
       "      <td>1</td>\n",
       "      <td>Yes</td>\n",
       "      <td>Yes</td>\n",
       "      <td>1</td>\n",
       "    </tr>\n",
       "    <tr>\n",
       "      <th>2</th>\n",
       "      <td>15647311</td>\n",
       "      <td>Hill</td>\n",
       "      <td>608</td>\n",
       "      <td>Spain</td>\n",
       "      <td>Female</td>\n",
       "      <td>41.0</td>\n",
       "      <td>1</td>\n",
       "      <td>112542.58</td>\n",
       "      <td>€83807.86</td>\n",
       "      <td>1</td>\n",
       "      <td>Yes</td>\n",
       "      <td>Yes</td>\n",
       "      <td>0</td>\n",
       "    </tr>\n",
       "    <tr>\n",
       "      <th>3</th>\n",
       "      <td>15619304</td>\n",
       "      <td>Onio</td>\n",
       "      <td>502</td>\n",
       "      <td>French</td>\n",
       "      <td>Female</td>\n",
       "      <td>42.0</td>\n",
       "      <td>8</td>\n",
       "      <td>113931.57</td>\n",
       "      <td>€159660.8</td>\n",
       "      <td>3</td>\n",
       "      <td>No</td>\n",
       "      <td>No</td>\n",
       "      <td>1</td>\n",
       "    </tr>\n",
       "    <tr>\n",
       "      <th>4</th>\n",
       "      <td>15701354</td>\n",
       "      <td>Boni</td>\n",
       "      <td>699</td>\n",
       "      <td>FRA</td>\n",
       "      <td>Female</td>\n",
       "      <td>39.0</td>\n",
       "      <td>1</td>\n",
       "      <td>93826.63</td>\n",
       "      <td>0</td>\n",
       "      <td>2</td>\n",
       "      <td>No</td>\n",
       "      <td>No</td>\n",
       "      <td>0</td>\n",
       "    </tr>\n",
       "  </tbody>\n",
       "</table>\n",
       "</div>"
      ],
      "text/plain": [
       "   CustomerId   Surname  CreditScore Geography  Gender   Age  Tenure  \\\n",
       "0    15634602  Hargrave          619       FRA  Female  42.0       2   \n",
       "1    15634602  Hargrave          619       FRA  Female  42.0       2   \n",
       "2    15647311      Hill          608     Spain  Female  41.0       1   \n",
       "3    15619304      Onio          502    French  Female  42.0       8   \n",
       "4    15701354      Boni          699       FRA  Female  39.0       1   \n",
       "\n",
       "  EstimatedSalary    Balance  NumOfProducts HasCrCard IsActiveMember  Exited  \n",
       "0       101348.88          0              1       Yes            Yes       1  \n",
       "1       101348.88          0              1       Yes            Yes       1  \n",
       "2       112542.58  €83807.86              1       Yes            Yes       0  \n",
       "3       113931.57  €159660.8              3        No             No       1  \n",
       "4        93826.63          0              2        No             No       0  "
      ]
     },
     "execution_count": 178,
     "metadata": {},
     "output_type": "execute_result"
    }
   ],
   "source": [
    "comb_df.head()"
   ]
  },
  {
   "cell_type": "code",
   "execution_count": 179,
   "id": "a2733805-b326-4e83-a39d-72833a7b48da",
   "metadata": {},
   "outputs": [],
   "source": [
    "#The regex=True argument ensures that the replace method works with regular expressions, \n",
    "#which is useful for pattern matching, but in this case it's not strictly necessary because we are replacing fixed strings ('€' and ',').\n",
    "\n",
    "comb_df['Balance'] = comb_df['Balance'].astype(str).replace({'€': '', ',': ''}, regex=True)"
   ]
  },
  {
   "cell_type": "code",
   "execution_count": 180,
   "id": "4d82558f-1825-4ea0-b53e-fad5f40ebac7",
   "metadata": {},
   "outputs": [
    {
     "data": {
      "text/html": [
       "<div>\n",
       "<style scoped>\n",
       "    .dataframe tbody tr th:only-of-type {\n",
       "        vertical-align: middle;\n",
       "    }\n",
       "\n",
       "    .dataframe tbody tr th {\n",
       "        vertical-align: top;\n",
       "    }\n",
       "\n",
       "    .dataframe thead th {\n",
       "        text-align: right;\n",
       "    }\n",
       "</style>\n",
       "<table border=\"1\" class=\"dataframe\">\n",
       "  <thead>\n",
       "    <tr style=\"text-align: right;\">\n",
       "      <th></th>\n",
       "      <th>CustomerId</th>\n",
       "      <th>Surname</th>\n",
       "      <th>CreditScore</th>\n",
       "      <th>Geography</th>\n",
       "      <th>Gender</th>\n",
       "      <th>Age</th>\n",
       "      <th>Tenure</th>\n",
       "      <th>EstimatedSalary</th>\n",
       "      <th>Balance</th>\n",
       "      <th>NumOfProducts</th>\n",
       "      <th>HasCrCard</th>\n",
       "      <th>IsActiveMember</th>\n",
       "      <th>Exited</th>\n",
       "    </tr>\n",
       "  </thead>\n",
       "  <tbody>\n",
       "    <tr>\n",
       "      <th>0</th>\n",
       "      <td>15634602</td>\n",
       "      <td>Hargrave</td>\n",
       "      <td>619</td>\n",
       "      <td>FRA</td>\n",
       "      <td>Female</td>\n",
       "      <td>42.0</td>\n",
       "      <td>2</td>\n",
       "      <td>101348.88</td>\n",
       "      <td>0</td>\n",
       "      <td>1</td>\n",
       "      <td>Yes</td>\n",
       "      <td>Yes</td>\n",
       "      <td>1</td>\n",
       "    </tr>\n",
       "    <tr>\n",
       "      <th>1</th>\n",
       "      <td>15634602</td>\n",
       "      <td>Hargrave</td>\n",
       "      <td>619</td>\n",
       "      <td>FRA</td>\n",
       "      <td>Female</td>\n",
       "      <td>42.0</td>\n",
       "      <td>2</td>\n",
       "      <td>101348.88</td>\n",
       "      <td>0</td>\n",
       "      <td>1</td>\n",
       "      <td>Yes</td>\n",
       "      <td>Yes</td>\n",
       "      <td>1</td>\n",
       "    </tr>\n",
       "    <tr>\n",
       "      <th>2</th>\n",
       "      <td>15647311</td>\n",
       "      <td>Hill</td>\n",
       "      <td>608</td>\n",
       "      <td>Spain</td>\n",
       "      <td>Female</td>\n",
       "      <td>41.0</td>\n",
       "      <td>1</td>\n",
       "      <td>112542.58</td>\n",
       "      <td>83807.86</td>\n",
       "      <td>1</td>\n",
       "      <td>Yes</td>\n",
       "      <td>Yes</td>\n",
       "      <td>0</td>\n",
       "    </tr>\n",
       "    <tr>\n",
       "      <th>3</th>\n",
       "      <td>15619304</td>\n",
       "      <td>Onio</td>\n",
       "      <td>502</td>\n",
       "      <td>French</td>\n",
       "      <td>Female</td>\n",
       "      <td>42.0</td>\n",
       "      <td>8</td>\n",
       "      <td>113931.57</td>\n",
       "      <td>159660.8</td>\n",
       "      <td>3</td>\n",
       "      <td>No</td>\n",
       "      <td>No</td>\n",
       "      <td>1</td>\n",
       "    </tr>\n",
       "    <tr>\n",
       "      <th>4</th>\n",
       "      <td>15701354</td>\n",
       "      <td>Boni</td>\n",
       "      <td>699</td>\n",
       "      <td>FRA</td>\n",
       "      <td>Female</td>\n",
       "      <td>39.0</td>\n",
       "      <td>1</td>\n",
       "      <td>93826.63</td>\n",
       "      <td>0</td>\n",
       "      <td>2</td>\n",
       "      <td>No</td>\n",
       "      <td>No</td>\n",
       "      <td>0</td>\n",
       "    </tr>\n",
       "  </tbody>\n",
       "</table>\n",
       "</div>"
      ],
      "text/plain": [
       "   CustomerId   Surname  CreditScore Geography  Gender   Age  Tenure  \\\n",
       "0    15634602  Hargrave          619       FRA  Female  42.0       2   \n",
       "1    15634602  Hargrave          619       FRA  Female  42.0       2   \n",
       "2    15647311      Hill          608     Spain  Female  41.0       1   \n",
       "3    15619304      Onio          502    French  Female  42.0       8   \n",
       "4    15701354      Boni          699       FRA  Female  39.0       1   \n",
       "\n",
       "  EstimatedSalary   Balance  NumOfProducts HasCrCard IsActiveMember  Exited  \n",
       "0       101348.88         0              1       Yes            Yes       1  \n",
       "1       101348.88         0              1       Yes            Yes       1  \n",
       "2       112542.58  83807.86              1       Yes            Yes       0  \n",
       "3       113931.57  159660.8              3        No             No       1  \n",
       "4        93826.63         0              2        No             No       0  "
      ]
     },
     "execution_count": 180,
     "metadata": {},
     "output_type": "execute_result"
    }
   ],
   "source": [
    "comb_df.head()"
   ]
  },
  {
   "cell_type": "code",
   "execution_count": 181,
   "id": "3a85e5a0-3310-41b7-bc97-07ac99626903",
   "metadata": {},
   "outputs": [],
   "source": [
    "comb_df['EstimatedSalary'] = comb_df['EstimatedSalary'].replace(['999999', '-999999', '0.0'], 0)\n"
   ]
  },
  {
   "cell_type": "code",
   "execution_count": 182,
   "id": "1b68db0e-cf12-4ade-a7d0-81bd42f4c67f",
   "metadata": {},
   "outputs": [],
   "source": [
    "# Convert to numeric, invalid values will be NaN\n",
    "\n",
    "comb_df['EstimatedSalary'] = pd.to_numeric(comb_df['EstimatedSalary'], errors='coerce')  \n",
    "comb_df['Balance'] = pd.to_numeric(comb_df['Balance'], errors='coerce')"
   ]
  },
  {
   "cell_type": "code",
   "execution_count": 183,
   "id": "7ab6031d-2192-4622-a0fe-a8632242536f",
   "metadata": {},
   "outputs": [
    {
     "data": {
      "text/html": [
       "<div>\n",
       "<style scoped>\n",
       "    .dataframe tbody tr th:only-of-type {\n",
       "        vertical-align: middle;\n",
       "    }\n",
       "\n",
       "    .dataframe tbody tr th {\n",
       "        vertical-align: top;\n",
       "    }\n",
       "\n",
       "    .dataframe thead th {\n",
       "        text-align: right;\n",
       "    }\n",
       "</style>\n",
       "<table border=\"1\" class=\"dataframe\">\n",
       "  <thead>\n",
       "    <tr style=\"text-align: right;\">\n",
       "      <th></th>\n",
       "      <th>CustomerId</th>\n",
       "      <th>Surname</th>\n",
       "      <th>CreditScore</th>\n",
       "      <th>Geography</th>\n",
       "      <th>Gender</th>\n",
       "      <th>Age</th>\n",
       "      <th>Tenure</th>\n",
       "      <th>EstimatedSalary</th>\n",
       "      <th>Balance</th>\n",
       "      <th>NumOfProducts</th>\n",
       "      <th>HasCrCard</th>\n",
       "      <th>IsActiveMember</th>\n",
       "      <th>Exited</th>\n",
       "    </tr>\n",
       "  </thead>\n",
       "  <tbody>\n",
       "    <tr>\n",
       "      <th>0</th>\n",
       "      <td>15634602</td>\n",
       "      <td>Hargrave</td>\n",
       "      <td>619</td>\n",
       "      <td>FRA</td>\n",
       "      <td>Female</td>\n",
       "      <td>42.0</td>\n",
       "      <td>2</td>\n",
       "      <td>101348.88</td>\n",
       "      <td>0.00</td>\n",
       "      <td>1</td>\n",
       "      <td>Yes</td>\n",
       "      <td>Yes</td>\n",
       "      <td>1</td>\n",
       "    </tr>\n",
       "    <tr>\n",
       "      <th>1</th>\n",
       "      <td>15634602</td>\n",
       "      <td>Hargrave</td>\n",
       "      <td>619</td>\n",
       "      <td>FRA</td>\n",
       "      <td>Female</td>\n",
       "      <td>42.0</td>\n",
       "      <td>2</td>\n",
       "      <td>101348.88</td>\n",
       "      <td>0.00</td>\n",
       "      <td>1</td>\n",
       "      <td>Yes</td>\n",
       "      <td>Yes</td>\n",
       "      <td>1</td>\n",
       "    </tr>\n",
       "    <tr>\n",
       "      <th>2</th>\n",
       "      <td>15647311</td>\n",
       "      <td>Hill</td>\n",
       "      <td>608</td>\n",
       "      <td>Spain</td>\n",
       "      <td>Female</td>\n",
       "      <td>41.0</td>\n",
       "      <td>1</td>\n",
       "      <td>112542.58</td>\n",
       "      <td>83807.86</td>\n",
       "      <td>1</td>\n",
       "      <td>Yes</td>\n",
       "      <td>Yes</td>\n",
       "      <td>0</td>\n",
       "    </tr>\n",
       "    <tr>\n",
       "      <th>3</th>\n",
       "      <td>15619304</td>\n",
       "      <td>Onio</td>\n",
       "      <td>502</td>\n",
       "      <td>French</td>\n",
       "      <td>Female</td>\n",
       "      <td>42.0</td>\n",
       "      <td>8</td>\n",
       "      <td>113931.57</td>\n",
       "      <td>159660.80</td>\n",
       "      <td>3</td>\n",
       "      <td>No</td>\n",
       "      <td>No</td>\n",
       "      <td>1</td>\n",
       "    </tr>\n",
       "    <tr>\n",
       "      <th>4</th>\n",
       "      <td>15701354</td>\n",
       "      <td>Boni</td>\n",
       "      <td>699</td>\n",
       "      <td>FRA</td>\n",
       "      <td>Female</td>\n",
       "      <td>39.0</td>\n",
       "      <td>1</td>\n",
       "      <td>93826.63</td>\n",
       "      <td>0.00</td>\n",
       "      <td>2</td>\n",
       "      <td>No</td>\n",
       "      <td>No</td>\n",
       "      <td>0</td>\n",
       "    </tr>\n",
       "  </tbody>\n",
       "</table>\n",
       "</div>"
      ],
      "text/plain": [
       "   CustomerId   Surname  CreditScore Geography  Gender   Age  Tenure  \\\n",
       "0    15634602  Hargrave          619       FRA  Female  42.0       2   \n",
       "1    15634602  Hargrave          619       FRA  Female  42.0       2   \n",
       "2    15647311      Hill          608     Spain  Female  41.0       1   \n",
       "3    15619304      Onio          502    French  Female  42.0       8   \n",
       "4    15701354      Boni          699       FRA  Female  39.0       1   \n",
       "\n",
       "   EstimatedSalary    Balance  NumOfProducts HasCrCard IsActiveMember  Exited  \n",
       "0        101348.88       0.00              1       Yes            Yes       1  \n",
       "1        101348.88       0.00              1       Yes            Yes       1  \n",
       "2        112542.58   83807.86              1       Yes            Yes       0  \n",
       "3        113931.57  159660.80              3        No             No       1  \n",
       "4         93826.63       0.00              2        No             No       0  "
      ]
     },
     "execution_count": 183,
     "metadata": {},
     "output_type": "execute_result"
    }
   ],
   "source": [
    "comb_df.head()"
   ]
  },
  {
   "cell_type": "code",
   "execution_count": 184,
   "id": "a7b6816f-1d74-43be-a3cf-51fd89e7098b",
   "metadata": {},
   "outputs": [
    {
     "data": {
      "text/plain": [
       "Geography\n",
       "Germany    2509\n",
       "Spain      2477\n",
       "France     1741\n",
       "French     1658\n",
       "FRA        1619\n",
       "Name: count, dtype: int64"
      ]
     },
     "execution_count": 184,
     "metadata": {},
     "output_type": "execute_result"
    }
   ],
   "source": [
    "comb_df['Geography'].value_counts()"
   ]
  },
  {
   "cell_type": "code",
   "execution_count": 185,
   "id": "16cf9ade-497d-46e0-9870-796de375bead",
   "metadata": {},
   "outputs": [],
   "source": [
    "comb_df['Geography'] = comb_df['Geography'].replace('FRA', 'France')"
   ]
  },
  {
   "cell_type": "code",
   "execution_count": 186,
   "id": "8a4b15a9-691b-409f-9c65-6400392f116e",
   "metadata": {},
   "outputs": [
    {
     "data": {
      "text/plain": [
       "Geography\n",
       "France     3360\n",
       "Germany    2509\n",
       "Spain      2477\n",
       "French     1658\n",
       "Name: count, dtype: int64"
      ]
     },
     "execution_count": 186,
     "metadata": {},
     "output_type": "execute_result"
    }
   ],
   "source": [
    "comb_df['Geography'].value_counts()"
   ]
  },
  {
   "cell_type": "code",
   "execution_count": 187,
   "id": "9ede8bef-9e2c-4280-a0fe-4785ca65e455",
   "metadata": {},
   "outputs": [],
   "source": [
    "cat_columns = [col for col in comb_df.select_dtypes(include='object').columns]"
   ]
  },
  {
   "cell_type": "code",
   "execution_count": 188,
   "id": "f89b8d69-4ecf-4a55-94a1-90c8e44b6615",
   "metadata": {},
   "outputs": [
    {
     "data": {
      "text/plain": [
       "['Surname', 'Geography', 'Gender', 'HasCrCard', 'IsActiveMember']"
      ]
     },
     "execution_count": 188,
     "metadata": {},
     "output_type": "execute_result"
    }
   ],
   "source": [
    "cat_columns"
   ]
  },
  {
   "cell_type": "code",
   "execution_count": 189,
   "id": "31aec3f0-3ab4-4112-87b0-c193cc7cbbdd",
   "metadata": {},
   "outputs": [],
   "source": [
    "comb_df['HasCrCard'] = comb_df['HasCrCard'].replace('HasCrCard', 'HasCreditCard')"
   ]
  },
  {
   "cell_type": "code",
   "execution_count": 190,
   "id": "d4741b62-2345-4e92-9e38-9eb843c5623f",
   "metadata": {},
   "outputs": [
    {
     "data": {
      "text/html": [
       "<div>\n",
       "<style scoped>\n",
       "    .dataframe tbody tr th:only-of-type {\n",
       "        vertical-align: middle;\n",
       "    }\n",
       "\n",
       "    .dataframe tbody tr th {\n",
       "        vertical-align: top;\n",
       "    }\n",
       "\n",
       "    .dataframe thead th {\n",
       "        text-align: right;\n",
       "    }\n",
       "</style>\n",
       "<table border=\"1\" class=\"dataframe\">\n",
       "  <thead>\n",
       "    <tr style=\"text-align: right;\">\n",
       "      <th></th>\n",
       "      <th>CustomerId</th>\n",
       "      <th>Surname</th>\n",
       "      <th>CreditScore</th>\n",
       "      <th>Geography</th>\n",
       "      <th>Gender</th>\n",
       "      <th>Age</th>\n",
       "      <th>Tenure</th>\n",
       "      <th>EstimatedSalary</th>\n",
       "      <th>Balance</th>\n",
       "      <th>NumOfProducts</th>\n",
       "      <th>HasCrCard</th>\n",
       "      <th>IsActiveMember</th>\n",
       "      <th>Exited</th>\n",
       "    </tr>\n",
       "  </thead>\n",
       "  <tbody>\n",
       "    <tr>\n",
       "      <th>0</th>\n",
       "      <td>15634602</td>\n",
       "      <td>Hargrave</td>\n",
       "      <td>619</td>\n",
       "      <td>France</td>\n",
       "      <td>Female</td>\n",
       "      <td>42.0</td>\n",
       "      <td>2</td>\n",
       "      <td>101348.88</td>\n",
       "      <td>0.00</td>\n",
       "      <td>1</td>\n",
       "      <td>Yes</td>\n",
       "      <td>Yes</td>\n",
       "      <td>1</td>\n",
       "    </tr>\n",
       "    <tr>\n",
       "      <th>1</th>\n",
       "      <td>15634602</td>\n",
       "      <td>Hargrave</td>\n",
       "      <td>619</td>\n",
       "      <td>France</td>\n",
       "      <td>Female</td>\n",
       "      <td>42.0</td>\n",
       "      <td>2</td>\n",
       "      <td>101348.88</td>\n",
       "      <td>0.00</td>\n",
       "      <td>1</td>\n",
       "      <td>Yes</td>\n",
       "      <td>Yes</td>\n",
       "      <td>1</td>\n",
       "    </tr>\n",
       "    <tr>\n",
       "      <th>2</th>\n",
       "      <td>15647311</td>\n",
       "      <td>Hill</td>\n",
       "      <td>608</td>\n",
       "      <td>Spain</td>\n",
       "      <td>Female</td>\n",
       "      <td>41.0</td>\n",
       "      <td>1</td>\n",
       "      <td>112542.58</td>\n",
       "      <td>83807.86</td>\n",
       "      <td>1</td>\n",
       "      <td>Yes</td>\n",
       "      <td>Yes</td>\n",
       "      <td>0</td>\n",
       "    </tr>\n",
       "    <tr>\n",
       "      <th>3</th>\n",
       "      <td>15619304</td>\n",
       "      <td>Onio</td>\n",
       "      <td>502</td>\n",
       "      <td>French</td>\n",
       "      <td>Female</td>\n",
       "      <td>42.0</td>\n",
       "      <td>8</td>\n",
       "      <td>113931.57</td>\n",
       "      <td>159660.80</td>\n",
       "      <td>3</td>\n",
       "      <td>No</td>\n",
       "      <td>No</td>\n",
       "      <td>1</td>\n",
       "    </tr>\n",
       "    <tr>\n",
       "      <th>4</th>\n",
       "      <td>15701354</td>\n",
       "      <td>Boni</td>\n",
       "      <td>699</td>\n",
       "      <td>France</td>\n",
       "      <td>Female</td>\n",
       "      <td>39.0</td>\n",
       "      <td>1</td>\n",
       "      <td>93826.63</td>\n",
       "      <td>0.00</td>\n",
       "      <td>2</td>\n",
       "      <td>No</td>\n",
       "      <td>No</td>\n",
       "      <td>0</td>\n",
       "    </tr>\n",
       "  </tbody>\n",
       "</table>\n",
       "</div>"
      ],
      "text/plain": [
       "   CustomerId   Surname  CreditScore Geography  Gender   Age  Tenure  \\\n",
       "0    15634602  Hargrave          619    France  Female  42.0       2   \n",
       "1    15634602  Hargrave          619    France  Female  42.0       2   \n",
       "2    15647311      Hill          608     Spain  Female  41.0       1   \n",
       "3    15619304      Onio          502    French  Female  42.0       8   \n",
       "4    15701354      Boni          699    France  Female  39.0       1   \n",
       "\n",
       "   EstimatedSalary    Balance  NumOfProducts HasCrCard IsActiveMember  Exited  \n",
       "0        101348.88       0.00              1       Yes            Yes       1  \n",
       "1        101348.88       0.00              1       Yes            Yes       1  \n",
       "2        112542.58   83807.86              1       Yes            Yes       0  \n",
       "3        113931.57  159660.80              3        No             No       1  \n",
       "4         93826.63       0.00              2        No             No       0  "
      ]
     },
     "execution_count": 190,
     "metadata": {},
     "output_type": "execute_result"
    }
   ],
   "source": [
    "comb_df.head()"
   ]
  },
  {
   "cell_type": "code",
   "execution_count": 191,
   "id": "4492d5f5-38e1-4133-9411-22e300649315",
   "metadata": {},
   "outputs": [
    {
     "data": {
      "text/html": [
       "<div>\n",
       "<style scoped>\n",
       "    .dataframe tbody tr th:only-of-type {\n",
       "        vertical-align: middle;\n",
       "    }\n",
       "\n",
       "    .dataframe tbody tr th {\n",
       "        vertical-align: top;\n",
       "    }\n",
       "\n",
       "    .dataframe thead th {\n",
       "        text-align: right;\n",
       "    }\n",
       "</style>\n",
       "<table border=\"1\" class=\"dataframe\">\n",
       "  <thead>\n",
       "    <tr style=\"text-align: right;\">\n",
       "      <th></th>\n",
       "      <th>CustomerId</th>\n",
       "      <th>Surname</th>\n",
       "      <th>CreditScore</th>\n",
       "      <th>Geography</th>\n",
       "      <th>Gender</th>\n",
       "      <th>Age</th>\n",
       "      <th>Tenure</th>\n",
       "      <th>EstimatedSalary</th>\n",
       "      <th>Balance</th>\n",
       "      <th>NumOfProducts</th>\n",
       "      <th>HasCrCard</th>\n",
       "      <th>IsActiveMember</th>\n",
       "      <th>Exited</th>\n",
       "    </tr>\n",
       "  </thead>\n",
       "  <tbody>\n",
       "    <tr>\n",
       "      <th>9999</th>\n",
       "      <td>15682355</td>\n",
       "      <td>Sabbatini</td>\n",
       "      <td>772</td>\n",
       "      <td>Germany</td>\n",
       "      <td>Male</td>\n",
       "      <td>42.0</td>\n",
       "      <td>3</td>\n",
       "      <td>92888.52</td>\n",
       "      <td>75075.31</td>\n",
       "      <td>2</td>\n",
       "      <td>No</td>\n",
       "      <td>No</td>\n",
       "      <td>1</td>\n",
       "    </tr>\n",
       "    <tr>\n",
       "      <th>10000</th>\n",
       "      <td>15628319</td>\n",
       "      <td>Walker</td>\n",
       "      <td>792</td>\n",
       "      <td>French</td>\n",
       "      <td>Female</td>\n",
       "      <td>28.0</td>\n",
       "      <td>4</td>\n",
       "      <td>38190.78</td>\n",
       "      <td>130142.79</td>\n",
       "      <td>1</td>\n",
       "      <td>No</td>\n",
       "      <td>No</td>\n",
       "      <td>0</td>\n",
       "    </tr>\n",
       "    <tr>\n",
       "      <th>10001</th>\n",
       "      <td>15628319</td>\n",
       "      <td>Walker</td>\n",
       "      <td>792</td>\n",
       "      <td>French</td>\n",
       "      <td>Female</td>\n",
       "      <td>28.0</td>\n",
       "      <td>4</td>\n",
       "      <td>38190.78</td>\n",
       "      <td>130142.79</td>\n",
       "      <td>1</td>\n",
       "      <td>No</td>\n",
       "      <td>No</td>\n",
       "      <td>0</td>\n",
       "    </tr>\n",
       "    <tr>\n",
       "      <th>10002</th>\n",
       "      <td>15628319</td>\n",
       "      <td>Walker</td>\n",
       "      <td>792</td>\n",
       "      <td>French</td>\n",
       "      <td>Female</td>\n",
       "      <td>28.0</td>\n",
       "      <td>4</td>\n",
       "      <td>38190.78</td>\n",
       "      <td>130142.79</td>\n",
       "      <td>1</td>\n",
       "      <td>No</td>\n",
       "      <td>No</td>\n",
       "      <td>0</td>\n",
       "    </tr>\n",
       "    <tr>\n",
       "      <th>10003</th>\n",
       "      <td>15628319</td>\n",
       "      <td>Walker</td>\n",
       "      <td>792</td>\n",
       "      <td>French</td>\n",
       "      <td>Female</td>\n",
       "      <td>28.0</td>\n",
       "      <td>4</td>\n",
       "      <td>38190.78</td>\n",
       "      <td>130142.79</td>\n",
       "      <td>1</td>\n",
       "      <td>No</td>\n",
       "      <td>No</td>\n",
       "      <td>0</td>\n",
       "    </tr>\n",
       "  </tbody>\n",
       "</table>\n",
       "</div>"
      ],
      "text/plain": [
       "       CustomerId    Surname  CreditScore Geography  Gender   Age  Tenure  \\\n",
       "9999     15682355  Sabbatini          772   Germany    Male  42.0       3   \n",
       "10000    15628319     Walker          792    French  Female  28.0       4   \n",
       "10001    15628319     Walker          792    French  Female  28.0       4   \n",
       "10002    15628319     Walker          792    French  Female  28.0       4   \n",
       "10003    15628319     Walker          792    French  Female  28.0       4   \n",
       "\n",
       "       EstimatedSalary    Balance  NumOfProducts HasCrCard IsActiveMember  \\\n",
       "9999          92888.52   75075.31              2        No             No   \n",
       "10000         38190.78  130142.79              1        No             No   \n",
       "10001         38190.78  130142.79              1        No             No   \n",
       "10002         38190.78  130142.79              1        No             No   \n",
       "10003         38190.78  130142.79              1        No             No   \n",
       "\n",
       "       Exited  \n",
       "9999        1  \n",
       "10000       0  \n",
       "10001       0  \n",
       "10002       0  \n",
       "10003       0  "
      ]
     },
     "execution_count": 191,
     "metadata": {},
     "output_type": "execute_result"
    }
   ],
   "source": [
    "comb_df.tail()"
   ]
  },
  {
   "cell_type": "code",
   "execution_count": 192,
   "id": "937a3976-e5d2-4650-b36d-17aa197e215b",
   "metadata": {},
   "outputs": [],
   "source": [
    "comb_df['Age'] = comb_df['Age'].astype(int)"
   ]
  },
  {
   "cell_type": "code",
   "execution_count": 193,
   "id": "60709ac5-f909-4855-bfa8-3adbbc86ae5e",
   "metadata": {},
   "outputs": [
    {
     "data": {
      "text/html": [
       "<div>\n",
       "<style scoped>\n",
       "    .dataframe tbody tr th:only-of-type {\n",
       "        vertical-align: middle;\n",
       "    }\n",
       "\n",
       "    .dataframe tbody tr th {\n",
       "        vertical-align: top;\n",
       "    }\n",
       "\n",
       "    .dataframe thead th {\n",
       "        text-align: right;\n",
       "    }\n",
       "</style>\n",
       "<table border=\"1\" class=\"dataframe\">\n",
       "  <thead>\n",
       "    <tr style=\"text-align: right;\">\n",
       "      <th></th>\n",
       "      <th>CustomerId</th>\n",
       "      <th>Surname</th>\n",
       "      <th>CreditScore</th>\n",
       "      <th>Geography</th>\n",
       "      <th>Gender</th>\n",
       "      <th>Age</th>\n",
       "      <th>Tenure</th>\n",
       "      <th>EstimatedSalary</th>\n",
       "      <th>Balance</th>\n",
       "      <th>NumOfProducts</th>\n",
       "      <th>HasCrCard</th>\n",
       "      <th>IsActiveMember</th>\n",
       "      <th>Exited</th>\n",
       "    </tr>\n",
       "  </thead>\n",
       "  <tbody>\n",
       "    <tr>\n",
       "      <th>0</th>\n",
       "      <td>15634602</td>\n",
       "      <td>Hargrave</td>\n",
       "      <td>619</td>\n",
       "      <td>France</td>\n",
       "      <td>Female</td>\n",
       "      <td>42</td>\n",
       "      <td>2</td>\n",
       "      <td>101348.88</td>\n",
       "      <td>0.00</td>\n",
       "      <td>1</td>\n",
       "      <td>Yes</td>\n",
       "      <td>Yes</td>\n",
       "      <td>1</td>\n",
       "    </tr>\n",
       "    <tr>\n",
       "      <th>1</th>\n",
       "      <td>15634602</td>\n",
       "      <td>Hargrave</td>\n",
       "      <td>619</td>\n",
       "      <td>France</td>\n",
       "      <td>Female</td>\n",
       "      <td>42</td>\n",
       "      <td>2</td>\n",
       "      <td>101348.88</td>\n",
       "      <td>0.00</td>\n",
       "      <td>1</td>\n",
       "      <td>Yes</td>\n",
       "      <td>Yes</td>\n",
       "      <td>1</td>\n",
       "    </tr>\n",
       "    <tr>\n",
       "      <th>2</th>\n",
       "      <td>15647311</td>\n",
       "      <td>Hill</td>\n",
       "      <td>608</td>\n",
       "      <td>Spain</td>\n",
       "      <td>Female</td>\n",
       "      <td>41</td>\n",
       "      <td>1</td>\n",
       "      <td>112542.58</td>\n",
       "      <td>83807.86</td>\n",
       "      <td>1</td>\n",
       "      <td>Yes</td>\n",
       "      <td>Yes</td>\n",
       "      <td>0</td>\n",
       "    </tr>\n",
       "    <tr>\n",
       "      <th>3</th>\n",
       "      <td>15619304</td>\n",
       "      <td>Onio</td>\n",
       "      <td>502</td>\n",
       "      <td>French</td>\n",
       "      <td>Female</td>\n",
       "      <td>42</td>\n",
       "      <td>8</td>\n",
       "      <td>113931.57</td>\n",
       "      <td>159660.80</td>\n",
       "      <td>3</td>\n",
       "      <td>No</td>\n",
       "      <td>No</td>\n",
       "      <td>1</td>\n",
       "    </tr>\n",
       "    <tr>\n",
       "      <th>4</th>\n",
       "      <td>15701354</td>\n",
       "      <td>Boni</td>\n",
       "      <td>699</td>\n",
       "      <td>France</td>\n",
       "      <td>Female</td>\n",
       "      <td>39</td>\n",
       "      <td>1</td>\n",
       "      <td>93826.63</td>\n",
       "      <td>0.00</td>\n",
       "      <td>2</td>\n",
       "      <td>No</td>\n",
       "      <td>No</td>\n",
       "      <td>0</td>\n",
       "    </tr>\n",
       "  </tbody>\n",
       "</table>\n",
       "</div>"
      ],
      "text/plain": [
       "   CustomerId   Surname  CreditScore Geography  Gender  Age  Tenure  \\\n",
       "0    15634602  Hargrave          619    France  Female   42       2   \n",
       "1    15634602  Hargrave          619    France  Female   42       2   \n",
       "2    15647311      Hill          608     Spain  Female   41       1   \n",
       "3    15619304      Onio          502    French  Female   42       8   \n",
       "4    15701354      Boni          699    France  Female   39       1   \n",
       "\n",
       "   EstimatedSalary    Balance  NumOfProducts HasCrCard IsActiveMember  Exited  \n",
       "0        101348.88       0.00              1       Yes            Yes       1  \n",
       "1        101348.88       0.00              1       Yes            Yes       1  \n",
       "2        112542.58   83807.86              1       Yes            Yes       0  \n",
       "3        113931.57  159660.80              3        No             No       1  \n",
       "4         93826.63       0.00              2        No             No       0  "
      ]
     },
     "execution_count": 193,
     "metadata": {},
     "output_type": "execute_result"
    }
   ],
   "source": [
    "comb_df.head()"
   ]
  },
  {
   "cell_type": "code",
   "execution_count": 194,
   "id": "2f184a0b-8e21-45fe-a6d8-40f05c1893f2",
   "metadata": {},
   "outputs": [
    {
     "data": {
      "text/plain": [
       "Gender\n",
       "Male      5457\n",
       "Female    4547\n",
       "Name: count, dtype: int64"
      ]
     },
     "execution_count": 194,
     "metadata": {},
     "output_type": "execute_result"
    }
   ],
   "source": [
    "comb_df['Gender'].value_counts()"
   ]
  },
  {
   "cell_type": "code",
   "execution_count": 195,
   "id": "d703a9fa-882a-46f7-a166-3505328ab803",
   "metadata": {},
   "outputs": [
    {
     "name": "stdout",
     "output_type": "stream",
     "text": [
      "<class 'pandas.core.frame.DataFrame'>\n",
      "RangeIndex: 10004 entries, 0 to 10003\n",
      "Data columns (total 13 columns):\n",
      " #   Column           Non-Null Count  Dtype  \n",
      "---  ------           --------------  -----  \n",
      " 0   CustomerId       10004 non-null  int64  \n",
      " 1   Surname          10004 non-null  object \n",
      " 2   CreditScore      10004 non-null  int64  \n",
      " 3   Geography        10004 non-null  object \n",
      " 4   Gender           10004 non-null  object \n",
      " 5   Age              10004 non-null  int32  \n",
      " 6   Tenure           10004 non-null  int64  \n",
      " 7   EstimatedSalary  10001 non-null  float64\n",
      " 8   Balance          10004 non-null  float64\n",
      " 9   NumOfProducts    10004 non-null  int64  \n",
      " 10  HasCrCard        10004 non-null  object \n",
      " 11  IsActiveMember   10004 non-null  object \n",
      " 12  Exited           10004 non-null  int64  \n",
      "dtypes: float64(2), int32(1), int64(5), object(5)\n",
      "memory usage: 977.1+ KB\n"
     ]
    }
   ],
   "source": [
    "comb_df.info()"
   ]
  },
  {
   "cell_type": "code",
   "execution_count": 196,
   "id": "e9c9db17-adf7-4157-aec0-51e6ce67f9c2",
   "metadata": {},
   "outputs": [
    {
     "data": {
      "text/plain": [
       "Geography\n",
       "France     3360\n",
       "Germany    2509\n",
       "Spain      2477\n",
       "French     1658\n",
       "Name: count, dtype: int64"
      ]
     },
     "execution_count": 196,
     "metadata": {},
     "output_type": "execute_result"
    }
   ],
   "source": [
    "comb_df['Geography'].value_counts()"
   ]
  },
  {
   "cell_type": "markdown",
   "id": "ae4c58c5-1848-448a-b1d3-62dc3c0a82b8",
   "metadata": {},
   "source": [
    "## Data Mapping"
   ]
  },
  {
   "cell_type": "code",
   "execution_count": 197,
   "id": "96fb7d67-5ea1-4a1d-807f-931efd48d2e6",
   "metadata": {},
   "outputs": [],
   "source": [
    "comb_df['IsActiveMember'] = comb_df['IsActiveMember'].map({'Yes': 1, 'No': 0})"
   ]
  },
  {
   "cell_type": "code",
   "execution_count": 198,
   "id": "56fb7a40-9d3d-4e1e-9c02-d84ca279d87c",
   "metadata": {},
   "outputs": [],
   "source": [
    "comb_df['HasCrCard'] = comb_df['HasCrCard'].map({'Yes': 1, 'No': 0})"
   ]
  },
  {
   "cell_type": "code",
   "execution_count": 199,
   "id": "9d9c7b5d-98ed-43f8-a70c-4315563e410e",
   "metadata": {},
   "outputs": [
    {
     "data": {
      "text/html": [
       "<div>\n",
       "<style scoped>\n",
       "    .dataframe tbody tr th:only-of-type {\n",
       "        vertical-align: middle;\n",
       "    }\n",
       "\n",
       "    .dataframe tbody tr th {\n",
       "        vertical-align: top;\n",
       "    }\n",
       "\n",
       "    .dataframe thead th {\n",
       "        text-align: right;\n",
       "    }\n",
       "</style>\n",
       "<table border=\"1\" class=\"dataframe\">\n",
       "  <thead>\n",
       "    <tr style=\"text-align: right;\">\n",
       "      <th></th>\n",
       "      <th>CustomerId</th>\n",
       "      <th>Surname</th>\n",
       "      <th>CreditScore</th>\n",
       "      <th>Geography</th>\n",
       "      <th>Gender</th>\n",
       "      <th>Age</th>\n",
       "      <th>Tenure</th>\n",
       "      <th>EstimatedSalary</th>\n",
       "      <th>Balance</th>\n",
       "      <th>NumOfProducts</th>\n",
       "      <th>HasCrCard</th>\n",
       "      <th>IsActiveMember</th>\n",
       "      <th>Exited</th>\n",
       "    </tr>\n",
       "  </thead>\n",
       "  <tbody>\n",
       "    <tr>\n",
       "      <th>0</th>\n",
       "      <td>15634602</td>\n",
       "      <td>Hargrave</td>\n",
       "      <td>619</td>\n",
       "      <td>France</td>\n",
       "      <td>Female</td>\n",
       "      <td>42</td>\n",
       "      <td>2</td>\n",
       "      <td>101348.88</td>\n",
       "      <td>0.00</td>\n",
       "      <td>1</td>\n",
       "      <td>1</td>\n",
       "      <td>1</td>\n",
       "      <td>1</td>\n",
       "    </tr>\n",
       "    <tr>\n",
       "      <th>1</th>\n",
       "      <td>15634602</td>\n",
       "      <td>Hargrave</td>\n",
       "      <td>619</td>\n",
       "      <td>France</td>\n",
       "      <td>Female</td>\n",
       "      <td>42</td>\n",
       "      <td>2</td>\n",
       "      <td>101348.88</td>\n",
       "      <td>0.00</td>\n",
       "      <td>1</td>\n",
       "      <td>1</td>\n",
       "      <td>1</td>\n",
       "      <td>1</td>\n",
       "    </tr>\n",
       "    <tr>\n",
       "      <th>2</th>\n",
       "      <td>15647311</td>\n",
       "      <td>Hill</td>\n",
       "      <td>608</td>\n",
       "      <td>Spain</td>\n",
       "      <td>Female</td>\n",
       "      <td>41</td>\n",
       "      <td>1</td>\n",
       "      <td>112542.58</td>\n",
       "      <td>83807.86</td>\n",
       "      <td>1</td>\n",
       "      <td>1</td>\n",
       "      <td>1</td>\n",
       "      <td>0</td>\n",
       "    </tr>\n",
       "    <tr>\n",
       "      <th>3</th>\n",
       "      <td>15619304</td>\n",
       "      <td>Onio</td>\n",
       "      <td>502</td>\n",
       "      <td>French</td>\n",
       "      <td>Female</td>\n",
       "      <td>42</td>\n",
       "      <td>8</td>\n",
       "      <td>113931.57</td>\n",
       "      <td>159660.80</td>\n",
       "      <td>3</td>\n",
       "      <td>0</td>\n",
       "      <td>0</td>\n",
       "      <td>1</td>\n",
       "    </tr>\n",
       "    <tr>\n",
       "      <th>4</th>\n",
       "      <td>15701354</td>\n",
       "      <td>Boni</td>\n",
       "      <td>699</td>\n",
       "      <td>France</td>\n",
       "      <td>Female</td>\n",
       "      <td>39</td>\n",
       "      <td>1</td>\n",
       "      <td>93826.63</td>\n",
       "      <td>0.00</td>\n",
       "      <td>2</td>\n",
       "      <td>0</td>\n",
       "      <td>0</td>\n",
       "      <td>0</td>\n",
       "    </tr>\n",
       "  </tbody>\n",
       "</table>\n",
       "</div>"
      ],
      "text/plain": [
       "   CustomerId   Surname  CreditScore Geography  Gender  Age  Tenure  \\\n",
       "0    15634602  Hargrave          619    France  Female   42       2   \n",
       "1    15634602  Hargrave          619    France  Female   42       2   \n",
       "2    15647311      Hill          608     Spain  Female   41       1   \n",
       "3    15619304      Onio          502    French  Female   42       8   \n",
       "4    15701354      Boni          699    France  Female   39       1   \n",
       "\n",
       "   EstimatedSalary    Balance  NumOfProducts  HasCrCard  IsActiveMember  \\\n",
       "0        101348.88       0.00              1          1               1   \n",
       "1        101348.88       0.00              1          1               1   \n",
       "2        112542.58   83807.86              1          1               1   \n",
       "3        113931.57  159660.80              3          0               0   \n",
       "4         93826.63       0.00              2          0               0   \n",
       "\n",
       "   Exited  \n",
       "0       1  \n",
       "1       1  \n",
       "2       0  \n",
       "3       1  \n",
       "4       0  "
      ]
     },
     "execution_count": 199,
     "metadata": {},
     "output_type": "execute_result"
    }
   ],
   "source": [
    "comb_df.head()"
   ]
  },
  {
   "cell_type": "markdown",
   "id": "f0ec1f0f-4e8e-4e7c-87c4-70ae0629ae5e",
   "metadata": {},
   "source": [
    "## Data Analysis"
   ]
  },
  {
   "cell_type": "code",
   "execution_count": 200,
   "id": "294431ba-e5ff-4597-89f9-43815d7d4e62",
   "metadata": {},
   "outputs": [],
   "source": [
    "def generate_bar_plot(x,y, xlabel, ylabel):\n",
    "    plt.bar(x,y)\n",
    "    plt.title (f'plot of {ylabel} against {xlabel}')\n",
    "    plt.xlabel(xlabel)\n",
    "    plt.ylabel(ylabel)\n",
    "    plt.show"
   ]
  },
  {
   "cell_type": "code",
   "execution_count": 201,
   "id": "5b8cb941-d4b4-4173-8dea-7cbb239e650f",
   "metadata": {},
   "outputs": [
    {
     "data": {
      "text/plain": [
       "Geography\n",
       "France     3360\n",
       "Germany    2509\n",
       "Spain      2477\n",
       "French     1658\n",
       "Name: count, dtype: int64"
      ]
     },
     "execution_count": 201,
     "metadata": {},
     "output_type": "execute_result"
    }
   ],
   "source": [
    "comb_df['Geography'].value_counts()"
   ]
  },
  {
   "cell_type": "code",
   "execution_count": 202,
   "id": "ba5184f2-7cc4-4e90-8ef0-c3b22a91f810",
   "metadata": {},
   "outputs": [],
   "source": [
    "geo_analysis = comb_df.groupby('Geography')[['CreditScore', 'Balance', 'EstimatedSalary']].mean().reset_index()"
   ]
  },
  {
   "cell_type": "code",
   "execution_count": 203,
   "id": "a49d55ca-ed10-4fbd-a73c-45b45ad41623",
   "metadata": {},
   "outputs": [
    {
     "data": {
      "text/html": [
       "<div>\n",
       "<style scoped>\n",
       "    .dataframe tbody tr th:only-of-type {\n",
       "        vertical-align: middle;\n",
       "    }\n",
       "\n",
       "    .dataframe tbody tr th {\n",
       "        vertical-align: top;\n",
       "    }\n",
       "\n",
       "    .dataframe thead th {\n",
       "        text-align: right;\n",
       "    }\n",
       "</style>\n",
       "<table border=\"1\" class=\"dataframe\">\n",
       "  <thead>\n",
       "    <tr style=\"text-align: right;\">\n",
       "      <th></th>\n",
       "      <th>Geography</th>\n",
       "      <th>CreditScore</th>\n",
       "      <th>Balance</th>\n",
       "      <th>EstimatedSalary</th>\n",
       "    </tr>\n",
       "  </thead>\n",
       "  <tbody>\n",
       "    <tr>\n",
       "      <th>0</th>\n",
       "      <td>France</td>\n",
       "      <td>650.549702</td>\n",
       "      <td>62650.979241</td>\n",
       "      <td>100444.100557</td>\n",
       "    </tr>\n",
       "    <tr>\n",
       "      <th>1</th>\n",
       "      <td>French</td>\n",
       "      <td>648.121230</td>\n",
       "      <td>61046.813999</td>\n",
       "      <td>98696.350730</td>\n",
       "    </tr>\n",
       "    <tr>\n",
       "      <th>2</th>\n",
       "      <td>Germany</td>\n",
       "      <td>651.453567</td>\n",
       "      <td>119730.116134</td>\n",
       "      <td>101113.804322</td>\n",
       "    </tr>\n",
       "    <tr>\n",
       "      <th>3</th>\n",
       "      <td>Spain</td>\n",
       "      <td>651.333872</td>\n",
       "      <td>61818.147763</td>\n",
       "      <td>99440.293453</td>\n",
       "    </tr>\n",
       "  </tbody>\n",
       "</table>\n",
       "</div>"
      ],
      "text/plain": [
       "  Geography  CreditScore        Balance  EstimatedSalary\n",
       "0    France   650.549702   62650.979241    100444.100557\n",
       "1    French   648.121230   61046.813999     98696.350730\n",
       "2   Germany   651.453567  119730.116134    101113.804322\n",
       "3     Spain   651.333872   61818.147763     99440.293453"
      ]
     },
     "execution_count": 203,
     "metadata": {},
     "output_type": "execute_result"
    }
   ],
   "source": [
    "geo_analysis"
   ]
  },
  {
   "cell_type": "code",
   "execution_count": 268,
   "id": "1275b155-1170-4dc4-ba0d-a5be6bd3f162",
   "metadata": {},
   "outputs": [],
   "source": [
    "average_credit_score_by_geography = comb_df.groupby('Geography')['CreditScore'].mean()"
   ]
  },
  {
   "cell_type": "code",
   "execution_count": 269,
   "id": "b197e3f9-5ae5-47db-9d20-b07d2d07e375",
   "metadata": {},
   "outputs": [
    {
     "data": {
      "text/plain": [
       "Geography\n",
       "France     650.549702\n",
       "French     648.121230\n",
       "Germany    651.453567\n",
       "Spain      651.333872\n",
       "Name: CreditScore, dtype: float64"
      ]
     },
     "execution_count": 269,
     "metadata": {},
     "output_type": "execute_result"
    }
   ],
   "source": [
    "average_credit_score_by_geography"
   ]
  },
  {
   "cell_type": "code",
   "execution_count": 265,
   "id": "325537f2-f21c-4be1-9bca-9f8739f23c14",
   "metadata": {},
   "outputs": [],
   "source": [
    "average_credit_score_by_geography = average_credit_score_by_geography.reset_index()"
   ]
  },
  {
   "cell_type": "code",
   "execution_count": 266,
   "id": "a423b315-af18-41f5-9cbd-de67f1a17a86",
   "metadata": {},
   "outputs": [],
   "source": [
    "average_credit_score_by_geography = average_credit_score_by_geography.sort_values(by='Geography')"
   ]
  },
  {
   "cell_type": "code",
   "execution_count": 270,
   "id": "3fcf5ced-353a-4b01-81ed-ade950b66b03",
   "metadata": {},
   "outputs": [],
   "source": [
    "average_credit_score_by_geography = comb_df.groupby('Geography')['CreditScore'].mean().reset_index()"
   ]
  },
  {
   "cell_type": "code",
   "execution_count": 272,
   "id": "a7717667-f26b-4871-8a26-0fd12220f49a",
   "metadata": {},
   "outputs": [
    {
     "data": {
      "image/png": "[encoded data removed]",
      "text/plain": [
       "<Figure size 800x600 with 1 Axes>"
      ]
     },
     "metadata": {},
     "output_type": "display_data"
    }
   ],
   "source": [
    "plt.figure(figsize=(8, 6))\n",
    "plt.bar(average_credit_score_by_geography['Geography'], average_credit_score_by_geography['CreditScore'], color='skyblue')\n",
    "plt.title('Average Credit Score by Geography', fontsize=16)\n",
    "plt.xlabel('Geography', fontsize=12)\n",
    "plt.ylabel('Average Credit Score', fontsize=12)\n",
    "plt.xticks(rotation=45)  # Rotate x labels for better visibility\n",
    "plt.show()\n"
   ]
  },
  {
   "cell_type": "code",
   "execution_count": 207,
   "id": "045f25d2-3aec-4772-a2f0-392b8992e0cf",
   "metadata": {},
   "outputs": [
    {
     "data": {
      "text/plain": [
       "Gender\n",
       "Male      5457\n",
       "Female    4547\n",
       "Name: count, dtype: int64"
      ]
     },
     "execution_count": 207,
     "metadata": {},
     "output_type": "execute_result"
    }
   ],
   "source": [
    "comb_df[['Gender']].value_counts()"
   ]
  },
  {
   "cell_type": "code",
   "execution_count": 208,
   "id": "9dc83be3-b739-4f1e-836c-2d30f4c46939",
   "metadata": {},
   "outputs": [],
   "source": [
    "gender_analysis = comb_df.groupby('Gender')[['CreditScore', 'Balance', 'EstimatedSalary']].mean().reset_index()"
   ]
  },
  {
   "cell_type": "code",
   "execution_count": 209,
   "id": "b6730b61-e3fc-4c28-b800-d5fa2628cf0d",
   "metadata": {},
   "outputs": [
    {
     "data": {
      "text/html": [
       "<div>\n",
       "<style scoped>\n",
       "    .dataframe tbody tr th:only-of-type {\n",
       "        vertical-align: middle;\n",
       "    }\n",
       "\n",
       "    .dataframe tbody tr th {\n",
       "        vertical-align: top;\n",
       "    }\n",
       "\n",
       "    .dataframe thead th {\n",
       "        text-align: right;\n",
       "    }\n",
       "</style>\n",
       "<table border=\"1\" class=\"dataframe\">\n",
       "  <thead>\n",
       "    <tr style=\"text-align: right;\">\n",
       "      <th></th>\n",
       "      <th>Gender</th>\n",
       "      <th>CreditScore</th>\n",
       "      <th>Balance</th>\n",
       "      <th>EstimatedSalary</th>\n",
       "    </tr>\n",
       "  </thead>\n",
       "  <tbody>\n",
       "    <tr>\n",
       "      <th>0</th>\n",
       "      <td>Female</td>\n",
       "      <td>650.917528</td>\n",
       "      <td>75678.676571</td>\n",
       "      <td>100565.105776</td>\n",
       "    </tr>\n",
       "    <tr>\n",
       "      <th>1</th>\n",
       "      <td>Male</td>\n",
       "      <td>650.276892</td>\n",
       "      <td>77173.974506</td>\n",
       "      <td>99664.491452</td>\n",
       "    </tr>\n",
       "  </tbody>\n",
       "</table>\n",
       "</div>"
      ],
      "text/plain": [
       "   Gender  CreditScore       Balance  EstimatedSalary\n",
       "0  Female   650.917528  75678.676571    100565.105776\n",
       "1    Male   650.276892  77173.974506     99664.491452"
      ]
     },
     "execution_count": 209,
     "metadata": {},
     "output_type": "execute_result"
    }
   ],
   "source": [
    "gender_analysis"
   ]
  },
  {
   "cell_type": "code",
   "execution_count": 273,
   "id": "9d1b7de0-195c-4637-a87c-a43ec87aba7f",
   "metadata": {},
   "outputs": [
    {
     "name": "stderr",
     "output_type": "stream",
     "text": [
      "C:\\Users\\WIMBIZ\\AppData\\Local\\Temp\\ipykernel_8632\\3167402731.py:5: FutureWarning: \n",
      "\n",
      "The `ci` parameter is deprecated. Use `errorbar='sd'` for the same effect.\n",
      "\n",
      "  Sb.barplot(x='Gender', y='Balance', data=gender_analysis, palette='muted', ci='sd')\n",
      "C:\\Users\\WIMBIZ\\AppData\\Local\\Temp\\ipykernel_8632\\3167402731.py:5: FutureWarning: \n",
      "\n",
      "Passing `palette` without assigning `hue` is deprecated and will be removed in v0.14.0. Assign the `x` variable to `hue` and set `legend=False` for the same effect.\n",
      "\n",
      "  Sb.barplot(x='Gender', y='Balance', data=gender_analysis, palette='muted', ci='sd')\n"
     ]
    },
    {
     "data": {
      "image/png": "[encoded data removed]",
      "text/plain": [
       "<Figure size 800x500 with 1 Axes>"
      ]
     },
     "metadata": {},
     "output_type": "display_data"
    }
   ],
   "source": [
    "Sb.set(style=\"whitegrid\")\n",
    "\n",
    "plt.figure(figsize=(8, 5))\n",
    "\n",
    "Sb.barplot(x='Gender', y='Balance', data=gender_analysis, palette='muted', ci='sd')\n",
    "\n",
    "ax = plt.gca()  \n",
    "for p in ax.patches:\n",
    "    ax.annotate(f'{p.get_height():.2f}', \n",
    "                (p.get_x() + p.get_width() / 2., p.get_height()), \n",
    "                ha='center', va='center', \n",
    "                fontsize=12, color='black', \n",
    "                xytext=(0, 8), textcoords='offset points')\n",
    "\n",
    "plt.title('Average Balance by Gender', fontsize=16)\n",
    "plt.xlabel('Gender', fontsize=14)\n",
    "plt.ylabel('Average Balance', fontsize=14)\n",
    "plt.xticks(rotation=0)\n",
    "plt.tight_layout()\n",
    "plt.show()"
   ]
  },
  {
   "cell_type": "code",
   "execution_count": 211,
   "id": "37fe4058-d12b-43ed-908b-2061bf4e85ca",
   "metadata": {},
   "outputs": [
    {
     "data": {
      "text/plain": [
       "Age\n",
       "18    22\n",
       "19    27\n",
       "20    40\n",
       "21    53\n",
       "22    84\n",
       "      ..\n",
       "83     1\n",
       "84     2\n",
       "85     1\n",
       "88     1\n",
       "92     2\n",
       "Name: count, Length: 70, dtype: int64"
      ]
     },
     "execution_count": 211,
     "metadata": {},
     "output_type": "execute_result"
    }
   ],
   "source": [
    "comb_df['Age'].value_counts().sort_index()"
   ]
  },
  {
   "cell_type": "code",
   "execution_count": 212,
   "id": "98920fbf-2c90-4b43-8439-4303aceec364",
   "metadata": {},
   "outputs": [],
   "source": [
    "age_analysis = comb_df.groupby('Age')[['CreditScore', 'Balance', 'EstimatedSalary']].mean().reset_index()"
   ]
  },
  {
   "cell_type": "code",
   "execution_count": 213,
   "id": "04e62ca0-1f8f-4826-9136-442075300166",
   "metadata": {},
   "outputs": [
    {
     "data": {
      "text/html": [
       "<div>\n",
       "<style scoped>\n",
       "    .dataframe tbody tr th:only-of-type {\n",
       "        vertical-align: middle;\n",
       "    }\n",
       "\n",
       "    .dataframe tbody tr th {\n",
       "        vertical-align: top;\n",
       "    }\n",
       "\n",
       "    .dataframe thead th {\n",
       "        text-align: right;\n",
       "    }\n",
       "</style>\n",
       "<table border=\"1\" class=\"dataframe\">\n",
       "  <thead>\n",
       "    <tr style=\"text-align: right;\">\n",
       "      <th></th>\n",
       "      <th>Age</th>\n",
       "      <th>CreditScore</th>\n",
       "      <th>Balance</th>\n",
       "      <th>EstimatedSalary</th>\n",
       "    </tr>\n",
       "  </thead>\n",
       "  <tbody>\n",
       "    <tr>\n",
       "      <th>0</th>\n",
       "      <td>18</td>\n",
       "      <td>686.681818</td>\n",
       "      <td>79169.57500</td>\n",
       "      <td>85102.389545</td>\n",
       "    </tr>\n",
       "    <tr>\n",
       "      <th>1</th>\n",
       "      <td>19</td>\n",
       "      <td>665.629630</td>\n",
       "      <td>70502.53963</td>\n",
       "      <td>97734.100370</td>\n",
       "    </tr>\n",
       "    <tr>\n",
       "      <th>2</th>\n",
       "      <td>20</td>\n",
       "      <td>665.050000</td>\n",
       "      <td>76038.89000</td>\n",
       "      <td>97705.542000</td>\n",
       "    </tr>\n",
       "    <tr>\n",
       "      <th>3</th>\n",
       "      <td>21</td>\n",
       "      <td>647.283019</td>\n",
       "      <td>75926.88283</td>\n",
       "      <td>102536.673774</td>\n",
       "    </tr>\n",
       "    <tr>\n",
       "      <th>4</th>\n",
       "      <td>22</td>\n",
       "      <td>636.547619</td>\n",
       "      <td>68213.74881</td>\n",
       "      <td>98321.615476</td>\n",
       "    </tr>\n",
       "    <tr>\n",
       "      <th>...</th>\n",
       "      <td>...</td>\n",
       "      <td>...</td>\n",
       "      <td>...</td>\n",
       "      <td>...</td>\n",
       "    </tr>\n",
       "    <tr>\n",
       "      <th>65</th>\n",
       "      <td>83</td>\n",
       "      <td>678.000000</td>\n",
       "      <td>123356.63000</td>\n",
       "      <td>92934.410000</td>\n",
       "    </tr>\n",
       "    <tr>\n",
       "      <th>66</th>\n",
       "      <td>84</td>\n",
       "      <td>472.500000</td>\n",
       "      <td>90057.86500</td>\n",
       "      <td>187360.250000</td>\n",
       "    </tr>\n",
       "    <tr>\n",
       "      <th>67</th>\n",
       "      <td>85</td>\n",
       "      <td>787.000000</td>\n",
       "      <td>0.00000</td>\n",
       "      <td>116537.960000</td>\n",
       "    </tr>\n",
       "    <tr>\n",
       "      <th>68</th>\n",
       "      <td>88</td>\n",
       "      <td>513.000000</td>\n",
       "      <td>0.00000</td>\n",
       "      <td>52952.240000</td>\n",
       "    </tr>\n",
       "    <tr>\n",
       "      <th>69</th>\n",
       "      <td>92</td>\n",
       "      <td>729.000000</td>\n",
       "      <td>123794.77500</td>\n",
       "      <td>115000.410000</td>\n",
       "    </tr>\n",
       "  </tbody>\n",
       "</table>\n",
       "<p>70 rows × 4 columns</p>\n",
       "</div>"
      ],
      "text/plain": [
       "    Age  CreditScore       Balance  EstimatedSalary\n",
       "0    18   686.681818   79169.57500     85102.389545\n",
       "1    19   665.629630   70502.53963     97734.100370\n",
       "2    20   665.050000   76038.89000     97705.542000\n",
       "3    21   647.283019   75926.88283    102536.673774\n",
       "4    22   636.547619   68213.74881     98321.615476\n",
       "..  ...          ...           ...              ...\n",
       "65   83   678.000000  123356.63000     92934.410000\n",
       "66   84   472.500000   90057.86500    187360.250000\n",
       "67   85   787.000000       0.00000    116537.960000\n",
       "68   88   513.000000       0.00000     52952.240000\n",
       "69   92   729.000000  123794.77500    115000.410000\n",
       "\n",
       "[70 rows x 4 columns]"
      ]
     },
     "execution_count": 213,
     "metadata": {},
     "output_type": "execute_result"
    }
   ],
   "source": [
    "age_analysis"
   ]
  },
  {
   "cell_type": "code",
   "execution_count": 214,
   "id": "e8c125db-8079-438c-9517-52829658092b",
   "metadata": {},
   "outputs": [],
   "source": [
    "age_bins = [0, 10, 20, 30, 40, 50, 60, 100]\n",
    "age_labels = ['0-10', '11-20', '21-30', '31-40', '41-50', '51-60', '60+']"
   ]
  },
  {
   "cell_type": "code",
   "execution_count": 215,
   "id": "94479493-726d-4509-914c-969efc6fd614",
   "metadata": {},
   "outputs": [],
   "source": [
    "age_analysis['AgeGroup'] = pd.cut(age_analysis['Age'], bins=age_bins, labels=age_labels, right=False)"
   ]
  },
  {
   "cell_type": "code",
   "execution_count": 216,
   "id": "b3d2caf0-f901-4dfc-91ac-68782e4013f4",
   "metadata": {},
   "outputs": [
    {
     "data": {
      "image/png": "[encoded data removed]",
      "text/plain": [
       "<Figure size 800x800 with 1 Axes>"
      ]
     },
     "metadata": {},
     "output_type": "display_data"
    }
   ],
   "source": [
    "plt.figure(figsize=(8, 8))\n",
    "age_group_counts = age_analysis['AgeGroup'].value_counts()\n",
    "explode = [0.1] * len(age_group_counts)\n",
    "\n",
    "colors = ['#ff9999', '#66b3ff', '#99ff99', '#ffcc99', '#ffb3e6', '#c2c2f0', '#ffb3cc']\n",
    "age_group_counts.plot(kind='pie', autopct='%1.1f%%', startangle=90, colors=colors, explode=explode, legend=True)\n",
    "\n",
    "plt.title('Age Group Distribution', fontsize=16)\n",
    "plt.ylabel('') \n",
    "\n",
    "plt.gca().set_ylabel('')  \n",
    "plt.tight_layout()"
   ]
  },
  {
   "cell_type": "markdown",
   "id": "70b5a34c-3a47-4aa5-94f0-8f4862d127d1",
   "metadata": {},
   "source": [
    "## 2. Customer Engagement Patterns\n",
    "\n",
    "Investigate the relationship between customer tenure and engagement (such as the number of products owned, HasCrCard, and IsActiveMember).\n",
    "\n",
    "Analyze the impact of tenure on customer behavior, especially focusing on long-term customer patterns \n",
    "\n",
    "(e.g., do longer-tenured customers tend to hold more products or have higher balances?)."
   ]
  },
  {
   "cell_type": "code",
   "execution_count": 217,
   "id": "2ce24ef5-f101-4709-8876-ee4984ab30e2",
   "metadata": {
    "scrolled": true
   },
   "outputs": [
    {
     "data": {
      "text/plain": [
       "Tenure\n",
       "2     1049\n",
       "1     1035\n",
       "7     1028\n",
       "8     1025\n",
       "5     1012\n",
       "3     1009\n",
       "4      992\n",
       "9      984\n",
       "6      967\n",
       "10     490\n",
       "0      413\n",
       "Name: count, dtype: int64"
      ]
     },
     "execution_count": 217,
     "metadata": {},
     "output_type": "execute_result"
    }
   ],
   "source": [
    "comb_df['Tenure'].value_counts()"
   ]
  },
  {
   "cell_type": "code",
   "execution_count": 218,
   "id": "1d44c594-e5a5-4679-ae67-8e3925533038",
   "metadata": {},
   "outputs": [
    {
     "data": {
      "text/html": [
       "<div>\n",
       "<style scoped>\n",
       "    .dataframe tbody tr th:only-of-type {\n",
       "        vertical-align: middle;\n",
       "    }\n",
       "\n",
       "    .dataframe tbody tr th {\n",
       "        vertical-align: top;\n",
       "    }\n",
       "\n",
       "    .dataframe thead th {\n",
       "        text-align: right;\n",
       "    }\n",
       "</style>\n",
       "<table border=\"1\" class=\"dataframe\">\n",
       "  <thead>\n",
       "    <tr style=\"text-align: right;\">\n",
       "      <th></th>\n",
       "      <th>CustomerId</th>\n",
       "      <th>Surname</th>\n",
       "      <th>CreditScore</th>\n",
       "      <th>Geography</th>\n",
       "      <th>Gender</th>\n",
       "      <th>Age</th>\n",
       "      <th>Tenure</th>\n",
       "      <th>EstimatedSalary</th>\n",
       "      <th>Balance</th>\n",
       "      <th>NumOfProducts</th>\n",
       "      <th>HasCrCard</th>\n",
       "      <th>IsActiveMember</th>\n",
       "      <th>Exited</th>\n",
       "    </tr>\n",
       "  </thead>\n",
       "  <tbody>\n",
       "    <tr>\n",
       "      <th>0</th>\n",
       "      <td>15634602</td>\n",
       "      <td>Hargrave</td>\n",
       "      <td>619</td>\n",
       "      <td>France</td>\n",
       "      <td>Female</td>\n",
       "      <td>42</td>\n",
       "      <td>2</td>\n",
       "      <td>101348.88</td>\n",
       "      <td>0.00</td>\n",
       "      <td>1</td>\n",
       "      <td>1</td>\n",
       "      <td>1</td>\n",
       "      <td>1</td>\n",
       "    </tr>\n",
       "    <tr>\n",
       "      <th>1</th>\n",
       "      <td>15634602</td>\n",
       "      <td>Hargrave</td>\n",
       "      <td>619</td>\n",
       "      <td>France</td>\n",
       "      <td>Female</td>\n",
       "      <td>42</td>\n",
       "      <td>2</td>\n",
       "      <td>101348.88</td>\n",
       "      <td>0.00</td>\n",
       "      <td>1</td>\n",
       "      <td>1</td>\n",
       "      <td>1</td>\n",
       "      <td>1</td>\n",
       "    </tr>\n",
       "    <tr>\n",
       "      <th>2</th>\n",
       "      <td>15647311</td>\n",
       "      <td>Hill</td>\n",
       "      <td>608</td>\n",
       "      <td>Spain</td>\n",
       "      <td>Female</td>\n",
       "      <td>41</td>\n",
       "      <td>1</td>\n",
       "      <td>112542.58</td>\n",
       "      <td>83807.86</td>\n",
       "      <td>1</td>\n",
       "      <td>1</td>\n",
       "      <td>1</td>\n",
       "      <td>0</td>\n",
       "    </tr>\n",
       "    <tr>\n",
       "      <th>3</th>\n",
       "      <td>15619304</td>\n",
       "      <td>Onio</td>\n",
       "      <td>502</td>\n",
       "      <td>French</td>\n",
       "      <td>Female</td>\n",
       "      <td>42</td>\n",
       "      <td>8</td>\n",
       "      <td>113931.57</td>\n",
       "      <td>159660.80</td>\n",
       "      <td>3</td>\n",
       "      <td>0</td>\n",
       "      <td>0</td>\n",
       "      <td>1</td>\n",
       "    </tr>\n",
       "    <tr>\n",
       "      <th>4</th>\n",
       "      <td>15701354</td>\n",
       "      <td>Boni</td>\n",
       "      <td>699</td>\n",
       "      <td>France</td>\n",
       "      <td>Female</td>\n",
       "      <td>39</td>\n",
       "      <td>1</td>\n",
       "      <td>93826.63</td>\n",
       "      <td>0.00</td>\n",
       "      <td>2</td>\n",
       "      <td>0</td>\n",
       "      <td>0</td>\n",
       "      <td>0</td>\n",
       "    </tr>\n",
       "  </tbody>\n",
       "</table>\n",
       "</div>"
      ],
      "text/plain": [
       "   CustomerId   Surname  CreditScore Geography  Gender  Age  Tenure  \\\n",
       "0    15634602  Hargrave          619    France  Female   42       2   \n",
       "1    15634602  Hargrave          619    France  Female   42       2   \n",
       "2    15647311      Hill          608     Spain  Female   41       1   \n",
       "3    15619304      Onio          502    French  Female   42       8   \n",
       "4    15701354      Boni          699    France  Female   39       1   \n",
       "\n",
       "   EstimatedSalary    Balance  NumOfProducts  HasCrCard  IsActiveMember  \\\n",
       "0        101348.88       0.00              1          1               1   \n",
       "1        101348.88       0.00              1          1               1   \n",
       "2        112542.58   83807.86              1          1               1   \n",
       "3        113931.57  159660.80              3          0               0   \n",
       "4         93826.63       0.00              2          0               0   \n",
       "\n",
       "   Exited  \n",
       "0       1  \n",
       "1       1  \n",
       "2       0  \n",
       "3       1  \n",
       "4       0  "
      ]
     },
     "execution_count": 218,
     "metadata": {},
     "output_type": "execute_result"
    }
   ],
   "source": [
    "comb_df.head()"
   ]
  },
  {
   "cell_type": "code",
   "execution_count": 219,
   "id": "c9d70818-1988-45bf-9ef0-9f78fe06fd7b",
   "metadata": {},
   "outputs": [
    {
     "data": {
      "image/png": "[encoded data removed]",
      "text/plain": [
       "<Figure size 1000x600 with 1 Axes>"
      ]
     },
     "metadata": {},
     "output_type": "display_data"
    }
   ],
   "source": [
    "plt.figure(figsize=(10, 6))\n",
    "Sb.histplot(comb_df['Tenure'], kde=True, bins=20) #Kernel Density Estimate (KDE) plot on top of the histogram.\n",
    "#The bins parameter controls how many bars (or \"bins\") are used to divide the range of data into intervals. Each bin represents a range of values in the dataset.\n",
    "plt.title('Distribution of Customer Tenure')\n",
    "plt.xlabel('Tenure (Years)')\n",
    "plt.ylabel('Number of Customers')\n",
    "plt.show()"
   ]
  },
  {
   "cell_type": "code",
   "execution_count": 220,
   "id": "a5fd430b-01f4-47ed-883a-0362a560e322",
   "metadata": {},
   "outputs": [],
   "source": [
    "tenure_product_analysis = comb_df.groupby('Tenure')['NumOfProducts'].mean().reset_index()"
   ]
  },
  {
   "cell_type": "code",
   "execution_count": 221,
   "id": "9557eaed-0941-4b8c-b5b6-6c29a5adb316",
   "metadata": {},
   "outputs": [
    {
     "data": {
      "image/png": "[encoded data removed]",
      "text/plain": [
       "<Figure size 1600x600 with 1 Axes>"
      ]
     },
     "metadata": {},
     "output_type": "display_data"
    }
   ],
   "source": [
    "Sb.set(style=\"whitegrid\")\n",
    "\n",
    "# Create the figure with a larger size for readability\n",
    "plt.figure(figsize=(16, 6))\n",
    "\n",
    "# Create the line plot with markers\n",
    "Sb.lineplot(x='Tenure', y='NumOfProducts', data=tenure_product_analysis, \n",
    "             marker='o', color='teal', lw=2, markersize=7)\n",
    "\n",
    "# Set the title and labels with larger font size\n",
    "plt.title('Average Number of Products Owned by Tenure', fontsize=18)\n",
    "plt.xlabel('Tenure (Years)', fontsize=14)\n",
    "plt.ylabel('Average Number of Products', fontsize=14)\n",
    "\n",
    "# Add gridlines for better readability\n",
    "plt.grid(True, linestyle='--', alpha=0.6)\n",
    "\n",
    "# Increase font size for tick labels\n",
    "plt.tick_params(axis='both', labelsize=12)\n",
    "\n",
    "# Show the plot with tight layout for proper spacing\n",
    "plt.tight_layout()\n",
    "\n",
    "# Display the plot\n",
    "plt.show()"
   ]
  },
  {
   "cell_type": "code",
   "execution_count": 222,
   "id": "093e579d-e3f9-45e0-a4d1-a49a2d7b5e3b",
   "metadata": {},
   "outputs": [],
   "source": [
    "credit_card_analysis = comb_df.groupby('Tenure')['HasCrCard'].mean().reset_index()"
   ]
  },
  {
   "cell_type": "code",
   "execution_count": 223,
   "id": "e903637c-b8a2-4c11-8013-55d233b691ce",
   "metadata": {},
   "outputs": [
    {
     "data": {
      "text/plain": [
       "Tenure\n",
       "0     219\n",
       "1     569\n",
       "2     561\n",
       "3     524\n",
       "4     500\n",
       "5     506\n",
       "6     499\n",
       "7     535\n",
       "8     519\n",
       "9     471\n",
       "10    249\n",
       "Name: HasCrCard, dtype: int64"
      ]
     },
     "execution_count": 223,
     "metadata": {},
     "output_type": "execute_result"
    }
   ],
   "source": [
    "comb_df.groupby('Tenure')['HasCrCard'].sum()"
   ]
  },
  {
   "cell_type": "code",
   "execution_count": 224,
   "id": "afc61054-0dda-425d-ba27-db0f22dc08ea",
   "metadata": {},
   "outputs": [
    {
     "data": {
      "text/plain": [
       "Tenure\n",
       "0     219\n",
       "1     569\n",
       "2     561\n",
       "3     524\n",
       "4     500\n",
       "5     506\n",
       "6     499\n",
       "7     535\n",
       "8     519\n",
       "9     471\n",
       "10    249\n",
       "Name: IsActiveMember, dtype: int64"
      ]
     },
     "execution_count": 224,
     "metadata": {},
     "output_type": "execute_result"
    }
   ],
   "source": [
    "comb_df.groupby('Tenure')['IsActiveMember'].sum()"
   ]
  },
  {
   "cell_type": "code",
   "execution_count": 225,
   "id": "ded62499-58a8-4ce0-8234-c953bc150705",
   "metadata": {},
   "outputs": [
    {
     "data": {
      "image/png": "[encoded data removed]",
      "text/plain": [
       "<Figure size 1000x600 with 1 Axes>"
      ]
     },
     "metadata": {},
     "output_type": "display_data"
    }
   ],
   "source": [
    "plt.figure(figsize=(10, 6))\n",
    "Sb.barplot(x='Tenure', y='HasCrCard', data=credit_card_analysis)\n",
    "plt.title('Percentage of Customers with a Credit Card by Tenure')\n",
    "plt.xlabel('Tenure (Years)')\n",
    "plt.ylabel('Percentage with Credit Card')\n",
    "plt.show()"
   ]
  },
  {
   "cell_type": "code",
   "execution_count": 226,
   "id": "4aed2fd1-0880-4009-b438-d713d9448fc2",
   "metadata": {},
   "outputs": [],
   "source": [
    "active_member_analysis = pd.DataFrame(comb_df)"
   ]
  },
  {
   "cell_type": "code",
   "execution_count": 227,
   "id": "7ff4b19c-b5e6-46a1-a77f-65ef57d27017",
   "metadata": {},
   "outputs": [
    {
     "data": {
      "text/html": [
       "<div>\n",
       "<style scoped>\n",
       "    .dataframe tbody tr th:only-of-type {\n",
       "        vertical-align: middle;\n",
       "    }\n",
       "\n",
       "    .dataframe tbody tr th {\n",
       "        vertical-align: top;\n",
       "    }\n",
       "\n",
       "    .dataframe thead th {\n",
       "        text-align: right;\n",
       "    }\n",
       "</style>\n",
       "<table border=\"1\" class=\"dataframe\">\n",
       "  <thead>\n",
       "    <tr style=\"text-align: right;\">\n",
       "      <th></th>\n",
       "      <th>CustomerId</th>\n",
       "      <th>Surname</th>\n",
       "      <th>CreditScore</th>\n",
       "      <th>Geography</th>\n",
       "      <th>Gender</th>\n",
       "      <th>Age</th>\n",
       "      <th>Tenure</th>\n",
       "      <th>EstimatedSalary</th>\n",
       "      <th>Balance</th>\n",
       "      <th>NumOfProducts</th>\n",
       "      <th>HasCrCard</th>\n",
       "      <th>IsActiveMember</th>\n",
       "      <th>Exited</th>\n",
       "    </tr>\n",
       "  </thead>\n",
       "  <tbody>\n",
       "    <tr>\n",
       "      <th>0</th>\n",
       "      <td>15634602</td>\n",
       "      <td>Hargrave</td>\n",
       "      <td>619</td>\n",
       "      <td>France</td>\n",
       "      <td>Female</td>\n",
       "      <td>42</td>\n",
       "      <td>2</td>\n",
       "      <td>101348.88</td>\n",
       "      <td>0.00</td>\n",
       "      <td>1</td>\n",
       "      <td>1</td>\n",
       "      <td>1</td>\n",
       "      <td>1</td>\n",
       "    </tr>\n",
       "    <tr>\n",
       "      <th>1</th>\n",
       "      <td>15634602</td>\n",
       "      <td>Hargrave</td>\n",
       "      <td>619</td>\n",
       "      <td>France</td>\n",
       "      <td>Female</td>\n",
       "      <td>42</td>\n",
       "      <td>2</td>\n",
       "      <td>101348.88</td>\n",
       "      <td>0.00</td>\n",
       "      <td>1</td>\n",
       "      <td>1</td>\n",
       "      <td>1</td>\n",
       "      <td>1</td>\n",
       "    </tr>\n",
       "    <tr>\n",
       "      <th>2</th>\n",
       "      <td>15647311</td>\n",
       "      <td>Hill</td>\n",
       "      <td>608</td>\n",
       "      <td>Spain</td>\n",
       "      <td>Female</td>\n",
       "      <td>41</td>\n",
       "      <td>1</td>\n",
       "      <td>112542.58</td>\n",
       "      <td>83807.86</td>\n",
       "      <td>1</td>\n",
       "      <td>1</td>\n",
       "      <td>1</td>\n",
       "      <td>0</td>\n",
       "    </tr>\n",
       "    <tr>\n",
       "      <th>3</th>\n",
       "      <td>15619304</td>\n",
       "      <td>Onio</td>\n",
       "      <td>502</td>\n",
       "      <td>French</td>\n",
       "      <td>Female</td>\n",
       "      <td>42</td>\n",
       "      <td>8</td>\n",
       "      <td>113931.57</td>\n",
       "      <td>159660.80</td>\n",
       "      <td>3</td>\n",
       "      <td>0</td>\n",
       "      <td>0</td>\n",
       "      <td>1</td>\n",
       "    </tr>\n",
       "    <tr>\n",
       "      <th>4</th>\n",
       "      <td>15701354</td>\n",
       "      <td>Boni</td>\n",
       "      <td>699</td>\n",
       "      <td>France</td>\n",
       "      <td>Female</td>\n",
       "      <td>39</td>\n",
       "      <td>1</td>\n",
       "      <td>93826.63</td>\n",
       "      <td>0.00</td>\n",
       "      <td>2</td>\n",
       "      <td>0</td>\n",
       "      <td>0</td>\n",
       "      <td>0</td>\n",
       "    </tr>\n",
       "  </tbody>\n",
       "</table>\n",
       "</div>"
      ],
      "text/plain": [
       "   CustomerId   Surname  CreditScore Geography  Gender  Age  Tenure  \\\n",
       "0    15634602  Hargrave          619    France  Female   42       2   \n",
       "1    15634602  Hargrave          619    France  Female   42       2   \n",
       "2    15647311      Hill          608     Spain  Female   41       1   \n",
       "3    15619304      Onio          502    French  Female   42       8   \n",
       "4    15701354      Boni          699    France  Female   39       1   \n",
       "\n",
       "   EstimatedSalary    Balance  NumOfProducts  HasCrCard  IsActiveMember  \\\n",
       "0        101348.88       0.00              1          1               1   \n",
       "1        101348.88       0.00              1          1               1   \n",
       "2        112542.58   83807.86              1          1               1   \n",
       "3        113931.57  159660.80              3          0               0   \n",
       "4         93826.63       0.00              2          0               0   \n",
       "\n",
       "   Exited  \n",
       "0       1  \n",
       "1       1  \n",
       "2       0  \n",
       "3       1  \n",
       "4       0  "
      ]
     },
     "execution_count": 227,
     "metadata": {},
     "output_type": "execute_result"
    }
   ],
   "source": [
    "active_member_analysis.head()"
   ]
  },
  {
   "cell_type": "code",
   "execution_count": 228,
   "id": "6aef8bd7-f4a2-4efc-bcca-9da8b30838bf",
   "metadata": {},
   "outputs": [],
   "source": [
    "active_member_analysis['Tenure'] = active_member_analysis['Tenure'].round().astype(int)"
   ]
  },
  {
   "cell_type": "code",
   "execution_count": 229,
   "id": "8b25ec64-9eed-4fbd-87fc-02a4f3781a62",
   "metadata": {
    "scrolled": true
   },
   "outputs": [
    {
     "data": {
      "text/plain": [
       "Tenure\n",
       "0     219\n",
       "1     569\n",
       "2     561\n",
       "3     524\n",
       "4     500\n",
       "5     506\n",
       "6     499\n",
       "7     535\n",
       "8     519\n",
       "9     471\n",
       "10    249\n",
       "Name: IsActiveMember, dtype: int64"
      ]
     },
     "execution_count": 229,
     "metadata": {},
     "output_type": "execute_result"
    }
   ],
   "source": [
    "comb_df.groupby('Tenure')['IsActiveMember'].sum()"
   ]
  },
  {
   "cell_type": "code",
   "execution_count": 230,
   "id": "ac167feb-d71b-4bc4-8783-b35ffa788b72",
   "metadata": {},
   "outputs": [],
   "source": [
    "active_member_analysis = comb_df.groupby('Tenure')['IsActiveMember'].mean().reset_index()"
   ]
  },
  {
   "cell_type": "code",
   "execution_count": 231,
   "id": "ee407ef5-56f0-444b-afb5-e47f65a7b3f9",
   "metadata": {},
   "outputs": [
    {
     "data": {
      "image/png": "[encoded data removed]",
      "text/plain": [
       "<Figure size 1600x600 with 1 Axes>"
      ]
     },
     "metadata": {},
     "output_type": "display_data"
    }
   ],
   "source": [
    "plt.figure(figsize=(16, 6))\n",
    "Sb.lineplot(x='Tenure', y='IsActiveMember', data=active_member_analysis)\n",
    "plt.title('Percentage of Active Members by Tenure')\n",
    "plt.xlabel('Tenure (Years)')\n",
    "plt.ylabel('Percentage of Active Members')\n",
    "plt.show()"
   ]
  },
  {
   "cell_type": "markdown",
   "id": "fe1b6065-ceae-4488-918e-f2b1c443c87f",
   "metadata": {},
   "source": [
    "## Financial Performance:\n",
    "Explore credit score distribution and identify which customer segments (e.g., age, gender, geography) tend to have higher or lower credit scores.\n",
    "Analyze customer balance and estimated salary patterns and compare them across different demographic groups.\n"
   ]
  },
  {
   "cell_type": "code",
   "execution_count": 232,
   "id": "4ad61c8c-88b2-4363-98b2-5d3e3427410a",
   "metadata": {},
   "outputs": [
    {
     "data": {
      "text/plain": [
       "Tenure\n",
       "0     269294\n",
       "1     671515\n",
       "2     684787\n",
       "3     656385\n",
       "4     646712\n",
       "5     658334\n",
       "6     626017\n",
       "7     667795\n",
       "8     663943\n",
       "9     643180\n",
       "10    320321\n",
       "Name: CreditScore, dtype: int64"
      ]
     },
     "execution_count": 232,
     "metadata": {},
     "output_type": "execute_result"
    }
   ],
   "source": [
    "comb_df.groupby('Tenure')['CreditScore'].sum()"
   ]
  },
  {
   "cell_type": "code",
   "execution_count": 233,
   "id": "c6ec4818-cc9c-4c35-855d-9c1f832766e6",
   "metadata": {},
   "outputs": [],
   "source": [
    "comb_df['CreditScore'] = comb_df['CreditScore'].round()"
   ]
  },
  {
   "cell_type": "code",
   "execution_count": 234,
   "id": "06f94ed2-7981-4d38-844a-633e20f14a00",
   "metadata": {},
   "outputs": [],
   "source": [
    "Tenure_credit_score_analysis = comb_df.groupby('Tenure')['CreditScore'].mean().reset_index()"
   ]
  },
  {
   "cell_type": "code",
   "execution_count": 237,
   "id": "ad547b87-5714-404c-a873-a5d2e1b90cda",
   "metadata": {},
   "outputs": [
    {
     "data": {
      "text/plain": [
       "Tenure\n",
       "0     32989990.09\n",
       "1     81304822.67\n",
       "2     80527928.54\n",
       "3     78367072.42\n",
       "4     73635169.10\n",
       "5     77361612.23\n",
       "6     71948612.53\n",
       "7     77667080.19\n",
       "8     79885013.21\n",
       "9     75337543.31\n",
       "10    36224476.96\n",
       "Name: Balance, dtype: float64"
      ]
     },
     "execution_count": 237,
     "metadata": {},
     "output_type": "execute_result"
    }
   ],
   "source": [
    "comb_df.groupby('Tenure')['Balance'].sum()"
   ]
  },
  {
   "cell_type": "code",
   "execution_count": 238,
   "id": "ca8ebf2c-cd64-428b-bc53-be26e687ee93",
   "metadata": {},
   "outputs": [],
   "source": [
    "comb_df['Balance'] = comb_df['Balance'].round()"
   ]
  },
  {
   "cell_type": "code",
   "execution_count": 239,
   "id": "df763ee5-4bba-4b2a-8f0f-1e4407f48e98",
   "metadata": {},
   "outputs": [],
   "source": [
    "Tenure_balance_analysis = comb_df.groupby('Tenure')['Balance'].mean().reset_index()"
   ]
  },
  {
   "cell_type": "code",
   "execution_count": 274,
   "id": "2f4fcfec-25a0-4314-bdb5-dc76c40b0692",
   "metadata": {},
   "outputs": [
    {
     "data": {
      "image/png": "[encoded data removed]",
      "text/plain": [
       "<Figure size 1000x600 with 1 Axes>"
      ]
     },
     "metadata": {},
     "output_type": "display_data"
    }
   ],
   "source": [
    "plt.figure(figsize=(10, 6))\n",
    "sorted_tenure = Tenure_credit_score_analysis.sort_values(by='Tenure', ascending=True)\n",
    "Sb.barplot(x='Tenure', y='Balance', data=Tenure_balance_analysis, color= 'Green')\n",
    "plt.title('Average Balance by Tenure')\n",
    "plt.xlabel('Tenure (Years)')\n",
    "plt.ylabel('Average Balance')\n",
    "plt.show()"
   ]
  },
  {
   "cell_type": "code",
   "execution_count": 297,
   "id": "8b60e82c-72bd-43dd-9dfd-7a5d8d1d53be",
   "metadata": {},
   "outputs": [],
   "source": [
    "def categorize_customer(tenure):\n",
    "    if tenure < 5:\n",
    "        return 'Short Term'\n",
    "    else:\n",
    "        return 'Long Term'\n",
    "\n",
    "comb_df['CustomerType'] = comb_df['Tenure'].apply(categorize_customer)"
   ]
  },
  {
   "cell_type": "code",
   "execution_count": 298,
   "id": "7926c23c-4c5b-41bb-b8aa-ed7f4edf72ca",
   "metadata": {},
   "outputs": [
    {
     "data": {
      "text/html": [
       "<div>\n",
       "<style scoped>\n",
       "    .dataframe tbody tr th:only-of-type {\n",
       "        vertical-align: middle;\n",
       "    }\n",
       "\n",
       "    .dataframe tbody tr th {\n",
       "        vertical-align: top;\n",
       "    }\n",
       "\n",
       "    .dataframe thead th {\n",
       "        text-align: right;\n",
       "    }\n",
       "</style>\n",
       "<table border=\"1\" class=\"dataframe\">\n",
       "  <thead>\n",
       "    <tr style=\"text-align: right;\">\n",
       "      <th></th>\n",
       "      <th>Tenure</th>\n",
       "      <th>CustomerType</th>\n",
       "    </tr>\n",
       "  </thead>\n",
       "  <tbody>\n",
       "    <tr>\n",
       "      <th>0</th>\n",
       "      <td>2</td>\n",
       "      <td>Short Term</td>\n",
       "    </tr>\n",
       "    <tr>\n",
       "      <th>1</th>\n",
       "      <td>2</td>\n",
       "      <td>Short Term</td>\n",
       "    </tr>\n",
       "    <tr>\n",
       "      <th>2</th>\n",
       "      <td>1</td>\n",
       "      <td>Short Term</td>\n",
       "    </tr>\n",
       "    <tr>\n",
       "      <th>3</th>\n",
       "      <td>8</td>\n",
       "      <td>Long Term</td>\n",
       "    </tr>\n",
       "    <tr>\n",
       "      <th>4</th>\n",
       "      <td>1</td>\n",
       "      <td>Short Term</td>\n",
       "    </tr>\n",
       "  </tbody>\n",
       "</table>\n",
       "</div>"
      ],
      "text/plain": [
       "   Tenure CustomerType\n",
       "0       2   Short Term\n",
       "1       2   Short Term\n",
       "2       1   Short Term\n",
       "3       8    Long Term\n",
       "4       1   Short Term"
      ]
     },
     "execution_count": 298,
     "metadata": {},
     "output_type": "execute_result"
    }
   ],
   "source": [
    "comb_df[['Tenure', 'CustomerType']].head()"
   ]
  },
  {
   "cell_type": "code",
   "execution_count": 299,
   "id": "2d37fd8b-41df-44e3-b5c8-316edf169672",
   "metadata": {},
   "outputs": [],
   "source": [
    "Tenure_summary = comb_df.groupby('Tenure')[['CreditScore', 'Balance', 'NumOfProducts']].mean()"
   ]
  },
  {
   "cell_type": "code",
   "execution_count": 300,
   "id": "587002da-1516-4732-ac57-46879387a0cd",
   "metadata": {},
   "outputs": [],
   "source": [
    "short_term_customers = comb_df[comb_df['Tenure'] < 5]"
   ]
  },
  {
   "cell_type": "code",
   "execution_count": 301,
   "id": "6033089e-5784-4a3f-a648-0863d9ba0d42",
   "metadata": {},
   "outputs": [
    {
     "data": {
      "text/plain": [
       "CreditScore      4498\n",
       "Balance          4498\n",
       "NumOfProducts    4498\n",
       "dtype: int64"
      ]
     },
     "execution_count": 301,
     "metadata": {},
     "output_type": "execute_result"
    }
   ],
   "source": [
    "short_term_customers[['CreditScore', 'Balance', 'NumOfProducts']].count()"
   ]
  },
  {
   "cell_type": "code",
   "execution_count": 302,
   "id": "584f72e5-ec08-486b-8eb6-13c686ce1736",
   "metadata": {},
   "outputs": [],
   "source": [
    "long_term_customers = comb_df[comb_df['Tenure'] > 5]"
   ]
  },
  {
   "cell_type": "code",
   "execution_count": 303,
   "id": "7844709c-3f50-49d1-abd0-d9a89b998ede",
   "metadata": {},
   "outputs": [
    {
     "data": {
      "text/plain": [
       "CreditScore      4494\n",
       "Balance          4494\n",
       "NumOfProducts    4494\n",
       "dtype: int64"
      ]
     },
     "execution_count": 303,
     "metadata": {},
     "output_type": "execute_result"
    }
   ],
   "source": [
    "long_term_customers[['CreditScore', 'Balance', 'NumOfProducts']].count()"
   ]
  },
  {
   "cell_type": "code",
   "execution_count": 304,
   "id": "f68dc492-ca66-4415-a45b-175381fa5e83",
   "metadata": {},
   "outputs": [],
   "source": [
    "tenure_counts = short_term_customers['Tenure'].value_counts().sort_index()"
   ]
  },
  {
   "cell_type": "code",
   "execution_count": 305,
   "id": "282ba9aa-a014-45e2-acac-60c67f519cec",
   "metadata": {},
   "outputs": [
    {
     "data": {
      "image/png": "[encoded data removed]",
      "text/plain": [
       "<Figure size 900x500 with 1 Axes>"
      ]
     },
     "metadata": {},
     "output_type": "display_data"
    }
   ],
   "source": [
    "plt.figure(figsize=(9, 5))\n",
    "Sb.barplot(x=tenure_counts.index, y=tenure_counts.values, color='skyblue')  # 'x' = Tenure, 'y' = count of customers\n",
    "plt.title('Short-Term Customers by Tenure')\n",
    "plt.xlabel('Tenure (Years)')\n",
    "plt.ylabel('Number of Customers')\n",
    "plt.show()"
   ]
  },
  {
   "cell_type": "code",
   "execution_count": 306,
   "id": "5a1e941e-3283-4a45-a601-d7ba19ad274a",
   "metadata": {},
   "outputs": [],
   "source": [
    "long_term_customers = comb_df[comb_df['Tenure'] >= 5]"
   ]
  },
  {
   "cell_type": "code",
   "execution_count": 307,
   "id": "98dedbee-3e91-43a6-8d75-4b9691532200",
   "metadata": {},
   "outputs": [],
   "source": [
    "tenure_range_counts = long_term_customers['Tenure'].value_counts().sort_index()"
   ]
  },
  {
   "cell_type": "code",
   "execution_count": 308,
   "id": "fc90c8b6-399d-43c0-b58c-cc750712e0ac",
   "metadata": {},
   "outputs": [
    {
     "data": {
      "image/png": "[encoded data removed]",
      "text/plain": [
       "<Figure size 1000x600 with 1 Axes>"
      ]
     },
     "metadata": {},
     "output_type": "display_data"
    }
   ],
   "source": [
    "plt.figure(figsize=(10, 6))\n",
    "Sb.barplot(x=tenure_counts.index, y=tenure_counts.values)  # 'x' = Tenure, 'y' = count of customers\n",
    "plt.title('Long-Term Customers by Tenure')\n",
    "plt.xlabel('Tenure (Years)')\n",
    "plt.ylabel('Number of Customers')\n",
    "plt.show()"
   ]
  },
  {
   "cell_type": "markdown",
   "id": "a5b7002d-0ae1-4998-8f7a-c41c9698322e",
   "metadata": {},
   "source": [
    "## Exited Customers Analysis:\r\n",
    "Compare the financial and demographic characteristics of customers who exited the bank versus those who remain active.\r\n",
    "Identify possible factors (e.g., age, credit score, balance) associated with customers exiting the bank.\r\n"
   ]
  },
  {
   "cell_type": "code",
   "execution_count": 253,
   "id": "efdcdaa9-96b6-40a7-a356-f14726b66a74",
   "metadata": {},
   "outputs": [
    {
     "ename": "ValueError",
     "evalue": "Could not interpret value `AgeGroup` for `x`. An entry with this name does not appear in `data`.",
     "output_type": "error",
     "traceback": [
      "\u001b[1;31m---------------------------------------------------------------------------\u001b[0m",
      "\u001b[1;31mValueError\u001b[0m                                Traceback (most recent call last)",
      "Cell \u001b[1;32mIn[253], line 3\u001b[0m\n\u001b[0;32m      1\u001b[0m plt\u001b[38;5;241m.\u001b[39mfigure(figsize\u001b[38;5;241m=\u001b[39m(\u001b[38;5;241m10\u001b[39m, \u001b[38;5;241m6\u001b[39m))\n\u001b[1;32m----> 3\u001b[0m Sb\u001b[38;5;241m.\u001b[39mbarplot(data\u001b[38;5;241m=\u001b[39mcomb_df, x\u001b[38;5;241m=\u001b[39m\u001b[38;5;124m'\u001b[39m\u001b[38;5;124mAgeGroup\u001b[39m\u001b[38;5;124m'\u001b[39m, y\u001b[38;5;241m=\u001b[39m\u001b[38;5;124m'\u001b[39m\u001b[38;5;124mCreditScore\u001b[39m\u001b[38;5;124m'\u001b[39m, palette\u001b[38;5;241m=\u001b[39m\u001b[38;5;124m'\u001b[39m\u001b[38;5;124mSet2\u001b[39m\u001b[38;5;124m'\u001b[39m)\n\u001b[0;32m      5\u001b[0m plt\u001b[38;5;241m.\u001b[39mtitle(\u001b[38;5;124m'\u001b[39m\u001b[38;5;124mCredit Score Distribution by Age Group\u001b[39m\u001b[38;5;124m'\u001b[39m, fontsize\u001b[38;5;241m=\u001b[39m\u001b[38;5;241m16\u001b[39m)\n\u001b[0;32m      6\u001b[0m plt\u001b[38;5;241m.\u001b[39mxlabel(\u001b[38;5;124m'\u001b[39m\u001b[38;5;124mAge Group\u001b[39m\u001b[38;5;124m'\u001b[39m, fontsize\u001b[38;5;241m=\u001b[39m\u001b[38;5;241m14\u001b[39m)\n",
      "File \u001b[1;32m~\\Desktop\\Anaconda\\Lib\\site-packages\\seaborn\\categorical.py:2341\u001b[0m, in \u001b[0;36mbarplot\u001b[1;34m(data, x, y, hue, order, hue_order, estimator, errorbar, n_boot, seed, units, weights, orient, color, palette, saturation, fill, hue_norm, width, dodge, gap, log_scale, native_scale, formatter, legend, capsize, err_kws, ci, errcolor, errwidth, ax, **kwargs)\u001b[0m\n\u001b[0;32m   2338\u001b[0m \u001b[38;5;28;01mif\u001b[39;00m estimator \u001b[38;5;129;01mis\u001b[39;00m \u001b[38;5;28mlen\u001b[39m:\n\u001b[0;32m   2339\u001b[0m     estimator \u001b[38;5;241m=\u001b[39m \u001b[38;5;124m\"\u001b[39m\u001b[38;5;124msize\u001b[39m\u001b[38;5;124m\"\u001b[39m\n\u001b[1;32m-> 2341\u001b[0m p \u001b[38;5;241m=\u001b[39m _CategoricalAggPlotter(\n\u001b[0;32m   2342\u001b[0m     data\u001b[38;5;241m=\u001b[39mdata,\n\u001b[0;32m   2343\u001b[0m     variables\u001b[38;5;241m=\u001b[39m\u001b[38;5;28mdict\u001b[39m(x\u001b[38;5;241m=\u001b[39mx, y\u001b[38;5;241m=\u001b[39my, hue\u001b[38;5;241m=\u001b[39mhue, units\u001b[38;5;241m=\u001b[39munits, weight\u001b[38;5;241m=\u001b[39mweights),\n\u001b[0;32m   2344\u001b[0m     order\u001b[38;5;241m=\u001b[39morder,\n\u001b[0;32m   2345\u001b[0m     orient\u001b[38;5;241m=\u001b[39morient,\n\u001b[0;32m   2346\u001b[0m     color\u001b[38;5;241m=\u001b[39mcolor,\n\u001b[0;32m   2347\u001b[0m     legend\u001b[38;5;241m=\u001b[39mlegend,\n\u001b[0;32m   2348\u001b[0m )\n\u001b[0;32m   2350\u001b[0m \u001b[38;5;28;01mif\u001b[39;00m ax \u001b[38;5;129;01mis\u001b[39;00m \u001b[38;5;28;01mNone\u001b[39;00m:\n\u001b[0;32m   2351\u001b[0m     ax \u001b[38;5;241m=\u001b[39m plt\u001b[38;5;241m.\u001b[39mgca()\n",
      "File \u001b[1;32m~\\Desktop\\Anaconda\\Lib\\site-packages\\seaborn\\categorical.py:67\u001b[0m, in \u001b[0;36m_CategoricalPlotter.__init__\u001b[1;34m(self, data, variables, order, orient, require_numeric, color, legend)\u001b[0m\n\u001b[0;32m     56\u001b[0m \u001b[38;5;28;01mdef\u001b[39;00m \u001b[38;5;21m__init__\u001b[39m(\n\u001b[0;32m     57\u001b[0m     \u001b[38;5;28mself\u001b[39m,\n\u001b[0;32m     58\u001b[0m     data\u001b[38;5;241m=\u001b[39m\u001b[38;5;28;01mNone\u001b[39;00m,\n\u001b[1;32m   (...)\u001b[0m\n\u001b[0;32m     64\u001b[0m     legend\u001b[38;5;241m=\u001b[39m\u001b[38;5;124m\"\u001b[39m\u001b[38;5;124mauto\u001b[39m\u001b[38;5;124m\"\u001b[39m,\n\u001b[0;32m     65\u001b[0m ):\n\u001b[1;32m---> 67\u001b[0m     \u001b[38;5;28msuper\u001b[39m()\u001b[38;5;241m.\u001b[39m\u001b[38;5;21m__init__\u001b[39m(data\u001b[38;5;241m=\u001b[39mdata, variables\u001b[38;5;241m=\u001b[39mvariables)\n\u001b[0;32m     69\u001b[0m     \u001b[38;5;66;03m# This method takes care of some bookkeeping that is necessary because the\u001b[39;00m\n\u001b[0;32m     70\u001b[0m     \u001b[38;5;66;03m# original categorical plots (prior to the 2021 refactor) had some rules that\u001b[39;00m\n\u001b[0;32m     71\u001b[0m     \u001b[38;5;66;03m# don't fit exactly into VectorPlotter logic. It may be wise to have a second\u001b[39;00m\n\u001b[1;32m   (...)\u001b[0m\n\u001b[0;32m     76\u001b[0m     \u001b[38;5;66;03m# default VectorPlotter rules. If we do decide to make orient part of the\u001b[39;00m\n\u001b[0;32m     77\u001b[0m     \u001b[38;5;66;03m# _base variable assignment, we'll want to figure out how to express that.\u001b[39;00m\n\u001b[0;32m     78\u001b[0m     \u001b[38;5;28;01mif\u001b[39;00m \u001b[38;5;28mself\u001b[39m\u001b[38;5;241m.\u001b[39minput_format \u001b[38;5;241m==\u001b[39m \u001b[38;5;124m\"\u001b[39m\u001b[38;5;124mwide\u001b[39m\u001b[38;5;124m\"\u001b[39m \u001b[38;5;129;01mand\u001b[39;00m orient \u001b[38;5;129;01min\u001b[39;00m [\u001b[38;5;124m\"\u001b[39m\u001b[38;5;124mh\u001b[39m\u001b[38;5;124m\"\u001b[39m, \u001b[38;5;124m\"\u001b[39m\u001b[38;5;124my\u001b[39m\u001b[38;5;124m\"\u001b[39m]:\n",
      "File \u001b[1;32m~\\Desktop\\Anaconda\\Lib\\site-packages\\seaborn\\_base.py:634\u001b[0m, in \u001b[0;36mVectorPlotter.__init__\u001b[1;34m(self, data, variables)\u001b[0m\n\u001b[0;32m    629\u001b[0m \u001b[38;5;66;03m# var_ordered is relevant only for categorical axis variables, and may\u001b[39;00m\n\u001b[0;32m    630\u001b[0m \u001b[38;5;66;03m# be better handled by an internal axis information object that tracks\u001b[39;00m\n\u001b[0;32m    631\u001b[0m \u001b[38;5;66;03m# such information and is set up by the scale_* methods. The analogous\u001b[39;00m\n\u001b[0;32m    632\u001b[0m \u001b[38;5;66;03m# information for numeric axes would be information about log scales.\u001b[39;00m\n\u001b[0;32m    633\u001b[0m \u001b[38;5;28mself\u001b[39m\u001b[38;5;241m.\u001b[39m_var_ordered \u001b[38;5;241m=\u001b[39m {\u001b[38;5;124m\"\u001b[39m\u001b[38;5;124mx\u001b[39m\u001b[38;5;124m\"\u001b[39m: \u001b[38;5;28;01mFalse\u001b[39;00m, \u001b[38;5;124m\"\u001b[39m\u001b[38;5;124my\u001b[39m\u001b[38;5;124m\"\u001b[39m: \u001b[38;5;28;01mFalse\u001b[39;00m}  \u001b[38;5;66;03m# alt., used DefaultDict\u001b[39;00m\n\u001b[1;32m--> 634\u001b[0m \u001b[38;5;28mself\u001b[39m\u001b[38;5;241m.\u001b[39massign_variables(data, variables)\n\u001b[0;32m    636\u001b[0m \u001b[38;5;66;03m# TODO Lots of tests assume that these are called to initialize the\u001b[39;00m\n\u001b[0;32m    637\u001b[0m \u001b[38;5;66;03m# mappings to default values on class initialization. I'd prefer to\u001b[39;00m\n\u001b[0;32m    638\u001b[0m \u001b[38;5;66;03m# move away from that and only have a mapping when explicitly called.\u001b[39;00m\n\u001b[0;32m    639\u001b[0m \u001b[38;5;28;01mfor\u001b[39;00m var \u001b[38;5;129;01min\u001b[39;00m [\u001b[38;5;124m\"\u001b[39m\u001b[38;5;124mhue\u001b[39m\u001b[38;5;124m\"\u001b[39m, \u001b[38;5;124m\"\u001b[39m\u001b[38;5;124msize\u001b[39m\u001b[38;5;124m\"\u001b[39m, \u001b[38;5;124m\"\u001b[39m\u001b[38;5;124mstyle\u001b[39m\u001b[38;5;124m\"\u001b[39m]:\n",
      "File \u001b[1;32m~\\Desktop\\Anaconda\\Lib\\site-packages\\seaborn\\_base.py:679\u001b[0m, in \u001b[0;36mVectorPlotter.assign_variables\u001b[1;34m(self, data, variables)\u001b[0m\n\u001b[0;32m    674\u001b[0m \u001b[38;5;28;01melse\u001b[39;00m:\n\u001b[0;32m    675\u001b[0m     \u001b[38;5;66;03m# When dealing with long-form input, use the newer PlotData\u001b[39;00m\n\u001b[0;32m    676\u001b[0m     \u001b[38;5;66;03m# object (internal but introduced for the objects interface)\u001b[39;00m\n\u001b[0;32m    677\u001b[0m     \u001b[38;5;66;03m# to centralize / standardize data consumption logic.\u001b[39;00m\n\u001b[0;32m    678\u001b[0m     \u001b[38;5;28mself\u001b[39m\u001b[38;5;241m.\u001b[39minput_format \u001b[38;5;241m=\u001b[39m \u001b[38;5;124m\"\u001b[39m\u001b[38;5;124mlong\u001b[39m\u001b[38;5;124m\"\u001b[39m\n\u001b[1;32m--> 679\u001b[0m     plot_data \u001b[38;5;241m=\u001b[39m PlotData(data, variables)\n\u001b[0;32m    680\u001b[0m     frame \u001b[38;5;241m=\u001b[39m plot_data\u001b[38;5;241m.\u001b[39mframe\n\u001b[0;32m    681\u001b[0m     names \u001b[38;5;241m=\u001b[39m plot_data\u001b[38;5;241m.\u001b[39mnames\n",
      "File \u001b[1;32m~\\Desktop\\Anaconda\\Lib\\site-packages\\seaborn\\_core\\data.py:58\u001b[0m, in \u001b[0;36mPlotData.__init__\u001b[1;34m(self, data, variables)\u001b[0m\n\u001b[0;32m     51\u001b[0m \u001b[38;5;28;01mdef\u001b[39;00m \u001b[38;5;21m__init__\u001b[39m(\n\u001b[0;32m     52\u001b[0m     \u001b[38;5;28mself\u001b[39m,\n\u001b[0;32m     53\u001b[0m     data: DataSource,\n\u001b[0;32m     54\u001b[0m     variables: \u001b[38;5;28mdict\u001b[39m[\u001b[38;5;28mstr\u001b[39m, VariableSpec],\n\u001b[0;32m     55\u001b[0m ):\n\u001b[0;32m     57\u001b[0m     data \u001b[38;5;241m=\u001b[39m handle_data_source(data)\n\u001b[1;32m---> 58\u001b[0m     frame, names, ids \u001b[38;5;241m=\u001b[39m \u001b[38;5;28mself\u001b[39m\u001b[38;5;241m.\u001b[39m_assign_variables(data, variables)\n\u001b[0;32m     60\u001b[0m     \u001b[38;5;28mself\u001b[39m\u001b[38;5;241m.\u001b[39mframe \u001b[38;5;241m=\u001b[39m frame\n\u001b[0;32m     61\u001b[0m     \u001b[38;5;28mself\u001b[39m\u001b[38;5;241m.\u001b[39mnames \u001b[38;5;241m=\u001b[39m names\n",
      "File \u001b[1;32m~\\Desktop\\Anaconda\\Lib\\site-packages\\seaborn\\_core\\data.py:232\u001b[0m, in \u001b[0;36mPlotData._assign_variables\u001b[1;34m(self, data, variables)\u001b[0m\n\u001b[0;32m    230\u001b[0m     \u001b[38;5;28;01melse\u001b[39;00m:\n\u001b[0;32m    231\u001b[0m         err \u001b[38;5;241m+\u001b[39m\u001b[38;5;241m=\u001b[39m \u001b[38;5;124m\"\u001b[39m\u001b[38;5;124mAn entry with this name does not appear in `data`.\u001b[39m\u001b[38;5;124m\"\u001b[39m\n\u001b[1;32m--> 232\u001b[0m     \u001b[38;5;28;01mraise\u001b[39;00m \u001b[38;5;167;01mValueError\u001b[39;00m(err)\n\u001b[0;32m    234\u001b[0m \u001b[38;5;28;01melse\u001b[39;00m:\n\u001b[0;32m    235\u001b[0m \n\u001b[0;32m    236\u001b[0m     \u001b[38;5;66;03m# Otherwise, assume the value somehow represents data\u001b[39;00m\n\u001b[0;32m    237\u001b[0m \n\u001b[0;32m    238\u001b[0m     \u001b[38;5;66;03m# Ignore empty data structures\u001b[39;00m\n\u001b[0;32m    239\u001b[0m     \u001b[38;5;28;01mif\u001b[39;00m \u001b[38;5;28misinstance\u001b[39m(val, Sized) \u001b[38;5;129;01mand\u001b[39;00m \u001b[38;5;28mlen\u001b[39m(val) \u001b[38;5;241m==\u001b[39m \u001b[38;5;241m0\u001b[39m:\n",
      "\u001b[1;31mValueError\u001b[0m: Could not interpret value `AgeGroup` for `x`. An entry with this name does not appear in `data`."
     ]
    },
    {
     "data": {
      "text/plain": [
       "<Figure size 1000x600 with 0 Axes>"
      ]
     },
     "metadata": {},
     "output_type": "display_data"
    }
   ],
   "source": [
    "plt.figure(figsize=(10, 6))\n",
    "\n",
    "Sb.barplot(data=comb_df, x='AgeGroup', y='CreditScore', palette='Set2')\n",
    "\n",
    "plt.title('Credit Score Distribution by Age Group', fontsize=16)\n",
    "plt.xlabel('Age Group', fontsize=14)\n",
    "plt.ylabel('Credit Score', fontsize=14)\n",
    "\n",
    "# Show the plot\n",
    "plt.tight_layout()\n",
    "plt.show()"
   ]
  },
  {
   "cell_type": "code",
   "execution_count": null,
   "id": "dfca261b-8f4e-4a96-9bc5-626a94a8f4fe",
   "metadata": {},
   "outputs": [],
   "source": [
    "comb_df[['Gender', 'CreditScore']].isnull().sum()"
   ]
  },
  {
   "cell_type": "code",
   "execution_count": null,
   "id": "fca4fb70-ded4-4f21-883b-0dd945a6f0c8",
   "metadata": {},
   "outputs": [],
   "source": [
    "avg_credit_score_by_gender = comb_df.groupby('Gender')['CreditScore'].mean()"
   ]
  },
  {
   "cell_type": "code",
   "execution_count": null,
   "id": "35e52e16-e71b-4724-b576-47b02fdbce3f",
   "metadata": {
    "scrolled": true
   },
   "outputs": [],
   "source": [
    "plt.figure(figsize=(8, 8))\n",
    "plt.pie(avg_credit_score_by_gender, labels=avg_credit_score_by_gender.index, autopct='%1.1f%%', startangle=90, colors=['#66b3ff', '#99ff99'])\n",
    "plt.title('Average Credit Score Distribution by Gender')\n",
    "\n",
    "plt.show()"
   ]
  },
  {
   "cell_type": "code",
   "execution_count": null,
   "id": "2652f476-9a03-494c-bb3c-c31c904f37f6",
   "metadata": {},
   "outputs": [],
   "source": [
    "comb_df.tail()"
   ]
  },
  {
   "cell_type": "code",
   "execution_count": null,
   "id": "dc7ec380-92d0-455f-9a35-9882e8e834f4",
   "metadata": {},
   "outputs": [],
   "source": [
    "# Balance distribution by Age group\n",
    "plt.figure(figsize=(10, 8))\n",
    "Sb.barplot(x='AgeGroup', y='Balance', data=comb_df)\n",
    "plt.title('Balance Distribution by Age Group')\n",
    "plt.xlabel('Age Group')\n",
    "plt.ylabel('Balance')\n",
    "plt.show()"
   ]
  },
  {
   "cell_type": "code",
   "execution_count": null,
   "id": "cbf009c3-ce4d-4c7d-8af9-0df4f1a69174",
   "metadata": {},
   "outputs": [],
   "source": [
    "gender_balance = comb_df.groupby('Gender')['Balance'].sum()"
   ]
  },
  {
   "cell_type": "code",
   "execution_count": null,
   "id": "d59038d3-4be8-49de-a4bf-8f2a21c45c9f",
   "metadata": {},
   "outputs": [],
   "source": [
    "#Creating the pie chart\n",
    "plt.figure(figsize=(8, 8))\n",
    "plt.pie(gender_balance, labels=gender_balance.index, autopct='%1.1f%%', startangle=90, colors=['#66b3ff', '#99ff99'])\n",
    "plt.title('Balance Distribution by Gender')\n",
    "plt.legend(gender_balance.index, title=\"Gender\", loc=\"upper left\", labels=[f\"{gender}: {balance:.2f}\" )\n",
    "plt.axis('equal')  # Equal aspect ratio ensures that pie chart is drawn as a circle.\n",
    "plt.show()"
   ]
  },
  {
   "cell_type": "code",
   "execution_count": null,
   "id": "99619575-6a02-410a-a489-8aa03a64472f",
   "metadata": {},
   "outputs": [],
   "source": [
    "# Balance distribution by Geography\n",
    "plt.figure(figsize=(10, 8))\n",
    "Sb.barplot(x='Geography', y='Balance', data=comb_df)\n",
    "plt.title('Balance Distribution by Geography')\n",
    "plt.xlabel('Geography')\n",
    "plt.ylabel('Balance')\n",
    "plt.show()"
   ]
  },
  {
   "cell_type": "code",
   "execution_count": null,
   "id": "0c12f982-7773-450c-96db-eda7ae25dc07",
   "metadata": {},
   "outputs": [],
   "source": [
    "comb_df.groupby('Gender')['EstimatedSalary'].sum()"
   ]
  },
  {
   "cell_type": "code",
   "execution_count": null,
   "id": "c79ac777-dbaf-41eb-9351-707bcdc737eb",
   "metadata": {},
   "outputs": [],
   "source": [
    "# Estimated Salary distribution by Gender\n",
    "plt.figure(figsize=(10, 8))\n",
    "Sb.barplot(x='Gender', y='EstimatedSalary', data=comb_df)\n",
    "plt.title('Estimated Salary Distribution by Gender')\n",
    "plt.xlabel('Gender')\n",
    "plt.ylabel('Estimated Salary')\n",
    "plt.show()"
   ]
  },
  {
   "cell_type": "code",
   "execution_count": null,
   "id": "80ccd183-7bb0-42b9-bd7e-4cf42a1501c3",
   "metadata": {},
   "outputs": [],
   "source": [
    "comb_df.groupby('Geography')['EstimatedSalary'].sum()"
   ]
  },
  {
   "cell_type": "code",
   "execution_count": null,
   "id": "e2f0b039-1bcf-4919-97d5-bd71a529438a",
   "metadata": {},
   "outputs": [],
   "source": [
    "Sb.barplot(x='Geography', y='EstimatedSalary', data=comb_df, palette='viridis')\n",
    "\n",
    "plt.title('Estimated Salary Distribution by Geography', fontsize=16)\n",
    "plt.xlabel('Geography', fontsize=14)\n",
    "plt.ylabel('Estimated Salary', fontsize=14)\n",
    "\n",
    "mean_salary = comb_df['EstimatedSalary'].mean()\n",
    "plt.axhline(mean_salary, color='red', linestyle='--', linewidth=2, label=f'Mean Salary: {mean_salary:.2f}')\n",
    "\n",
    "plt.xticks(rotation=0, ha='right')\n",
    "\n",
    "plt.legend()\n",
    "plt.tight_layout()\n",
    "plt.show()"
   ]
  },
  {
   "cell_type": "code",
   "execution_count": null,
   "id": "31013f9a-ea7f-4954-a04c-201a5a4691f2",
   "metadata": {},
   "outputs": [],
   "source": [
    "comb_df.head()"
   ]
  },
  {
   "cell_type": "markdown",
   "id": "aacbface-d397-479b-be5d-4a5191a31025",
   "metadata": {},
   "source": [
    "## Customer Segmentation:\n",
    "Based on the available data, identify distinct customer segments (e.g., high-balance vs. low-balance customers) and analyze their unique characteristics.\n",
    "Provide insights into how the bank could optimize its services for each segment, such as offering tailored products to certain demographics or improving engagement with less active members.\n"
   ]
  },
  {
   "cell_type": "code",
   "execution_count": null,
   "id": "2afd08d6-fb57-4701-8865-15f561ffb6fb",
   "metadata": {},
   "outputs": [],
   "source": [
    "def credit_score_category(score):\n",
    "    if score >= 700:\n",
    "        return 'High'\n",
    "    elif score >= 600:\n",
    "        return 'Medium'\n",
    "    else:\n",
    "        return 'Low'\n",
    "\n",
    "comb_df['CreditScoreCategory'] = comb_df['CreditScore'].apply(credit_score_category)"
   ]
  },
  {
   "cell_type": "code",
   "execution_count": null,
   "id": "0b1c33fd-67b0-40fe-8a52-1aa027078767",
   "metadata": {},
   "outputs": [],
   "source": [
    "comb_df['CreditScoreCategory'].value_counts()"
   ]
  },
  {
   "cell_type": "code",
   "execution_count": null,
   "id": "8dcce44a-4448-4f45-8704-1cf708e27b07",
   "metadata": {},
   "outputs": [],
   "source": [
    "Sb.countplot(data=comb_df, x='CreditScoreCategory')\n",
    "plt.title('Distribution of Credit Score Categories')\n",
    "plt.show()"
   ]
  },
  {
   "cell_type": "code",
   "execution_count": null,
   "id": "c363a85d-9a4d-4be8-a5c6-3a8f92a2f3b6",
   "metadata": {},
   "outputs": [],
   "source": [
    "comb_df['Balance'] = pd.to_numeric(comb_df['Balance'], errors='coerce')"
   ]
  },
  {
   "cell_type": "code",
   "execution_count": null,
   "id": "dc2669c5-1319-4aa4-babb-71f65530da37",
   "metadata": {},
   "outputs": [],
   "source": [
    "median_balance = comb_df['Balance'].median()"
   ]
  },
  {
   "cell_type": "code",
   "execution_count": null,
   "id": "2a73ea66-ef80-405f-a2eb-98e17cf740d9",
   "metadata": {},
   "outputs": [],
   "source": [
    "def balance_category(balance):\n",
    "    if balance >= median_balance:\n",
    "        return 'High Balance'\n",
    "    else:\n",
    "        return 'Low Balance'\n",
    "\n",
    "comb_df['BalanceCategory'] = comb_df['Balance'].apply(balance_category)"
   ]
  },
  {
   "cell_type": "code",
   "execution_count": null,
   "id": "b13f7b19-6915-4a07-8e60-33a486721ea6",
   "metadata": {},
   "outputs": [],
   "source": [
    "comb_df['Balance'].describe()"
   ]
  },
  {
   "cell_type": "code",
   "execution_count": null,
   "id": "fa07bfef-0803-4185-824a-5c300aed0dea",
   "metadata": {},
   "outputs": [],
   "source": [
    "Sb.countplot(data=comb_df, x='BalanceCategory')\n",
    "plt.title('Distribution of Balance Categories')\n",
    "plt.show()"
   ]
  },
  {
   "cell_type": "code",
   "execution_count": null,
   "id": "6bb1d322-6f42-4fac-a064-84aa2e517cb2",
   "metadata": {},
   "outputs": [],
   "source": [
    "def age_group(age):\n",
    "    if age < 31:\n",
    "        return 'Young Adult (18-30)'\n",
    "    elif 31 <= age <= 50:\n",
    "        return 'Mid-Life Adult (31-50)'\n",
    "    else:\n",
    "        return 'Older Adult (51+)'\n",
    "\n",
    "comb_df['AgeGroup'] = comb_df['Age'].apply(age_group)"
   ]
  },
  {
   "cell_type": "code",
   "execution_count": null,
   "id": "18d4dce8-1c00-477d-bda6-9e0925a3be1e",
   "metadata": {},
   "outputs": [],
   "source": [
    "Sb.countplot(data=comb_df, x='AgeGroup')\n",
    "plt.title('Distribution of Age Groups')\n",
    "plt.show()"
   ]
  },
  {
   "cell_type": "code",
   "execution_count": null,
   "id": "1dc58dde-5f38-4382-aac8-ea414f6bee1b",
   "metadata": {},
   "outputs": [],
   "source": [
    "comb_df['IsActiveMember'].value_counts()"
   ]
  },
  {
   "cell_type": "code",
   "execution_count": null,
   "id": "e0535aeb-03a1-4474-a1ea-661fb8cdb636",
   "metadata": {},
   "outputs": [],
   "source": [
    "Sb.countplot(data=comb_df, x='IsActiveMember')\n",
    "plt.title('Active vs Inactive Members')\n",
    "plt.show()"
   ]
  },
  {
   "cell_type": "code",
   "execution_count": null,
   "id": "1a185039-a390-461e-9943-2c29939ec77f",
   "metadata": {},
   "outputs": [],
   "source": [
    "def customer_type(tenure):\n",
    "    if tenure <= 3:\n",
    "        return 'Short Term'\n",
    "    else:\n",
    "        return 'Long Term'\n",
    "\n",
    "comb_df['CustomerType'] = comb_df['Tenure'].apply(customer_type)"
   ]
  },
  {
   "cell_type": "code",
   "execution_count": null,
   "id": "73922c7d-3c5f-4fe9-a32b-75150f07f119",
   "metadata": {},
   "outputs": [],
   "source": [
    "Sb.countplot(data=comb_df, x='CustomerType')\n",
    "plt.title('Short Term vs Long Term Customers')\n",
    "plt.show()"
   ]
  },
  {
   "cell_type": "code",
   "execution_count": null,
   "id": "6dc4aecc-d8e9-4b71-aef8-491a79eb36e5",
   "metadata": {},
   "outputs": [],
   "source": [
    "comb_df['CustomerSegment'] = comb_df['CreditScoreCategory'] + ' | ' + comb_df['BalanceCategory'] + ' | ' +comb_df['AgeGroup'] + ' | ' + comb_df['CustomerType']"
   ]
  },
  {
   "cell_type": "code",
   "execution_count": null,
   "id": "0867e708-8d53-499c-84ed-4ca15b19c26c",
   "metadata": {},
   "outputs": [],
   "source": [
    "plt.figure(figsize=(10, 6))\n",
    "Sb.countplot(data=comb_df, x='CustomerSegment')\n",
    "plt.title('Distribution of Customer Segments')\n",
    "plt.xlabel('Customer Segment')\n",
    "plt.xticks(rotation=90)\n",
    "plt.show()"
   ]
  },
  {
   "cell_type": "code",
   "execution_count": null,
   "id": "e1de9856-a305-4716-9292-e3f4ae5c061c",
   "metadata": {},
   "outputs": [],
   "source": [
    "churn_by_segment = comb_df.groupby('CustomerSegment')['Exited'].mean()"
   ]
  },
  {
   "cell_type": "code",
   "execution_count": null,
   "id": "a64e3c52-64df-4b45-a7f5-f65046b7793e",
   "metadata": {},
   "outputs": [],
   "source": [
    "churn_by_segment"
   ]
  },
  {
   "cell_type": "code",
   "execution_count": null,
   "id": "63e23e6a-703a-45f6-8538-69ecdb241f85",
   "metadata": {},
   "outputs": [],
   "source": [
    "plt.figure(figsize=(10, 6))\n",
    "churn_by_segment.sort_values(ascending=False).plot(kind='bar')\n",
    "plt.title('Churn Rate by Customer Segment')\n",
    "plt.ylabel('Churn Rate')\n",
    "plt.xlabel('Customer Segment')\n",
    "plt.show()"
   ]
  },
  {
   "cell_type": "code",
   "execution_count": null,
   "id": "836e6018-05ec-4612-8a43-ae3a95579ba1",
   "metadata": {},
   "outputs": [],
   "source": [
    "comb_df.to_csv('Cleaned BankChurn Dataset.csv')"
   ]
  },
  {
   "cell_type": "code",
   "execution_count": null,
   "id": "1ff9718c-0e6b-4368-bace-e8658c679177",
   "metadata": {},
   "outputs": [],
   "source": []
  }
 ],
 "metadata": {
  "kernelspec": {
   "display_name": "Python 3 (ipykernel)",
   "language": "python",
   "name": "python3"
  },
  "language_info": {
   "codemirror_mode": {
    "name": "ipython",
    "version": 3
   },
   "file_extension": ".py",
   "mimetype": "text/x-python",
   "name": "python",
   "nbconvert_exporter": "python",
   "pygments_lexer": "ipython3",
   "version": "3.12.4"
  }
 },
 "nbformat": 4,
 "nbformat_minor": 5
}
